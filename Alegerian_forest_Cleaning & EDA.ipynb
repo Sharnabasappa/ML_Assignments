{
 "cells": [
  {
   "cell_type": "markdown",
   "id": "1d2fd4f6",
   "metadata": {},
   "source": [
    "\n",
    "\n",
    "# EDA on algerian forest dataset"
   ]
  },
  {
   "cell_type": "markdown",
   "id": "0fa5a118",
   "metadata": {},
   "source": [
    "# Problem Statement:"
   ]
  },
  {
   "cell_type": "markdown",
   "id": "6c5584a5",
   "metadata": {},
   "source": [
    "observation need to be done on dataset and predict weather there will be fire or not in forest"
   ]
  },
  {
   "cell_type": "markdown",
   "id": "c6c8571c",
   "metadata": {},
   "source": [
    "# Data Collection and reading"
   ]
  },
  {
   "cell_type": "markdown",
   "id": "8839d035",
   "metadata": {},
   "source": [
    "Importing required libraries"
   ]
  },
  {
   "cell_type": "code",
   "execution_count": 2,
   "id": "7501f442",
   "metadata": {},
   "outputs": [],
   "source": [
    "import pandas as pd\n",
    "import numpy as np\n",
    "import matplotlib.pyplot as plt\n",
    "%matplotlib inline\n",
    "import seaborn as sns\n",
    "import warnings\n",
    "warnings.filterwarnings('ignore')"
   ]
  },
  {
   "cell_type": "code",
   "execution_count": 3,
   "id": "7499ba50",
   "metadata": {},
   "outputs": [],
   "source": [
    "df= pd.read_csv('Algerian_forest_fires_dataset_UPDATE.csv', header=1)"
   ]
  },
  {
   "cell_type": "markdown",
   "id": "3d2337c5",
   "metadata": {},
   "source": [
    "Top five Records"
   ]
  },
  {
   "cell_type": "code",
   "execution_count": 4,
   "id": "2de35ac8",
   "metadata": {},
   "outputs": [
    {
     "data": {
      "text/html": [
       "<div>\n",
       "<style scoped>\n",
       "    .dataframe tbody tr th:only-of-type {\n",
       "        vertical-align: middle;\n",
       "    }\n",
       "\n",
       "    .dataframe tbody tr th {\n",
       "        vertical-align: top;\n",
       "    }\n",
       "\n",
       "    .dataframe thead th {\n",
       "        text-align: right;\n",
       "    }\n",
       "</style>\n",
       "<table border=\"1\" class=\"dataframe\">\n",
       "  <thead>\n",
       "    <tr style=\"text-align: right;\">\n",
       "      <th></th>\n",
       "      <th>day</th>\n",
       "      <th>month</th>\n",
       "      <th>year</th>\n",
       "      <th>Temperature</th>\n",
       "      <th>RH</th>\n",
       "      <th>Ws</th>\n",
       "      <th>Rain</th>\n",
       "      <th>FFMC</th>\n",
       "      <th>DMC</th>\n",
       "      <th>DC</th>\n",
       "      <th>ISI</th>\n",
       "      <th>BUI</th>\n",
       "      <th>FWI</th>\n",
       "      <th>Classes</th>\n",
       "    </tr>\n",
       "  </thead>\n",
       "  <tbody>\n",
       "    <tr>\n",
       "      <th>0</th>\n",
       "      <td>01</td>\n",
       "      <td>06</td>\n",
       "      <td>2012</td>\n",
       "      <td>29</td>\n",
       "      <td>57</td>\n",
       "      <td>18</td>\n",
       "      <td>0</td>\n",
       "      <td>65.7</td>\n",
       "      <td>3.4</td>\n",
       "      <td>7.6</td>\n",
       "      <td>1.3</td>\n",
       "      <td>3.4</td>\n",
       "      <td>0.5</td>\n",
       "      <td>not fire</td>\n",
       "    </tr>\n",
       "    <tr>\n",
       "      <th>1</th>\n",
       "      <td>02</td>\n",
       "      <td>06</td>\n",
       "      <td>2012</td>\n",
       "      <td>29</td>\n",
       "      <td>61</td>\n",
       "      <td>13</td>\n",
       "      <td>1.3</td>\n",
       "      <td>64.4</td>\n",
       "      <td>4.1</td>\n",
       "      <td>7.6</td>\n",
       "      <td>1</td>\n",
       "      <td>3.9</td>\n",
       "      <td>0.4</td>\n",
       "      <td>not fire</td>\n",
       "    </tr>\n",
       "    <tr>\n",
       "      <th>2</th>\n",
       "      <td>03</td>\n",
       "      <td>06</td>\n",
       "      <td>2012</td>\n",
       "      <td>26</td>\n",
       "      <td>82</td>\n",
       "      <td>22</td>\n",
       "      <td>13.1</td>\n",
       "      <td>47.1</td>\n",
       "      <td>2.5</td>\n",
       "      <td>7.1</td>\n",
       "      <td>0.3</td>\n",
       "      <td>2.7</td>\n",
       "      <td>0.1</td>\n",
       "      <td>not fire</td>\n",
       "    </tr>\n",
       "    <tr>\n",
       "      <th>3</th>\n",
       "      <td>04</td>\n",
       "      <td>06</td>\n",
       "      <td>2012</td>\n",
       "      <td>25</td>\n",
       "      <td>89</td>\n",
       "      <td>13</td>\n",
       "      <td>2.5</td>\n",
       "      <td>28.6</td>\n",
       "      <td>1.3</td>\n",
       "      <td>6.9</td>\n",
       "      <td>0</td>\n",
       "      <td>1.7</td>\n",
       "      <td>0</td>\n",
       "      <td>not fire</td>\n",
       "    </tr>\n",
       "    <tr>\n",
       "      <th>4</th>\n",
       "      <td>05</td>\n",
       "      <td>06</td>\n",
       "      <td>2012</td>\n",
       "      <td>27</td>\n",
       "      <td>77</td>\n",
       "      <td>16</td>\n",
       "      <td>0</td>\n",
       "      <td>64.8</td>\n",
       "      <td>3</td>\n",
       "      <td>14.2</td>\n",
       "      <td>1.2</td>\n",
       "      <td>3.9</td>\n",
       "      <td>0.5</td>\n",
       "      <td>not fire</td>\n",
       "    </tr>\n",
       "  </tbody>\n",
       "</table>\n",
       "</div>"
      ],
      "text/plain": [
       "  day month  year Temperature  RH  Ws Rain   FFMC  DMC    DC  ISI  BUI  FWI  \\\n",
       "0  01    06  2012          29  57  18     0  65.7  3.4   7.6  1.3  3.4  0.5   \n",
       "1  02    06  2012          29  61  13   1.3  64.4  4.1   7.6    1  3.9  0.4   \n",
       "2  03    06  2012          26  82  22  13.1  47.1  2.5   7.1  0.3  2.7  0.1   \n",
       "3  04    06  2012          25  89  13   2.5  28.6  1.3   6.9    0  1.7    0   \n",
       "4  05    06  2012          27  77  16     0  64.8    3  14.2  1.2  3.9  0.5   \n",
       "\n",
       "     Classes    \n",
       "0  not fire     \n",
       "1  not fire     \n",
       "2  not fire     \n",
       "3  not fire     \n",
       "4  not fire     "
      ]
     },
     "execution_count": 4,
     "metadata": {},
     "output_type": "execute_result"
    }
   ],
   "source": [
    "df.head()"
   ]
  },
  {
   "cell_type": "code",
   "execution_count": 5,
   "id": "2b2d6de1",
   "metadata": {},
   "outputs": [
    {
     "data": {
      "text/plain": [
       "Index(['day', 'month', 'year', 'Temperature', ' RH', ' Ws', 'Rain ', 'FFMC',\n",
       "       'DMC', 'DC', 'ISI', 'BUI', 'FWI', 'Classes  '],\n",
       "      dtype='object')"
      ]
     },
     "execution_count": 5,
     "metadata": {},
     "output_type": "execute_result"
    }
   ],
   "source": [
    "df.columns"
   ]
  },
  {
   "cell_type": "markdown",
   "id": "873db650",
   "metadata": {},
   "source": [
    "# this dataset has two regions, i am creating regions column ,and encoding it    as below\n",
    "\n",
    "# '0' for Bejaia Region Dataset and\n",
    "\n",
    "# '1' for Sidi-Bel Abbes Region Dataset"
   ]
  },
  {
   "cell_type": "code",
   "execution_count": 6,
   "id": "fe5acc57",
   "metadata": {},
   "outputs": [
    {
     "data": {
      "text/plain": [
       "(246, 14)"
      ]
     },
     "execution_count": 6,
     "metadata": {},
     "output_type": "execute_result"
    }
   ],
   "source": [
    "df.shape"
   ]
  },
  {
   "cell_type": "code",
   "execution_count": 7,
   "id": "657926d8",
   "metadata": {},
   "outputs": [
    {
     "data": {
      "text/html": [
       "<div>\n",
       "<style scoped>\n",
       "    .dataframe tbody tr th:only-of-type {\n",
       "        vertical-align: middle;\n",
       "    }\n",
       "\n",
       "    .dataframe tbody tr th {\n",
       "        vertical-align: top;\n",
       "    }\n",
       "\n",
       "    .dataframe thead th {\n",
       "        text-align: right;\n",
       "    }\n",
       "</style>\n",
       "<table border=\"1\" class=\"dataframe\">\n",
       "  <thead>\n",
       "    <tr style=\"text-align: right;\">\n",
       "      <th></th>\n",
       "      <th>day</th>\n",
       "      <th>month</th>\n",
       "      <th>year</th>\n",
       "      <th>Temperature</th>\n",
       "      <th>RH</th>\n",
       "      <th>Ws</th>\n",
       "      <th>Rain</th>\n",
       "      <th>FFMC</th>\n",
       "      <th>DMC</th>\n",
       "      <th>DC</th>\n",
       "      <th>ISI</th>\n",
       "      <th>BUI</th>\n",
       "      <th>FWI</th>\n",
       "      <th>Classes</th>\n",
       "    </tr>\n",
       "  </thead>\n",
       "  <tbody>\n",
       "    <tr>\n",
       "      <th>120</th>\n",
       "      <td>29</td>\n",
       "      <td>09</td>\n",
       "      <td>2012</td>\n",
       "      <td>26</td>\n",
       "      <td>80</td>\n",
       "      <td>16</td>\n",
       "      <td>1.8</td>\n",
       "      <td>47.4</td>\n",
       "      <td>2.9</td>\n",
       "      <td>7.7</td>\n",
       "      <td>0.3</td>\n",
       "      <td>3</td>\n",
       "      <td>0.1</td>\n",
       "      <td>not fire</td>\n",
       "    </tr>\n",
       "    <tr>\n",
       "      <th>121</th>\n",
       "      <td>30</td>\n",
       "      <td>09</td>\n",
       "      <td>2012</td>\n",
       "      <td>25</td>\n",
       "      <td>78</td>\n",
       "      <td>14</td>\n",
       "      <td>1.4</td>\n",
       "      <td>45</td>\n",
       "      <td>1.9</td>\n",
       "      <td>7.5</td>\n",
       "      <td>0.2</td>\n",
       "      <td>2.4</td>\n",
       "      <td>0.1</td>\n",
       "      <td>not fire</td>\n",
       "    </tr>\n",
       "    <tr>\n",
       "      <th>122</th>\n",
       "      <td>Sidi-Bel Abbes Region Dataset</td>\n",
       "      <td>NaN</td>\n",
       "      <td>NaN</td>\n",
       "      <td>NaN</td>\n",
       "      <td>NaN</td>\n",
       "      <td>NaN</td>\n",
       "      <td>NaN</td>\n",
       "      <td>NaN</td>\n",
       "      <td>NaN</td>\n",
       "      <td>NaN</td>\n",
       "      <td>NaN</td>\n",
       "      <td>NaN</td>\n",
       "      <td>NaN</td>\n",
       "      <td>NaN</td>\n",
       "    </tr>\n",
       "    <tr>\n",
       "      <th>123</th>\n",
       "      <td>day</td>\n",
       "      <td>month</td>\n",
       "      <td>year</td>\n",
       "      <td>Temperature</td>\n",
       "      <td>RH</td>\n",
       "      <td>Ws</td>\n",
       "      <td>Rain</td>\n",
       "      <td>FFMC</td>\n",
       "      <td>DMC</td>\n",
       "      <td>DC</td>\n",
       "      <td>ISI</td>\n",
       "      <td>BUI</td>\n",
       "      <td>FWI</td>\n",
       "      <td>Classes</td>\n",
       "    </tr>\n",
       "    <tr>\n",
       "      <th>124</th>\n",
       "      <td>01</td>\n",
       "      <td>06</td>\n",
       "      <td>2012</td>\n",
       "      <td>32</td>\n",
       "      <td>71</td>\n",
       "      <td>12</td>\n",
       "      <td>0.7</td>\n",
       "      <td>57.1</td>\n",
       "      <td>2.5</td>\n",
       "      <td>8.2</td>\n",
       "      <td>0.6</td>\n",
       "      <td>2.8</td>\n",
       "      <td>0.2</td>\n",
       "      <td>not fire</td>\n",
       "    </tr>\n",
       "    <tr>\n",
       "      <th>...</th>\n",
       "      <td>...</td>\n",
       "      <td>...</td>\n",
       "      <td>...</td>\n",
       "      <td>...</td>\n",
       "      <td>...</td>\n",
       "      <td>...</td>\n",
       "      <td>...</td>\n",
       "      <td>...</td>\n",
       "      <td>...</td>\n",
       "      <td>...</td>\n",
       "      <td>...</td>\n",
       "      <td>...</td>\n",
       "      <td>...</td>\n",
       "      <td>...</td>\n",
       "    </tr>\n",
       "    <tr>\n",
       "      <th>241</th>\n",
       "      <td>26</td>\n",
       "      <td>09</td>\n",
       "      <td>2012</td>\n",
       "      <td>30</td>\n",
       "      <td>65</td>\n",
       "      <td>14</td>\n",
       "      <td>0</td>\n",
       "      <td>85.4</td>\n",
       "      <td>16</td>\n",
       "      <td>44.5</td>\n",
       "      <td>4.5</td>\n",
       "      <td>16.9</td>\n",
       "      <td>6.5</td>\n",
       "      <td>fire</td>\n",
       "    </tr>\n",
       "    <tr>\n",
       "      <th>242</th>\n",
       "      <td>27</td>\n",
       "      <td>09</td>\n",
       "      <td>2012</td>\n",
       "      <td>28</td>\n",
       "      <td>87</td>\n",
       "      <td>15</td>\n",
       "      <td>4.4</td>\n",
       "      <td>41.1</td>\n",
       "      <td>6.5</td>\n",
       "      <td>8</td>\n",
       "      <td>0.1</td>\n",
       "      <td>6.2</td>\n",
       "      <td>0</td>\n",
       "      <td>not fire</td>\n",
       "    </tr>\n",
       "    <tr>\n",
       "      <th>243</th>\n",
       "      <td>28</td>\n",
       "      <td>09</td>\n",
       "      <td>2012</td>\n",
       "      <td>27</td>\n",
       "      <td>87</td>\n",
       "      <td>29</td>\n",
       "      <td>0.5</td>\n",
       "      <td>45.9</td>\n",
       "      <td>3.5</td>\n",
       "      <td>7.9</td>\n",
       "      <td>0.4</td>\n",
       "      <td>3.4</td>\n",
       "      <td>0.2</td>\n",
       "      <td>not fire</td>\n",
       "    </tr>\n",
       "    <tr>\n",
       "      <th>244</th>\n",
       "      <td>29</td>\n",
       "      <td>09</td>\n",
       "      <td>2012</td>\n",
       "      <td>24</td>\n",
       "      <td>54</td>\n",
       "      <td>18</td>\n",
       "      <td>0.1</td>\n",
       "      <td>79.7</td>\n",
       "      <td>4.3</td>\n",
       "      <td>15.2</td>\n",
       "      <td>1.7</td>\n",
       "      <td>5.1</td>\n",
       "      <td>0.7</td>\n",
       "      <td>not fire</td>\n",
       "    </tr>\n",
       "    <tr>\n",
       "      <th>245</th>\n",
       "      <td>30</td>\n",
       "      <td>09</td>\n",
       "      <td>2012</td>\n",
       "      <td>24</td>\n",
       "      <td>64</td>\n",
       "      <td>15</td>\n",
       "      <td>0.2</td>\n",
       "      <td>67.3</td>\n",
       "      <td>3.8</td>\n",
       "      <td>16.5</td>\n",
       "      <td>1.2</td>\n",
       "      <td>4.8</td>\n",
       "      <td>0.5</td>\n",
       "      <td>not fire</td>\n",
       "    </tr>\n",
       "  </tbody>\n",
       "</table>\n",
       "<p>126 rows × 14 columns</p>\n",
       "</div>"
      ],
      "text/plain": [
       "                               day  month  year  Temperature   RH   Ws  Rain   \\\n",
       "120                             29     09  2012           26   80   16    1.8   \n",
       "121                             30     09  2012           25   78   14    1.4   \n",
       "122  Sidi-Bel Abbes Region Dataset    NaN   NaN          NaN  NaN  NaN    NaN   \n",
       "123                            day  month  year  Temperature   RH   Ws  Rain    \n",
       "124                             01     06  2012           32   71   12    0.7   \n",
       "..                             ...    ...   ...          ...  ...  ...    ...   \n",
       "241                             26     09  2012           30   65   14      0   \n",
       "242                             27     09  2012           28   87   15    4.4   \n",
       "243                             28     09  2012           27   87   29    0.5   \n",
       "244                             29     09  2012           24   54   18    0.1   \n",
       "245                             30     09  2012           24   64   15    0.2   \n",
       "\n",
       "     FFMC  DMC    DC  ISI   BUI  FWI     Classes    \n",
       "120  47.4  2.9   7.7  0.3     3  0.1   not fire     \n",
       "121    45  1.9   7.5  0.2   2.4  0.1   not fire     \n",
       "122   NaN  NaN   NaN  NaN   NaN  NaN           NaN  \n",
       "123  FFMC  DMC    DC  ISI   BUI  FWI     Classes    \n",
       "124  57.1  2.5   8.2  0.6   2.8  0.2   not fire     \n",
       "..    ...  ...   ...  ...   ...  ...           ...  \n",
       "241  85.4   16  44.5  4.5  16.9  6.5       fire     \n",
       "242  41.1  6.5     8  0.1   6.2    0   not fire     \n",
       "243  45.9  3.5   7.9  0.4   3.4  0.2   not fire     \n",
       "244  79.7  4.3  15.2  1.7   5.1  0.7   not fire     \n",
       "245  67.3  3.8  16.5  1.2   4.8  0.5  not fire      \n",
       "\n",
       "[126 rows x 14 columns]"
      ]
     },
     "execution_count": 7,
     "metadata": {},
     "output_type": "execute_result"
    }
   ],
   "source": [
    "df.iloc[120:]"
   ]
  },
  {
   "cell_type": "code",
   "execution_count": 10,
   "id": "72ebb903",
   "metadata": {},
   "outputs": [],
   "source": [
    "# droping the index[122,123] where another region starts(Sedi_Bel) and its columns"
   ]
  },
  {
   "cell_type": "code",
   "execution_count": 8,
   "id": "8f7cd597",
   "metadata": {},
   "outputs": [],
   "source": [
    "df.drop(index=[122,123], inplace=True)"
   ]
  },
  {
   "cell_type": "code",
   "execution_count": 9,
   "id": "55b743a0",
   "metadata": {},
   "outputs": [
    {
     "data": {
      "text/html": [
       "<div>\n",
       "<style scoped>\n",
       "    .dataframe tbody tr th:only-of-type {\n",
       "        vertical-align: middle;\n",
       "    }\n",
       "\n",
       "    .dataframe tbody tr th {\n",
       "        vertical-align: top;\n",
       "    }\n",
       "\n",
       "    .dataframe thead th {\n",
       "        text-align: right;\n",
       "    }\n",
       "</style>\n",
       "<table border=\"1\" class=\"dataframe\">\n",
       "  <thead>\n",
       "    <tr style=\"text-align: right;\">\n",
       "      <th></th>\n",
       "      <th>day</th>\n",
       "      <th>month</th>\n",
       "      <th>year</th>\n",
       "      <th>Temperature</th>\n",
       "      <th>RH</th>\n",
       "      <th>Ws</th>\n",
       "      <th>Rain</th>\n",
       "      <th>FFMC</th>\n",
       "      <th>DMC</th>\n",
       "      <th>DC</th>\n",
       "      <th>ISI</th>\n",
       "      <th>BUI</th>\n",
       "      <th>FWI</th>\n",
       "      <th>Classes</th>\n",
       "    </tr>\n",
       "  </thead>\n",
       "  <tbody>\n",
       "    <tr>\n",
       "      <th>120</th>\n",
       "      <td>29</td>\n",
       "      <td>09</td>\n",
       "      <td>2012</td>\n",
       "      <td>26</td>\n",
       "      <td>80</td>\n",
       "      <td>16</td>\n",
       "      <td>1.8</td>\n",
       "      <td>47.4</td>\n",
       "      <td>2.9</td>\n",
       "      <td>7.7</td>\n",
       "      <td>0.3</td>\n",
       "      <td>3</td>\n",
       "      <td>0.1</td>\n",
       "      <td>not fire</td>\n",
       "    </tr>\n",
       "    <tr>\n",
       "      <th>121</th>\n",
       "      <td>30</td>\n",
       "      <td>09</td>\n",
       "      <td>2012</td>\n",
       "      <td>25</td>\n",
       "      <td>78</td>\n",
       "      <td>14</td>\n",
       "      <td>1.4</td>\n",
       "      <td>45</td>\n",
       "      <td>1.9</td>\n",
       "      <td>7.5</td>\n",
       "      <td>0.2</td>\n",
       "      <td>2.4</td>\n",
       "      <td>0.1</td>\n",
       "      <td>not fire</td>\n",
       "    </tr>\n",
       "    <tr>\n",
       "      <th>124</th>\n",
       "      <td>01</td>\n",
       "      <td>06</td>\n",
       "      <td>2012</td>\n",
       "      <td>32</td>\n",
       "      <td>71</td>\n",
       "      <td>12</td>\n",
       "      <td>0.7</td>\n",
       "      <td>57.1</td>\n",
       "      <td>2.5</td>\n",
       "      <td>8.2</td>\n",
       "      <td>0.6</td>\n",
       "      <td>2.8</td>\n",
       "      <td>0.2</td>\n",
       "      <td>not fire</td>\n",
       "    </tr>\n",
       "    <tr>\n",
       "      <th>125</th>\n",
       "      <td>02</td>\n",
       "      <td>06</td>\n",
       "      <td>2012</td>\n",
       "      <td>30</td>\n",
       "      <td>73</td>\n",
       "      <td>13</td>\n",
       "      <td>4</td>\n",
       "      <td>55.7</td>\n",
       "      <td>2.7</td>\n",
       "      <td>7.8</td>\n",
       "      <td>0.6</td>\n",
       "      <td>2.9</td>\n",
       "      <td>0.2</td>\n",
       "      <td>not fire</td>\n",
       "    </tr>\n",
       "    <tr>\n",
       "      <th>126</th>\n",
       "      <td>03</td>\n",
       "      <td>06</td>\n",
       "      <td>2012</td>\n",
       "      <td>29</td>\n",
       "      <td>80</td>\n",
       "      <td>14</td>\n",
       "      <td>2</td>\n",
       "      <td>48.7</td>\n",
       "      <td>2.2</td>\n",
       "      <td>7.6</td>\n",
       "      <td>0.3</td>\n",
       "      <td>2.6</td>\n",
       "      <td>0.1</td>\n",
       "      <td>not fire</td>\n",
       "    </tr>\n",
       "    <tr>\n",
       "      <th>...</th>\n",
       "      <td>...</td>\n",
       "      <td>...</td>\n",
       "      <td>...</td>\n",
       "      <td>...</td>\n",
       "      <td>...</td>\n",
       "      <td>...</td>\n",
       "      <td>...</td>\n",
       "      <td>...</td>\n",
       "      <td>...</td>\n",
       "      <td>...</td>\n",
       "      <td>...</td>\n",
       "      <td>...</td>\n",
       "      <td>...</td>\n",
       "      <td>...</td>\n",
       "    </tr>\n",
       "    <tr>\n",
       "      <th>241</th>\n",
       "      <td>26</td>\n",
       "      <td>09</td>\n",
       "      <td>2012</td>\n",
       "      <td>30</td>\n",
       "      <td>65</td>\n",
       "      <td>14</td>\n",
       "      <td>0</td>\n",
       "      <td>85.4</td>\n",
       "      <td>16</td>\n",
       "      <td>44.5</td>\n",
       "      <td>4.5</td>\n",
       "      <td>16.9</td>\n",
       "      <td>6.5</td>\n",
       "      <td>fire</td>\n",
       "    </tr>\n",
       "    <tr>\n",
       "      <th>242</th>\n",
       "      <td>27</td>\n",
       "      <td>09</td>\n",
       "      <td>2012</td>\n",
       "      <td>28</td>\n",
       "      <td>87</td>\n",
       "      <td>15</td>\n",
       "      <td>4.4</td>\n",
       "      <td>41.1</td>\n",
       "      <td>6.5</td>\n",
       "      <td>8</td>\n",
       "      <td>0.1</td>\n",
       "      <td>6.2</td>\n",
       "      <td>0</td>\n",
       "      <td>not fire</td>\n",
       "    </tr>\n",
       "    <tr>\n",
       "      <th>243</th>\n",
       "      <td>28</td>\n",
       "      <td>09</td>\n",
       "      <td>2012</td>\n",
       "      <td>27</td>\n",
       "      <td>87</td>\n",
       "      <td>29</td>\n",
       "      <td>0.5</td>\n",
       "      <td>45.9</td>\n",
       "      <td>3.5</td>\n",
       "      <td>7.9</td>\n",
       "      <td>0.4</td>\n",
       "      <td>3.4</td>\n",
       "      <td>0.2</td>\n",
       "      <td>not fire</td>\n",
       "    </tr>\n",
       "    <tr>\n",
       "      <th>244</th>\n",
       "      <td>29</td>\n",
       "      <td>09</td>\n",
       "      <td>2012</td>\n",
       "      <td>24</td>\n",
       "      <td>54</td>\n",
       "      <td>18</td>\n",
       "      <td>0.1</td>\n",
       "      <td>79.7</td>\n",
       "      <td>4.3</td>\n",
       "      <td>15.2</td>\n",
       "      <td>1.7</td>\n",
       "      <td>5.1</td>\n",
       "      <td>0.7</td>\n",
       "      <td>not fire</td>\n",
       "    </tr>\n",
       "    <tr>\n",
       "      <th>245</th>\n",
       "      <td>30</td>\n",
       "      <td>09</td>\n",
       "      <td>2012</td>\n",
       "      <td>24</td>\n",
       "      <td>64</td>\n",
       "      <td>15</td>\n",
       "      <td>0.2</td>\n",
       "      <td>67.3</td>\n",
       "      <td>3.8</td>\n",
       "      <td>16.5</td>\n",
       "      <td>1.2</td>\n",
       "      <td>4.8</td>\n",
       "      <td>0.5</td>\n",
       "      <td>not fire</td>\n",
       "    </tr>\n",
       "  </tbody>\n",
       "</table>\n",
       "<p>124 rows × 14 columns</p>\n",
       "</div>"
      ],
      "text/plain": [
       "    day month  year Temperature  RH  Ws Rain   FFMC  DMC    DC  ISI   BUI  \\\n",
       "120  29    09  2012          26  80  16   1.8  47.4  2.9   7.7  0.3     3   \n",
       "121  30    09  2012          25  78  14   1.4    45  1.9   7.5  0.2   2.4   \n",
       "124  01    06  2012          32  71  12   0.7  57.1  2.5   8.2  0.6   2.8   \n",
       "125  02    06  2012          30  73  13     4  55.7  2.7   7.8  0.6   2.9   \n",
       "126  03    06  2012          29  80  14     2  48.7  2.2   7.6  0.3   2.6   \n",
       "..   ..   ...   ...         ...  ..  ..   ...   ...  ...   ...  ...   ...   \n",
       "241  26    09  2012          30  65  14     0  85.4   16  44.5  4.5  16.9   \n",
       "242  27    09  2012          28  87  15   4.4  41.1  6.5     8  0.1   6.2   \n",
       "243  28    09  2012          27  87  29   0.5  45.9  3.5   7.9  0.4   3.4   \n",
       "244  29    09  2012          24  54  18   0.1  79.7  4.3  15.2  1.7   5.1   \n",
       "245  30    09  2012          24  64  15   0.2  67.3  3.8  16.5  1.2   4.8   \n",
       "\n",
       "     FWI     Classes    \n",
       "120  0.1   not fire     \n",
       "121  0.1   not fire     \n",
       "124  0.2   not fire     \n",
       "125  0.2   not fire     \n",
       "126  0.1   not fire     \n",
       "..   ...           ...  \n",
       "241  6.5       fire     \n",
       "242    0   not fire     \n",
       "243  0.2   not fire     \n",
       "244  0.7   not fire     \n",
       "245  0.5  not fire      \n",
       "\n",
       "[124 rows x 14 columns]"
      ]
     },
     "execution_count": 9,
     "metadata": {},
     "output_type": "execute_result"
    }
   ],
   "source": [
    "df.iloc[120:]  # you can see below row 122 and 123 dropped "
   ]
  },
  {
   "cell_type": "code",
   "execution_count": 10,
   "id": "5798bb40",
   "metadata": {},
   "outputs": [],
   "source": [
    "# reset the index number\n",
    "df.reset_index(inplace=True)"
   ]
  },
  {
   "cell_type": "code",
   "execution_count": 11,
   "id": "8b131c7a",
   "metadata": {},
   "outputs": [
    {
     "data": {
      "text/html": [
       "<div>\n",
       "<style scoped>\n",
       "    .dataframe tbody tr th:only-of-type {\n",
       "        vertical-align: middle;\n",
       "    }\n",
       "\n",
       "    .dataframe tbody tr th {\n",
       "        vertical-align: top;\n",
       "    }\n",
       "\n",
       "    .dataframe thead th {\n",
       "        text-align: right;\n",
       "    }\n",
       "</style>\n",
       "<table border=\"1\" class=\"dataframe\">\n",
       "  <thead>\n",
       "    <tr style=\"text-align: right;\">\n",
       "      <th></th>\n",
       "      <th>index</th>\n",
       "      <th>day</th>\n",
       "      <th>month</th>\n",
       "      <th>year</th>\n",
       "      <th>Temperature</th>\n",
       "      <th>RH</th>\n",
       "      <th>Ws</th>\n",
       "      <th>Rain</th>\n",
       "      <th>FFMC</th>\n",
       "      <th>DMC</th>\n",
       "      <th>DC</th>\n",
       "      <th>ISI</th>\n",
       "      <th>BUI</th>\n",
       "      <th>FWI</th>\n",
       "      <th>Classes</th>\n",
       "    </tr>\n",
       "  </thead>\n",
       "  <tbody>\n",
       "    <tr>\n",
       "      <th>120</th>\n",
       "      <td>120</td>\n",
       "      <td>29</td>\n",
       "      <td>09</td>\n",
       "      <td>2012</td>\n",
       "      <td>26</td>\n",
       "      <td>80</td>\n",
       "      <td>16</td>\n",
       "      <td>1.8</td>\n",
       "      <td>47.4</td>\n",
       "      <td>2.9</td>\n",
       "      <td>7.7</td>\n",
       "      <td>0.3</td>\n",
       "      <td>3</td>\n",
       "      <td>0.1</td>\n",
       "      <td>not fire</td>\n",
       "    </tr>\n",
       "    <tr>\n",
       "      <th>121</th>\n",
       "      <td>121</td>\n",
       "      <td>30</td>\n",
       "      <td>09</td>\n",
       "      <td>2012</td>\n",
       "      <td>25</td>\n",
       "      <td>78</td>\n",
       "      <td>14</td>\n",
       "      <td>1.4</td>\n",
       "      <td>45</td>\n",
       "      <td>1.9</td>\n",
       "      <td>7.5</td>\n",
       "      <td>0.2</td>\n",
       "      <td>2.4</td>\n",
       "      <td>0.1</td>\n",
       "      <td>not fire</td>\n",
       "    </tr>\n",
       "    <tr>\n",
       "      <th>122</th>\n",
       "      <td>124</td>\n",
       "      <td>01</td>\n",
       "      <td>06</td>\n",
       "      <td>2012</td>\n",
       "      <td>32</td>\n",
       "      <td>71</td>\n",
       "      <td>12</td>\n",
       "      <td>0.7</td>\n",
       "      <td>57.1</td>\n",
       "      <td>2.5</td>\n",
       "      <td>8.2</td>\n",
       "      <td>0.6</td>\n",
       "      <td>2.8</td>\n",
       "      <td>0.2</td>\n",
       "      <td>not fire</td>\n",
       "    </tr>\n",
       "    <tr>\n",
       "      <th>123</th>\n",
       "      <td>125</td>\n",
       "      <td>02</td>\n",
       "      <td>06</td>\n",
       "      <td>2012</td>\n",
       "      <td>30</td>\n",
       "      <td>73</td>\n",
       "      <td>13</td>\n",
       "      <td>4</td>\n",
       "      <td>55.7</td>\n",
       "      <td>2.7</td>\n",
       "      <td>7.8</td>\n",
       "      <td>0.6</td>\n",
       "      <td>2.9</td>\n",
       "      <td>0.2</td>\n",
       "      <td>not fire</td>\n",
       "    </tr>\n",
       "    <tr>\n",
       "      <th>124</th>\n",
       "      <td>126</td>\n",
       "      <td>03</td>\n",
       "      <td>06</td>\n",
       "      <td>2012</td>\n",
       "      <td>29</td>\n",
       "      <td>80</td>\n",
       "      <td>14</td>\n",
       "      <td>2</td>\n",
       "      <td>48.7</td>\n",
       "      <td>2.2</td>\n",
       "      <td>7.6</td>\n",
       "      <td>0.3</td>\n",
       "      <td>2.6</td>\n",
       "      <td>0.1</td>\n",
       "      <td>not fire</td>\n",
       "    </tr>\n",
       "  </tbody>\n",
       "</table>\n",
       "</div>"
      ],
      "text/plain": [
       "     index day month  year Temperature  RH  Ws Rain   FFMC  DMC   DC  ISI  \\\n",
       "120    120  29    09  2012          26  80  16   1.8  47.4  2.9  7.7  0.3   \n",
       "121    121  30    09  2012          25  78  14   1.4    45  1.9  7.5  0.2   \n",
       "122    124  01    06  2012          32  71  12   0.7  57.1  2.5  8.2  0.6   \n",
       "123    125  02    06  2012          30  73  13     4  55.7  2.7  7.8  0.6   \n",
       "124    126  03    06  2012          29  80  14     2  48.7  2.2  7.6  0.3   \n",
       "\n",
       "     BUI  FWI    Classes    \n",
       "120    3  0.1  not fire     \n",
       "121  2.4  0.1  not fire     \n",
       "122  2.8  0.2  not fire     \n",
       "123  2.9  0.2  not fire     \n",
       "124  2.6  0.1  not fire     "
      ]
     },
     "execution_count": 11,
     "metadata": {},
     "output_type": "execute_result"
    }
   ],
   "source": [
    "df.iloc[120:].head()  # you can see below the rows has been reset "
   ]
  },
  {
   "cell_type": "code",
   "execution_count": 12,
   "id": "50da42a1",
   "metadata": {},
   "outputs": [],
   "source": [
    "# droping the index\n",
    "\n",
    "df.drop('index', axis=1,inplace=True)"
   ]
  },
  {
   "cell_type": "code",
   "execution_count": 16,
   "id": "fb5dc218",
   "metadata": {},
   "outputs": [],
   "source": [
    "# creating regions, '0' for Bejaia Region Dataset and '1' for Sidi-Bel Abbes Region Dataset"
   ]
  },
  {
   "cell_type": "code",
   "execution_count": 17,
   "id": "fe1e840c",
   "metadata": {},
   "outputs": [
    {
     "data": {
      "text/html": [
       "<div>\n",
       "<style scoped>\n",
       "    .dataframe tbody tr th:only-of-type {\n",
       "        vertical-align: middle;\n",
       "    }\n",
       "\n",
       "    .dataframe tbody tr th {\n",
       "        vertical-align: top;\n",
       "    }\n",
       "\n",
       "    .dataframe thead th {\n",
       "        text-align: right;\n",
       "    }\n",
       "</style>\n",
       "<table border=\"1\" class=\"dataframe\">\n",
       "  <thead>\n",
       "    <tr style=\"text-align: right;\">\n",
       "      <th></th>\n",
       "      <th>day</th>\n",
       "      <th>month</th>\n",
       "      <th>year</th>\n",
       "      <th>Temperature</th>\n",
       "      <th>RH</th>\n",
       "      <th>Ws</th>\n",
       "      <th>Rain</th>\n",
       "      <th>FFMC</th>\n",
       "      <th>DMC</th>\n",
       "      <th>DC</th>\n",
       "      <th>ISI</th>\n",
       "      <th>BUI</th>\n",
       "      <th>FWI</th>\n",
       "      <th>Classes</th>\n",
       "      <th>Region</th>\n",
       "    </tr>\n",
       "  </thead>\n",
       "  <tbody>\n",
       "    <tr>\n",
       "      <th>0</th>\n",
       "      <td>01</td>\n",
       "      <td>06</td>\n",
       "      <td>2012</td>\n",
       "      <td>29</td>\n",
       "      <td>57</td>\n",
       "      <td>18</td>\n",
       "      <td>0</td>\n",
       "      <td>65.7</td>\n",
       "      <td>3.4</td>\n",
       "      <td>7.6</td>\n",
       "      <td>1.3</td>\n",
       "      <td>3.4</td>\n",
       "      <td>0.5</td>\n",
       "      <td>not fire</td>\n",
       "      <td>0.0</td>\n",
       "    </tr>\n",
       "    <tr>\n",
       "      <th>1</th>\n",
       "      <td>02</td>\n",
       "      <td>06</td>\n",
       "      <td>2012</td>\n",
       "      <td>29</td>\n",
       "      <td>61</td>\n",
       "      <td>13</td>\n",
       "      <td>1.3</td>\n",
       "      <td>64.4</td>\n",
       "      <td>4.1</td>\n",
       "      <td>7.6</td>\n",
       "      <td>1</td>\n",
       "      <td>3.9</td>\n",
       "      <td>0.4</td>\n",
       "      <td>not fire</td>\n",
       "      <td>0.0</td>\n",
       "    </tr>\n",
       "    <tr>\n",
       "      <th>2</th>\n",
       "      <td>03</td>\n",
       "      <td>06</td>\n",
       "      <td>2012</td>\n",
       "      <td>26</td>\n",
       "      <td>82</td>\n",
       "      <td>22</td>\n",
       "      <td>13.1</td>\n",
       "      <td>47.1</td>\n",
       "      <td>2.5</td>\n",
       "      <td>7.1</td>\n",
       "      <td>0.3</td>\n",
       "      <td>2.7</td>\n",
       "      <td>0.1</td>\n",
       "      <td>not fire</td>\n",
       "      <td>0.0</td>\n",
       "    </tr>\n",
       "    <tr>\n",
       "      <th>3</th>\n",
       "      <td>04</td>\n",
       "      <td>06</td>\n",
       "      <td>2012</td>\n",
       "      <td>25</td>\n",
       "      <td>89</td>\n",
       "      <td>13</td>\n",
       "      <td>2.5</td>\n",
       "      <td>28.6</td>\n",
       "      <td>1.3</td>\n",
       "      <td>6.9</td>\n",
       "      <td>0</td>\n",
       "      <td>1.7</td>\n",
       "      <td>0</td>\n",
       "      <td>not fire</td>\n",
       "      <td>0.0</td>\n",
       "    </tr>\n",
       "    <tr>\n",
       "      <th>4</th>\n",
       "      <td>05</td>\n",
       "      <td>06</td>\n",
       "      <td>2012</td>\n",
       "      <td>27</td>\n",
       "      <td>77</td>\n",
       "      <td>16</td>\n",
       "      <td>0</td>\n",
       "      <td>64.8</td>\n",
       "      <td>3</td>\n",
       "      <td>14.2</td>\n",
       "      <td>1.2</td>\n",
       "      <td>3.9</td>\n",
       "      <td>0.5</td>\n",
       "      <td>not fire</td>\n",
       "      <td>0.0</td>\n",
       "    </tr>\n",
       "  </tbody>\n",
       "</table>\n",
       "</div>"
      ],
      "text/plain": [
       "  day month  year Temperature  RH  Ws Rain   FFMC  DMC    DC  ISI  BUI  FWI  \\\n",
       "0  01    06  2012          29  57  18     0  65.7  3.4   7.6  1.3  3.4  0.5   \n",
       "1  02    06  2012          29  61  13   1.3  64.4  4.1   7.6    1  3.9  0.4   \n",
       "2  03    06  2012          26  82  22  13.1  47.1  2.5   7.1  0.3  2.7  0.1   \n",
       "3  04    06  2012          25  89  13   2.5  28.6  1.3   6.9    0  1.7    0   \n",
       "4  05    06  2012          27  77  16     0  64.8    3  14.2  1.2  3.9  0.5   \n",
       "\n",
       "     Classes    Region  \n",
       "0  not fire        0.0  \n",
       "1  not fire        0.0  \n",
       "2  not fire        0.0  \n",
       "3  not fire        0.0  \n",
       "4  not fire        0.0  "
      ]
     },
     "execution_count": 17,
     "metadata": {},
     "output_type": "execute_result"
    }
   ],
   "source": [
    "df.head()"
   ]
  },
  {
   "cell_type": "code",
   "execution_count": 14,
   "id": "5bcfc783",
   "metadata": {},
   "outputs": [],
   "source": [
    "df.loc[:122,'Region']=0\n",
    "df.loc[122:,'Region']=1\n",
    "\n",
    "# this will creat a new column'Region'fill 0 in all rows till index= 121 and 1 from index= 122"
   ]
  },
  {
   "cell_type": "code",
   "execution_count": 18,
   "id": "4ac4f802",
   "metadata": {},
   "outputs": [
    {
     "data": {
      "text/html": [
       "<div>\n",
       "<style scoped>\n",
       "    .dataframe tbody tr th:only-of-type {\n",
       "        vertical-align: middle;\n",
       "    }\n",
       "\n",
       "    .dataframe tbody tr th {\n",
       "        vertical-align: top;\n",
       "    }\n",
       "\n",
       "    .dataframe thead th {\n",
       "        text-align: right;\n",
       "    }\n",
       "</style>\n",
       "<table border=\"1\" class=\"dataframe\">\n",
       "  <thead>\n",
       "    <tr style=\"text-align: right;\">\n",
       "      <th></th>\n",
       "      <th>day</th>\n",
       "      <th>month</th>\n",
       "      <th>year</th>\n",
       "      <th>Temperature</th>\n",
       "      <th>RH</th>\n",
       "      <th>Ws</th>\n",
       "      <th>Rain</th>\n",
       "      <th>FFMC</th>\n",
       "      <th>DMC</th>\n",
       "      <th>DC</th>\n",
       "      <th>ISI</th>\n",
       "      <th>BUI</th>\n",
       "      <th>FWI</th>\n",
       "      <th>Classes</th>\n",
       "      <th>Region</th>\n",
       "    </tr>\n",
       "  </thead>\n",
       "  <tbody>\n",
       "    <tr>\n",
       "      <th>0</th>\n",
       "      <td>01</td>\n",
       "      <td>06</td>\n",
       "      <td>2012</td>\n",
       "      <td>29</td>\n",
       "      <td>57</td>\n",
       "      <td>18</td>\n",
       "      <td>0</td>\n",
       "      <td>65.7</td>\n",
       "      <td>3.4</td>\n",
       "      <td>7.6</td>\n",
       "      <td>1.3</td>\n",
       "      <td>3.4</td>\n",
       "      <td>0.5</td>\n",
       "      <td>not fire</td>\n",
       "      <td>0.0</td>\n",
       "    </tr>\n",
       "    <tr>\n",
       "      <th>1</th>\n",
       "      <td>02</td>\n",
       "      <td>06</td>\n",
       "      <td>2012</td>\n",
       "      <td>29</td>\n",
       "      <td>61</td>\n",
       "      <td>13</td>\n",
       "      <td>1.3</td>\n",
       "      <td>64.4</td>\n",
       "      <td>4.1</td>\n",
       "      <td>7.6</td>\n",
       "      <td>1</td>\n",
       "      <td>3.9</td>\n",
       "      <td>0.4</td>\n",
       "      <td>not fire</td>\n",
       "      <td>0.0</td>\n",
       "    </tr>\n",
       "    <tr>\n",
       "      <th>2</th>\n",
       "      <td>03</td>\n",
       "      <td>06</td>\n",
       "      <td>2012</td>\n",
       "      <td>26</td>\n",
       "      <td>82</td>\n",
       "      <td>22</td>\n",
       "      <td>13.1</td>\n",
       "      <td>47.1</td>\n",
       "      <td>2.5</td>\n",
       "      <td>7.1</td>\n",
       "      <td>0.3</td>\n",
       "      <td>2.7</td>\n",
       "      <td>0.1</td>\n",
       "      <td>not fire</td>\n",
       "      <td>0.0</td>\n",
       "    </tr>\n",
       "    <tr>\n",
       "      <th>3</th>\n",
       "      <td>04</td>\n",
       "      <td>06</td>\n",
       "      <td>2012</td>\n",
       "      <td>25</td>\n",
       "      <td>89</td>\n",
       "      <td>13</td>\n",
       "      <td>2.5</td>\n",
       "      <td>28.6</td>\n",
       "      <td>1.3</td>\n",
       "      <td>6.9</td>\n",
       "      <td>0</td>\n",
       "      <td>1.7</td>\n",
       "      <td>0</td>\n",
       "      <td>not fire</td>\n",
       "      <td>0.0</td>\n",
       "    </tr>\n",
       "    <tr>\n",
       "      <th>4</th>\n",
       "      <td>05</td>\n",
       "      <td>06</td>\n",
       "      <td>2012</td>\n",
       "      <td>27</td>\n",
       "      <td>77</td>\n",
       "      <td>16</td>\n",
       "      <td>0</td>\n",
       "      <td>64.8</td>\n",
       "      <td>3</td>\n",
       "      <td>14.2</td>\n",
       "      <td>1.2</td>\n",
       "      <td>3.9</td>\n",
       "      <td>0.5</td>\n",
       "      <td>not fire</td>\n",
       "      <td>0.0</td>\n",
       "    </tr>\n",
       "  </tbody>\n",
       "</table>\n",
       "</div>"
      ],
      "text/plain": [
       "  day month  year Temperature  RH  Ws Rain   FFMC  DMC    DC  ISI  BUI  FWI  \\\n",
       "0  01    06  2012          29  57  18     0  65.7  3.4   7.6  1.3  3.4  0.5   \n",
       "1  02    06  2012          29  61  13   1.3  64.4  4.1   7.6    1  3.9  0.4   \n",
       "2  03    06  2012          26  82  22  13.1  47.1  2.5   7.1  0.3  2.7  0.1   \n",
       "3  04    06  2012          25  89  13   2.5  28.6  1.3   6.9    0  1.7    0   \n",
       "4  05    06  2012          27  77  16     0  64.8    3  14.2  1.2  3.9  0.5   \n",
       "\n",
       "     Classes    Region  \n",
       "0  not fire        0.0  \n",
       "1  not fire        0.0  \n",
       "2  not fire        0.0  \n",
       "3  not fire        0.0  \n",
       "4  not fire        0.0  "
      ]
     },
     "execution_count": 18,
     "metadata": {},
     "output_type": "execute_result"
    }
   ],
   "source": [
    "df.head()"
   ]
  },
  {
   "cell_type": "code",
   "execution_count": 19,
   "id": "400fca6a",
   "metadata": {},
   "outputs": [
    {
     "data": {
      "text/html": [
       "<div>\n",
       "<style scoped>\n",
       "    .dataframe tbody tr th:only-of-type {\n",
       "        vertical-align: middle;\n",
       "    }\n",
       "\n",
       "    .dataframe tbody tr th {\n",
       "        vertical-align: top;\n",
       "    }\n",
       "\n",
       "    .dataframe thead th {\n",
       "        text-align: right;\n",
       "    }\n",
       "</style>\n",
       "<table border=\"1\" class=\"dataframe\">\n",
       "  <thead>\n",
       "    <tr style=\"text-align: right;\">\n",
       "      <th></th>\n",
       "      <th>day</th>\n",
       "      <th>month</th>\n",
       "      <th>year</th>\n",
       "      <th>Temperature</th>\n",
       "      <th>RH</th>\n",
       "      <th>Ws</th>\n",
       "      <th>Rain</th>\n",
       "      <th>FFMC</th>\n",
       "      <th>DMC</th>\n",
       "      <th>DC</th>\n",
       "      <th>ISI</th>\n",
       "      <th>BUI</th>\n",
       "      <th>FWI</th>\n",
       "      <th>Classes</th>\n",
       "      <th>Region</th>\n",
       "    </tr>\n",
       "  </thead>\n",
       "  <tbody>\n",
       "    <tr>\n",
       "      <th>239</th>\n",
       "      <td>26</td>\n",
       "      <td>09</td>\n",
       "      <td>2012</td>\n",
       "      <td>30</td>\n",
       "      <td>65</td>\n",
       "      <td>14</td>\n",
       "      <td>0</td>\n",
       "      <td>85.4</td>\n",
       "      <td>16</td>\n",
       "      <td>44.5</td>\n",
       "      <td>4.5</td>\n",
       "      <td>16.9</td>\n",
       "      <td>6.5</td>\n",
       "      <td>fire</td>\n",
       "      <td>1.0</td>\n",
       "    </tr>\n",
       "    <tr>\n",
       "      <th>240</th>\n",
       "      <td>27</td>\n",
       "      <td>09</td>\n",
       "      <td>2012</td>\n",
       "      <td>28</td>\n",
       "      <td>87</td>\n",
       "      <td>15</td>\n",
       "      <td>4.4</td>\n",
       "      <td>41.1</td>\n",
       "      <td>6.5</td>\n",
       "      <td>8</td>\n",
       "      <td>0.1</td>\n",
       "      <td>6.2</td>\n",
       "      <td>0</td>\n",
       "      <td>not fire</td>\n",
       "      <td>1.0</td>\n",
       "    </tr>\n",
       "    <tr>\n",
       "      <th>241</th>\n",
       "      <td>28</td>\n",
       "      <td>09</td>\n",
       "      <td>2012</td>\n",
       "      <td>27</td>\n",
       "      <td>87</td>\n",
       "      <td>29</td>\n",
       "      <td>0.5</td>\n",
       "      <td>45.9</td>\n",
       "      <td>3.5</td>\n",
       "      <td>7.9</td>\n",
       "      <td>0.4</td>\n",
       "      <td>3.4</td>\n",
       "      <td>0.2</td>\n",
       "      <td>not fire</td>\n",
       "      <td>1.0</td>\n",
       "    </tr>\n",
       "    <tr>\n",
       "      <th>242</th>\n",
       "      <td>29</td>\n",
       "      <td>09</td>\n",
       "      <td>2012</td>\n",
       "      <td>24</td>\n",
       "      <td>54</td>\n",
       "      <td>18</td>\n",
       "      <td>0.1</td>\n",
       "      <td>79.7</td>\n",
       "      <td>4.3</td>\n",
       "      <td>15.2</td>\n",
       "      <td>1.7</td>\n",
       "      <td>5.1</td>\n",
       "      <td>0.7</td>\n",
       "      <td>not fire</td>\n",
       "      <td>1.0</td>\n",
       "    </tr>\n",
       "    <tr>\n",
       "      <th>243</th>\n",
       "      <td>30</td>\n",
       "      <td>09</td>\n",
       "      <td>2012</td>\n",
       "      <td>24</td>\n",
       "      <td>64</td>\n",
       "      <td>15</td>\n",
       "      <td>0.2</td>\n",
       "      <td>67.3</td>\n",
       "      <td>3.8</td>\n",
       "      <td>16.5</td>\n",
       "      <td>1.2</td>\n",
       "      <td>4.8</td>\n",
       "      <td>0.5</td>\n",
       "      <td>not fire</td>\n",
       "      <td>1.0</td>\n",
       "    </tr>\n",
       "  </tbody>\n",
       "</table>\n",
       "</div>"
      ],
      "text/plain": [
       "    day month  year Temperature  RH  Ws Rain   FFMC  DMC    DC  ISI   BUI  \\\n",
       "239  26    09  2012          30  65  14     0  85.4   16  44.5  4.5  16.9   \n",
       "240  27    09  2012          28  87  15   4.4  41.1  6.5     8  0.1   6.2   \n",
       "241  28    09  2012          27  87  29   0.5  45.9  3.5   7.9  0.4   3.4   \n",
       "242  29    09  2012          24  54  18   0.1  79.7  4.3  15.2  1.7   5.1   \n",
       "243  30    09  2012          24  64  15   0.2  67.3  3.8  16.5  1.2   4.8   \n",
       "\n",
       "     FWI     Classes    Region  \n",
       "239  6.5       fire        1.0  \n",
       "240    0   not fire        1.0  \n",
       "241  0.2   not fire        1.0  \n",
       "242  0.7   not fire        1.0  \n",
       "243  0.5  not fire         1.0  "
      ]
     },
     "execution_count": 19,
     "metadata": {},
     "output_type": "execute_result"
    }
   ],
   "source": [
    "# below  five record\n",
    "df.tail()"
   ]
  },
  {
   "cell_type": "markdown",
   "id": "ae724aec",
   "metadata": {},
   "source": [
    "Shape of the data"
   ]
  },
  {
   "cell_type": "code",
   "execution_count": 20,
   "id": "4b4cba76",
   "metadata": {},
   "outputs": [
    {
     "data": {
      "text/plain": [
       "(244, 15)"
      ]
     },
     "execution_count": 20,
     "metadata": {},
     "output_type": "execute_result"
    }
   ],
   "source": [
    "df.shape\n",
    "\n",
    "# intially there was 246 rows and 14 column, after romoving 2 rows and added 1 column(244,15)\n"
   ]
  },
  {
   "cell_type": "markdown",
   "id": "c1512646",
   "metadata": {},
   "source": [
    "# fetching basic info of dataset"
   ]
  },
  {
   "cell_type": "code",
   "execution_count": 20,
   "id": "940d8a27",
   "metadata": {},
   "outputs": [
    {
     "name": "stdout",
     "output_type": "stream",
     "text": [
      "<class 'pandas.core.frame.DataFrame'>\n",
      "RangeIndex: 244 entries, 0 to 243\n",
      "Data columns (total 15 columns):\n",
      " #   Column       Non-Null Count  Dtype  \n",
      "---  ------       --------------  -----  \n",
      " 0   day          244 non-null    object \n",
      " 1   month        244 non-null    object \n",
      " 2   year         244 non-null    object \n",
      " 3   Temperature  244 non-null    object \n",
      " 4    RH          244 non-null    object \n",
      " 5    Ws          244 non-null    object \n",
      " 6   Rain         244 non-null    object \n",
      " 7   FFMC         244 non-null    object \n",
      " 8   DMC          244 non-null    object \n",
      " 9   DC           244 non-null    object \n",
      " 10  ISI          244 non-null    object \n",
      " 11  BUI          244 non-null    object \n",
      " 12  FWI          244 non-null    object \n",
      " 13  Classes      243 non-null    object \n",
      " 14  Region       244 non-null    float64\n",
      "dtypes: float64(1), object(14)\n",
      "memory usage: 28.7+ KB\n"
     ]
    }
   ],
   "source": [
    "df.info()"
   ]
  },
  {
   "cell_type": "markdown",
   "id": "701117f5",
   "metadata": {},
   "source": [
    "# Data Cleaning"
   ]
  },
  {
   "cell_type": "code",
   "execution_count": 21,
   "id": "cf687841",
   "metadata": {},
   "outputs": [
    {
     "data": {
      "text/plain": [
       "Index(['day', 'month', 'year', 'Temperature', ' RH', ' Ws', 'Rain ', 'FFMC',\n",
       "       'DMC', 'DC', 'ISI', 'BUI', 'FWI', 'Classes  ', 'Region'],\n",
       "      dtype='object')"
      ]
     },
     "execution_count": 21,
     "metadata": {},
     "output_type": "execute_result"
    }
   ],
   "source": [
    "df.columns\n",
    "\n",
    "# there is spaces in column name like 'RH','Rain', 'Classes'"
   ]
  },
  {
   "cell_type": "code",
   "execution_count": 22,
   "id": "b57384ab",
   "metadata": {},
   "outputs": [
    {
     "data": {
      "text/plain": [
       "Index(['day', 'month', 'year', 'Temperature', 'RH', 'Ws', 'Rain', 'FFMC',\n",
       "       'DMC', 'DC', 'ISI', 'BUI', 'FWI', 'Classes', 'Region'],\n",
       "      dtype='object')"
      ]
     },
     "execution_count": 22,
     "metadata": {},
     "output_type": "execute_result"
    }
   ],
   "source": [
    "# removing the spaces from column names\n",
    "\n",
    "df.columns=[i.strip() for i in df.columns]\n",
    "df.columns"
   ]
  },
  {
   "cell_type": "code",
   "execution_count": 23,
   "id": "e69bf418",
   "metadata": {},
   "outputs": [
    {
     "name": "stdout",
     "output_type": "stream",
     "text": [
      "    day month  year Temperature  RH  Ws  Rain  FFMC   DMC      DC   ISI   BUI      FWI        Classes  Region\n",
      "0    01    06  2012          29  57  18     0  65.7   3.4     7.6   1.3   3.4      0.5    not fire        0.0\n",
      "1    02    06  2012          29  61  13   1.3  64.4   4.1     7.6     1   3.9      0.4    not fire        0.0\n",
      "2    03    06  2012          26  82  22  13.1  47.1   2.5     7.1   0.3   2.7      0.1    not fire        0.0\n",
      "3    04    06  2012          25  89  13   2.5  28.6   1.3     6.9     0   1.7        0    not fire        0.0\n",
      "4    05    06  2012          27  77  16     0  64.8     3    14.2   1.2   3.9      0.5    not fire        0.0\n",
      "5    06    06  2012          31  67  14     0  82.6   5.8    22.2   3.1     7      2.5        fire        0.0\n",
      "6    07    06  2012          33  54  13     0  88.2   9.9    30.5   6.4  10.9      7.2        fire        0.0\n",
      "7    08    06  2012          30  73  15     0  86.6  12.1    38.3   5.6  13.5      7.1        fire        0.0\n",
      "8    09    06  2012          25  88  13   0.2  52.9   7.9    38.8   0.4  10.5      0.3    not fire        0.0\n",
      "9    10    06  2012          28  79  12     0  73.2   9.5    46.3   1.3  12.6      0.9    not fire        0.0\n",
      "10   11    06  2012          31  65  14     0  84.5  12.5    54.3     4  15.8      5.6        fire        0.0\n",
      "11   12    06  2012          26  81  19     0    84  13.8    61.4   4.8  17.7     7.1         fire        0.0\n",
      "12   13    06  2012          27  84  21   1.2    50   6.7      17   0.5   6.7      0.2    not fire        0.0\n",
      "13   14    06  2012          30  78  20   0.5    59   4.6     7.8     1   4.4      0.4    not fire        0.0\n",
      "14   15    06  2012          28  80  17   3.1  49.4     3     7.4   0.4     3      0.1    not fire        0.0\n",
      "15   16    06  2012          29  89  13   0.7  36.1   1.7     7.6     0   2.2        0    not fire        0.0\n",
      "16   17    06  2012          30  89  16   0.6  37.3   1.1     7.8     0   1.6        0    not fire        0.0\n",
      "17   18    06  2012          31  78  14   0.3  56.9   1.9       8   0.7   2.4      0.2    not fire        0.0\n",
      "18   19    06  2012          31  55  16   0.1  79.9   4.5      16   2.5   5.3      1.4    not fire        0.0\n",
      "19   20    06  2012          30  80  16   0.4  59.8   3.4    27.1   0.9   5.1      0.4    not fire        0.0\n",
      "20   21    06  2012          30  78  14     0    81   6.3    31.6   2.6   8.4      2.2        fire        0.0\n",
      "21   22    06  2012          31  67  17   0.1  79.1     7    39.5   2.4   9.7      2.3    not fire        0.0\n",
      "22   23    06  2012          32  62  18   0.1  81.4   8.2    47.7   3.3  11.5      3.8        fire        0.0\n",
      "23   24    06  2012          32  66  17     0  85.9  11.2    55.8   5.6  14.9      7.5        fire        0.0\n",
      "24   25    06  2012          31  64  15     0  86.7  14.2    63.8   5.7  18.3      8.4        fire        0.0\n",
      "25   26    06  2012          31  64  18     0  86.8  17.8    71.8   6.7  21.6     10.6        fire        0.0\n",
      "26   27    06  2012          34  53  18     0    89  21.6    80.3   9.2  25.8       15        fire        0.0\n",
      "27   28    06  2012          32  55  14     0  89.1  25.5    88.5   7.6  29.7     13.9        fire        0.0\n",
      "28   29    06  2012          32  47  13   0.3  79.9  18.4    84.4   2.2  23.8      3.9    not fire        0.0\n",
      "29   30    06  2012          33  50  14     0  88.7  22.9    92.8   7.2  28.3     12.9        fire        0.0\n",
      "30   01    07  2012          29  68  19     1  59.9   2.5     8.6   1.1   2.9      0.4    not fire        0.0\n",
      "31   02    07  2012          27  75  19   1.2  55.7   2.4     8.3   0.8   2.8      0.3    not fire        0.0\n",
      "32   03    07  2012          32  76  20   0.7  63.1   2.6     9.2   1.3     3      0.5    not fire        0.0\n",
      "33   04    07  2012          33  78  17     0  80.1   4.6    18.5   2.7   5.7      1.7    not fire        0.0\n",
      "34   05    07  2012          33  66  14     0  85.9   7.6    27.9   4.8   9.1      4.9        fire        0.0\n",
      "35   06    07  2012          32  63  14     0    87  10.9      37   5.6  12.5      6.8        fire        0.0\n",
      "36   07    07  2012          35  64  18   0.2    80   9.7    40.4   2.8  12.1      3.2    not fire        0.0\n",
      "37   08    07  2012          33  68  19     0  85.6  12.5    49.8     6  15.4        8        fire        0.0\n",
      "38   09    07  2012          32  68  14   1.4  66.6   7.7     9.2   1.1   7.4      0.6    not fire        0.0\n",
      "39   10    07  2012          33  69  13   0.7  66.6     6     9.3   1.1   5.8      0.5    not fire        0.0\n",
      "40   11    07  2012          33  76  14     0  81.1   8.1    18.7   2.6   8.1      2.2    not fire        0.0\n",
      "41   12    07  2012          31  75  13   0.1  75.1   7.9    27.7   1.5   9.2      0.9    not fire        0.0\n",
      "42   13    07  2012          34  81  15     0  81.8   9.7    37.2     3  11.7      3.4    not fire        0.0\n",
      "43   14    07  2012          34  61  13   0.6  73.9   7.8    22.9   1.4   8.4      0.8    not fire        0.0\n",
      "44   15    07  2012          30  80  19   0.4  60.7   5.2      17   1.1   5.9      0.5    not fire        0.0\n",
      "45   16    07  2012          28  76  21     0  72.6     7    25.5   0.7   8.3      0.4    not fire        0.0\n",
      "46   17    07  2012          29  70  14     0  82.8   9.4    34.1   3.2  11.1      3.6        fire        0.0\n",
      "47   18    07  2012          31  68  14     0  85.4  12.1    43.1   4.6  14.2        6        fire        0.0\n",
      "48   19    07  2012          35  59  17     0  88.1    12    52.8   7.7  18.2     10.9        fire        0.0\n",
      "49   20    07  2012          33  65  15   0.1  81.4  12.3    62.1   2.8  16.5        4        fire        0.0\n",
      "50   21    07  2012          33  70  17     0  85.4  18.5    71.5   5.2  22.4      8.8        fire        0.0\n",
      "51   22    07  2012          28  79  18   0.1  73.4  16.4    79.9   1.8  21.7      2.8    not fire        0.0\n",
      "52   23    07  2012          27  66  22   0.4  68.2  10.5    71.3   1.8  15.4      2.1    not fire        0.0\n",
      "53   24    07  2012          28  78  16   0.1    70   9.6    79.7   1.4  14.7      1.3    not fire        0.0\n",
      "54   25    07  2012          31  65  18     0  84.3  12.5    88.7   4.8  18.5      7.3        fire        0.0\n",
      "55   26    07  2012          36  53  19     0  89.2  17.1    98.6    10  23.9     15.3        fire        0.0\n",
      "56   27    07  2012          36  48  13     0  90.3  22.2   108.5   8.7  29.4     15.3        fire        0.0\n",
      "57   28    07  2012          33  76  15     0  86.5  24.4   117.8   5.6  32.1     11.3        fire        0.0\n",
      "58   29    07  2012          32  73  15     0  86.6  26.7     127   5.6    35     11.9        fire        0.0\n",
      "59   30    07  2012          31  79  15     0  85.4  28.5     136   4.7  37.4     10.7        fire        0.0\n",
      "60   31    07  2012          35  64  17     0  87.2  31.9   145.7   6.8  41.2     15.7        fire        0.0\n",
      "61   01    08  2012          36  45  14     0  78.8   4.8    10.2     2   4.7      0.9    not fire        0.0\n",
      "62   02    08  2012          35  55  12   0.4    78   5.8      10   1.7   5.5      0.8    not fire        0.0\n",
      "63   03    08  2012          35  63  14   0.3  76.6   5.7      10   1.7   5.5      0.8    not fire        0.0\n",
      "64   04    08  2012          34  69  13     0    85   8.2    19.8     4   8.2      3.9        fire        0.0\n",
      "65   05    08  2012          34  65  13     0  86.8  11.1    29.7   5.2  11.5      6.1        fire        0.0\n",
      "66   06    08  2012          32  75  14     0  86.4    13    39.1   5.2  14.2      6.8        fire        0.0\n",
      "67   07    08  2012          32  69  16     0  86.5  15.5    48.6   5.5  17.2        8        fire        0.0\n",
      "68   08    08  2012          32  60  18   0.3  77.1  11.3      47   2.2  14.1      2.6    not fire        0.0\n",
      "69   09    08  2012          35  59  17     0  87.4  14.8      57   6.9  17.9      9.9        fire        0.0\n",
      "70   10    08  2012          35  55  14     0  88.9  18.6      67   7.4  21.9     11.6        fire        0.0\n",
      "71   11    08  2012          35  63  13     0  88.9  21.7      77   7.1  25.5     12.1        fire        0.0\n",
      "72   12    08  2012          35  51  13   0.3  81.3  15.6    75.1   2.5  20.7      4.2    not fire        0.0\n",
      "73   13    08  2012          35  63  15     0    87    19    85.1   5.9  24.4     10.2        fire        0.0\n",
      "74   14    08  2012          33  66  14     0    87  21.7    94.7   5.7  27.2     10.6        fire        0.0\n",
      "75   15    08  2012          36  55  13   0.3  82.4  15.6    92.5   3.7    22      6.3        fire        0.0\n",
      "76   16    08  2012          36  61  18   0.3  80.2  11.7    90.4   2.8  17.6      4.2        fire        0.0\n",
      "77   17    08  2012          37  52  18     0  89.3    16   100.7   9.7  22.9     14.6        fire        0.0\n",
      "78   18    08  2012          36  54  18     0  89.4    20   110.9   9.7  27.5     16.1        fire        0.0\n",
      "79   19    08  2012          35  62  19     0  89.4  23.2   120.9   9.7  31.3     17.2        fire        0.0\n",
      "80   20    08  2012          35  68  19     0  88.3  25.9   130.6   8.8  34.7     16.8        fire        0.0\n",
      "81   21    08  2012          36  58  19     0  88.6  29.6   141.1   9.2  38.8     18.4        fire        0.0\n",
      "82   22    08  2012          36  55  18     0  89.1  33.5   151.3   9.9  43.1     20.4        fire        0.0\n",
      "83   23    08  2012          36  53  16     0  89.5  37.6   161.5  10.4  47.5     22.3           fire     0.0\n",
      "84   24    08  2012          34  64  14     0  88.9  40.5   171.3     9  50.9     20.9        fire        0.0\n",
      "85   25    08  2012          35  60  15     0  88.9  43.9   181.3   8.2  54.7     20.3           fire     0.0\n",
      "86   26    08  2012          31  78  18     0  85.8  45.6   190.6   4.7  57.1     13.7          fire      0.0\n",
      "87   27    08  2012          33  82  21     0  84.9    47   200.2   4.4  59.3     13.2           fire     0.0\n",
      "88   28    08  2012          34  64  16     0  89.4  50.2   210.4   7.3  62.9     19.9          fire      0.0\n",
      "89   29    08  2012          35  48  18     0  90.1  54.2   220.4  12.5  67.4     30.2        fire        0.0\n",
      "90   30    08  2012          35  70  17   0.8  72.7  25.2   180.4   1.7  37.4      4.2    not fire        0.0\n",
      "91   31    08  2012          28  80  21  16.8  52.5   8.7     8.7   0.6   8.3      0.3       not fire     0.0\n",
      "92   01    09  2012          25  76  17   7.2    46   1.3     7.5   0.2   1.8      0.1      not fire      0.0\n",
      "93   02    09  2012          22  86  15  10.1  30.5   0.7       7     0   1.1        0       not fire     0.0\n",
      "94   03    09  2012          25  78  15   3.8  42.6   1.2     7.5   0.1   1.7        0    not fire        0.0\n",
      "95   04    09  2012          29  73  17   0.1  68.4   1.9    15.7   1.4   2.9      0.5    not fire        0.0\n",
      "96   05    09  2012          29  75  16     0  80.8   3.4      24   2.8   5.1      1.7        fire        0.0\n",
      "97   06    09  2012          29  74  19   0.1  75.8   3.6    32.2   2.1   5.6      0.9    not fire        0.0\n",
      "98   07    09  2012          31  71  17   0.3  69.6   3.2    30.1   1.5   5.1      0.6    not fire        0.0\n",
      "99   08    09  2012          30  73  17   0.9    62   2.6     8.4   1.1     3      0.4    not fire        0.0\n",
      "100  09    09  2012          30  77  15     1  56.1   2.1     8.4   0.7   2.6      0.2    not fire        0.0\n",
      "101  10    09  2012          33  73  12   1.8  59.9   2.2     8.9   0.7   2.7      0.3    not fire        0.0\n",
      "102  11    09  2012          30  77  21   1.8  58.5   1.9     8.4   1.1   2.4      0.3    not fire        0.0\n",
      "103  12    09  2012          29  88  13     0    71   2.6    16.6   1.2   3.7      0.5    not fire        0.0\n",
      "104  13    09  2012          25  86  21   4.6  40.9   1.3     7.5   0.1   1.8        0    not fire        0.0\n",
      "105  14    09  2012          22  76  26   8.3  47.4   1.1       7   0.4   1.6      0.1    not fire        0.0\n",
      "106  15    09  2012          24  82  15   0.4  44.9   0.9     7.3   0.2   1.4        0    not fire        0.0\n",
      "107  16    09  2012          30  65  14     0  78.1   3.2    15.7   1.9   4.2      0.8    not fire        0.0\n",
      "108  17    09  2012          31  52  14     0  87.7   6.4    24.3   6.2   7.7      5.9        fire        0.0\n",
      "109  18    09  2012          32  49  11     0  89.4   9.8    33.1   6.8  11.3      7.7        fire        0.0\n",
      "110  19    09  2012          29  57  14     0  89.3  12.5    41.3   7.8  14.2      9.7        fire        0.0\n",
      "111  20    09  2012          28  84  18     0  83.8  13.5    49.3   4.5    16      6.3           fire     0.0\n",
      "112  21    09  2012          31  55  11     0  87.8  16.5    57.9   5.4  19.2      8.3        fire        0.0\n",
      "113  22    09  2012          31  50  19   0.6  77.8  10.6    41.4   2.4  12.9      2.8    not fire        0.0\n",
      "114  23    09  2012          32  54  11   0.5  73.7   7.9    30.4   1.2   9.6      0.7    not fire        0.0\n",
      "115  24    09  2012          29  65  19   0.6  68.3   5.5    15.2   1.5   5.8      0.7    not fire        0.0\n",
      "116  25    09  2012          26  81  21   5.8  48.6     3     7.7   0.4     3      0.1    not fire        0.0\n",
      "117  26    09  2012          31  54  11     0    82     6    16.3   2.5   6.2      1.7    not fire        0.0\n",
      "118  27    09  2012          31  66  11     0  85.7   8.3    24.9     4     9      4.1        fire        0.0\n",
      "119  28    09  2012          32  47  14   0.7  77.5   7.1     8.8   1.8   6.8      0.9    not fire        0.0\n",
      "120  29    09  2012          26  80  16   1.8  47.4   2.9     7.7   0.3     3      0.1    not fire        0.0\n",
      "121  30    09  2012          25  78  14   1.4    45   1.9     7.5   0.2   2.4      0.1    not fire        0.0\n",
      "122  01    06  2012          32  71  12   0.7  57.1   2.5     8.2   0.6   2.8      0.2    not fire        1.0\n",
      "123  02    06  2012          30  73  13     4  55.7   2.7     7.8   0.6   2.9      0.2    not fire        1.0\n",
      "124  03    06  2012          29  80  14     2  48.7   2.2     7.6   0.3   2.6      0.1    not fire        1.0\n",
      "125  04    06  2012          30  64  14     0  79.4   5.2    15.4   2.2   5.6        1    not fire        1.0\n",
      "126  05    06  2012          32  60  14   0.2  77.1     6    17.6   1.8   6.5      0.9    not fire        1.0\n",
      "127  06    06  2012          35  54  11   0.1  83.7   8.4    26.3   3.1   9.3      3.1        fire        1.0\n",
      "128  07    06  2012          35  44  17   0.2  85.6   9.9    28.9   5.4  10.7        6        fire        1.0\n",
      "129  08    06  2012          28  51  17   1.3  71.4   7.7     7.4   1.5   7.3      0.8    not fire        1.0\n",
      "130  09    06  2012          27  59  18   0.1  78.1   8.5    14.7   2.4   8.3      1.9    not fire        1.0\n",
      "131  10    06  2012          30  41  15     0  89.4  13.3    22.5   8.4  13.1       10        fire        1.0\n",
      "132  11    06  2012          31  42  21     0  90.6  18.2    30.5  13.4    18     16.7        fire        1.0\n",
      "133  12    06  2012          27  58  17     0  88.9  21.3    37.8   8.7  21.2     12.9        fire        1.0\n",
      "134  13    06  2012          30  52  15     2  72.3  11.4     7.8   1.4  10.9      0.9    not fire        1.0\n",
      "135  14    06  2012          27  79  16   0.7  53.4   6.4     7.3   0.5   6.1      0.3    not fire        1.0\n",
      "136  15    06  2012          28  90  15     0  66.8   7.2    14.7   1.2   7.1      0.6    not fire        1.0\n",
      "137  16    06  2012          29  87  15   0.4  47.4   4.2       8   0.2   4.1      0.1    not fire        1.0\n",
      "138  17    06  2012          31  69  17   4.7  62.2   3.9       8   1.1   3.8      0.4    not fire        1.0\n",
      "139  18    06  2012          33  62  10   8.7  65.5   4.6     8.3   0.9   4.4      0.4    not fire        1.0\n",
      "140  19    06  2012          32  67  14   4.5  64.6   4.4     8.2     1   4.2      0.4    not fire        1.0\n",
      "141  20    06  2012          31  72  14   0.2  60.2   3.8       8   0.8   3.7      0.3    not fire        1.0\n",
      "142  21    06  2012          32  55  14     0  86.2   8.3    18.4     5   8.2      4.9        fire        1.0\n",
      "143  22    06  2012          33  46  14   1.1  78.3   8.1     8.3   1.9   7.7      1.2    not fire        1.0\n",
      "144  23    06  2012          33  59  16   0.8  74.2     7     8.3   1.6   6.7      0.8    not fire        1.0\n",
      "145  24    06  2012          35  68  16     0  85.3    10      17   4.9   9.9      5.3        fire        1.0\n",
      "146  25    06  2012          34  70  16     0    86  12.8    25.6   5.4  12.7      6.7        fire        1.0\n",
      "147  26    06  2012          36  62  16     0  87.8  16.5    34.5     7  16.4      9.5        fire        1.0\n",
      "148  27    06  2012          36  55  15     0  89.1  20.9    43.3     8  20.8       12        fire        1.0\n",
      "149  28    06  2012          37  37  13     0  92.5  27.2    52.4  11.7  27.1     18.4        fire        1.0\n",
      "150  29    06  2012          37  36  13   0.6  86.2  17.9    36.7   4.8  17.8      7.2        fire        1.0\n",
      "151  30    06  2012          34  42  15   1.7  79.7    12     8.5   2.2  11.5      2.2  not fire          1.0\n",
      "152  01    07  2012          28  58  18   2.2  63.7   3.2     8.5   1.2   3.3      0.5    not fire        1.0\n",
      "153  02    07  2012          33  48  16     0  87.6   7.9    17.8   6.8   7.8      6.4        fire        1.0\n",
      "154  03    07  2012          34  56  17   0.1  84.7   9.7    27.3   4.7  10.3      5.2        fire        1.0\n",
      "155  04    07  2012          34  58  18     0    88  13.6    36.8     8  14.1      9.9        fire        1.0\n",
      "156  05    07  2012          34  45  18     0  90.5  18.7    46.4  11.3  18.7       15        fire        1.0\n",
      "157  06    07  2012          35  42  15   0.3  84.7  15.5    45.1   4.3  16.7      6.3        fire        1.0\n",
      "158  07    07  2012          38  43  13   0.5    85    13    35.4   4.1  13.7      5.2        fire        1.0\n",
      "159  08    07  2012          35  47  18     6  80.8   9.8     9.7   3.1   9.4        3        fire        1.0\n",
      "160  09    07  2012          36  43  15   1.9  82.3   9.4     9.9   3.2     9      3.1        fire        1.0\n",
      "161  10    07  2012          34  51  16   3.8  77.5     8     9.5     2   7.7      1.3    not fire        1.0\n",
      "162  11    07  2012          34  56  15   2.9  74.8   7.1     9.5   1.6   6.8      0.8    not fire        1.0\n",
      "163  12    07  2012          36  44  13     0  90.1  12.6    19.4   8.3  12.5      9.6        fire        1.0\n",
      "164  13    07  2012          39  45  13   0.6  85.2  11.3    10.4   4.2  10.9      4.7        fire        1.0\n",
      "165  14    07  2012          37  37  18   0.2  88.9  12.9  14.6 9  12.5  10.4  fire               NaN     1.0\n",
      "166  15    07  2012          34  45  17     0  90.5    18    24.1  10.9  17.7     14.1        fire        1.0\n",
      "167  16    07  2012          31  83  17     0  84.5  19.4    33.1   4.7  19.2      7.3        fire        1.0\n",
      "168  17    07  2012          32  81  17     0  84.6  21.1    42.3   4.7  20.9      7.7        fire        1.0\n",
      "169  18    07  2012          33  68  15     0  86.1  23.9    51.6   5.2  23.9      9.1        fire        1.0\n",
      "170  19    07  2012          34  58  16     0  88.1  27.8    61.1   7.3  27.7       13        fire        1.0\n",
      "171  20    07  2012          36  50  16     0  89.9  32.7      71   9.5  32.6     17.3        fire        1.0\n",
      "172  21    07  2012          36  29  18     0  93.9  39.6    80.6  18.5  39.5       30        fire        1.0\n",
      "173  22    07  2012          32  48  18     0  91.5  44.2    90.1  13.2    44     25.4        fire        1.0\n",
      "174  23    07  2012          31  71  17     0  87.3  46.6      99   6.9  46.5     16.3        fire        1.0\n",
      "175  24    07  2012          33  63  17   1.1  72.8  20.9    56.6   1.6  21.7      2.5    not fire        1.0\n",
      "176  25    07  2012          39  64   9   1.2  73.8  11.7    15.9   1.1  11.4      0.7    not fire        1.0\n",
      "177  26    07  2012          35  58  10   0.2  78.3  10.8    19.7   1.6  10.7        1    not fire        1.0\n",
      "178  27    07  2012          29  87  18     0    80  11.8    28.3   2.8  11.8      3.2    not fire        1.0\n",
      "179  28    07  2012          33  57  16     0  87.5  15.7    37.6   6.7  15.7        9        fire        1.0\n",
      "180  29    07  2012          34  59  16     0  88.1  19.5    47.2   7.4  19.5     10.9        fire        1.0\n",
      "181  30    07  2012          36  56  16     0  88.9  23.8    57.1   8.2  23.8     13.2        fire        1.0\n",
      "182  31    07  2012          37  55  15     0  89.3  28.3    67.2   8.3  28.3     14.5        fire        1.0\n",
      "183  01    08  2012          38  52  14     0  78.3   4.4    10.5     2   4.4      0.8    not fire        1.0\n",
      "184  02    08  2012          40  34  14     0  93.3  10.8    21.4  13.8  10.6     13.5        fire        1.0\n",
      "185  03    08  2012          39  33  17     0  93.7  17.1    32.1  17.2  16.9     19.5        fire        1.0\n",
      "186  04    08  2012          38  35  15     0  93.8    23    42.7  15.7  22.9     20.9        fire        1.0\n",
      "187  05    08  2012          34  42  17   0.1  88.3  23.6    52.5    19  23.5     12.6        fire        1.0\n",
      "188  06    08  2012          30  54  14   3.1  70.5    11     9.1   1.3  10.5      0.8    not fire        1.0\n",
      "189  07    08  2012          34  63  13   2.9  69.7   7.2     9.8   1.2   6.9      0.6    not fire        1.0\n",
      "190  08    08  2012          37  56  11     0  87.4  11.2    20.2   5.2    11      5.9        fire        1.0\n",
      "191  09    08  2012          39  43  12     0  91.7  16.5    30.9   9.6  16.4     12.7        fire        1.0\n",
      "192  10    08  2012          39  39  15   0.2  89.3  15.8    35.4   8.2  15.8     10.7        fire        1.0\n",
      "193  11    08  2012          40  31  15     0  94.2  22.5    46.3  16.6  22.4     21.6        fire        1.0\n",
      "194  12    08  2012          39  21  17   0.4    93  18.4    41.5  15.5  18.4     18.8        fire        1.0\n",
      "195  13    08  2012          35  34  16   0.2  88.3  16.9    45.1   7.5  17.5     10.5        fire        1.0\n",
      "196  14    08  2012          37  40  13     0  91.9  22.3    55.5  10.8  22.3     15.7        fire        1.0\n",
      "197  15    08  2012          35  46  13   0.3  83.9  16.9    54.2   3.5    19      5.5        fire        1.0\n",
      "198  16    08  2012          40  41  10   0.1    92  22.6    65.1   9.5  24.2     14.8        fire        1.0\n",
      "199  17    08  2012          42  24   9     0    96  30.3    76.4  15.7  30.4       24        fire        1.0\n",
      "200  18    08  2012          37  37  14     0  94.3  35.9    86.8    16  35.9     26.3        fire        1.0\n",
      "201  19    08  2012          35  66  15   0.1  82.7  32.7    96.8   3.3  35.5      7.7        fire        1.0\n",
      "202  20    08  2012          36  81  15     0  83.7  34.4     107   3.8  38.1        9        fire        1.0\n",
      "203  21    08  2012          36  71  15     0    86  36.9   117.1   5.1  41.3     12.2        fire        1.0\n",
      "204  22    08  2012          37  53  14     0  89.5  41.1   127.5     8  45.5     18.1        fire        1.0\n",
      "205  23    08  2012          36  43  16     0  91.2  46.1   137.7  11.5  50.2     24.5        fire        1.0\n",
      "206  24    08  2012          35  38  15     0  92.1  51.3   147.7  12.2  54.9     26.9        fire        1.0\n",
      "207  25    08  2012          34  40  18     0  92.1  56.3   157.5  14.3  59.5     31.1        fire        1.0\n",
      "208  26    08  2012          33  37  16     0  92.2  61.3   167.2  13.1    64     30.3        fire        1.0\n",
      "209  27    08  2012          36  54  14     0    91  65.9   177.3    10    68     26.1        fire        1.0\n",
      "210  28    08  2012          35  56  14   0.4  79.2    37     166   2.1  30.6      6.1    not fire        1.0\n",
      "211  29    08  2012          35  53  17   0.5  80.2  20.7   149.2   2.7  30.6      5.9        fire        1.0\n",
      "212  30    08  2012          34  49  15     0  89.2  24.8   159.1   8.1  35.7       16        fire        1.0\n",
      "213  31    08  2012          30  59  19     0  89.1  27.8   168.2   9.8  39.3     19.4        fire        1.0\n",
      "214  01    09  2012          29  86  16     0  37.9   0.9     8.2   0.1   1.4        0    not fire        1.0\n",
      "215  02    09  2012          28  67  19     0  75.4   2.9    16.3     2     4      0.8    not fire        1.0\n",
      "216  03    09  2012          28  75  16     0  82.2   4.4    24.3   3.3     6      2.5        fire        1.0\n",
      "217  04    09  2012          30  66  15   0.2  73.5   4.1    26.6   1.5     6      0.7    not fire        1.0\n",
      "218  05    09  2012          30  58  12   4.1  66.1     4     8.4     1   3.9      0.4    not fire        1.0\n",
      "219  06    09  2012          34  71  14   6.5  64.5   3.3     9.1     1   3.5      0.4    not fire        1.0\n",
      "220  07    09  2012          31  62  15     0  83.3   5.8    17.7   3.8   6.4      3.2        fire        1.0\n",
      "221  08    09  2012          30  88  14     0  82.5   6.6    26.1     3   8.1      2.7        fire        1.0\n",
      "222  09    09  2012          30  80  15     0  83.1   7.9    34.5   3.5    10      3.7        fire        1.0\n",
      "223  10    09  2012          29  74  15   1.1  59.5   4.7     8.2   0.8   4.6      0.3    not fire        1.0\n",
      "224  11    09  2012          30  73  14     0  79.2   6.5    16.6   2.1   6.6      1.2    not fire        1.0\n",
      "225  12    09  2012          31  72  14     0  84.2   8.3    25.2   3.8   9.1      3.9        fire        1.0\n",
      "226  13    09  2012          29  49  19     0  88.6  11.5    33.4   9.1  12.4     10.3        fire        1.0\n",
      "227  14    09  2012          28  81  15     0  84.6  12.6    41.5   4.3  14.3      5.7        fire        1.0\n",
      "228  15    09  2012          32  51  13     0  88.7    16    50.2   6.9  17.8      9.8        fire        1.0\n",
      "229  16    09  2012          33  26  13     0  93.9  21.2    59.2  14.2  22.4     19.3        fire        1.0\n",
      "230  17    09  2012          34  44  12     0  92.5  25.2    63.3  11.2  26.2     17.5        fire        1.0\n",
      "231  18    09  2012          36  33  13   0.1  90.6  25.8    77.8     9  28.2     15.4        fire        1.0\n",
      "232  19    09  2012          29  41   8   0.1  83.9  24.9      86   2.7  28.9      5.6        fire        1.0\n",
      "233  20    09  2012          34  58  13   0.2  79.5  18.7      88   2.1  24.4      3.8    not fire        1.0\n",
      "234  21    09  2012          35  34  17     0  92.2  23.6    97.3  13.8  29.4     21.6        fire        1.0\n",
      "235  22    09  2012          33  64  13     0  88.9  26.1   106.3   7.1  32.4     13.7        fire        1.0\n",
      "236  23    09  2012          35  56  14     0    89  29.4   115.6   7.5    36     15.2        fire        1.0\n",
      "237  24    09  2012          26  49   6     2  61.3  11.9    28.1   0.6  11.9      0.4    not fire        1.0\n",
      "238  25    09  2012          28  70  15     0  79.9  13.8    36.1   2.4  14.1        3    not fire        1.0\n",
      "239  26    09  2012          30  65  14     0  85.4    16    44.5   4.5  16.9      6.5        fire        1.0\n",
      "240  27    09  2012          28  87  15   4.4  41.1   6.5       8   0.1   6.2        0    not fire        1.0\n",
      "241  28    09  2012          27  87  29   0.5  45.9   3.5     7.9   0.4   3.4      0.2    not fire        1.0\n",
      "242  29    09  2012          24  54  18   0.1  79.7   4.3    15.2   1.7   5.1      0.7    not fire        1.0\n",
      "243  30    09  2012          24  64  15   0.2  67.3   3.8    16.5   1.2   4.8      0.5   not fire         1.0\n"
     ]
    }
   ],
   "source": [
    "print(df.to_string())\n",
    "\n",
    "# some values in columns like Rain, FFMX,DMC etc have  a spaces"
   ]
  },
  {
   "cell_type": "code",
   "execution_count": 24,
   "id": "79dbc507",
   "metadata": {},
   "outputs": [],
   "source": [
    "# removing spaces\n",
    "\n",
    "for feature in ['Rain', 'FFMC', 'DMC', 'DC', \"ISI\",\"BUI\",'FWI', \"Classes\"]:\n",
    "    df[feature]=df[feature].str.replace(\" \",\"\")"
   ]
  },
  {
   "cell_type": "code",
   "execution_count": 25,
   "id": "2c9493e5",
   "metadata": {},
   "outputs": [
    {
     "data": {
      "text/plain": [
       "Int64Index([165], dtype='int64')"
      ]
     },
     "execution_count": 25,
     "metadata": {},
     "output_type": "execute_result"
    }
   ],
   "source": [
    "df[df['FWI']=='fire'].index\n",
    "\n",
    "# index = 165 has a 'fire' value it should be float "
   ]
  },
  {
   "cell_type": "code",
   "execution_count": 26,
   "id": "aef7a28c",
   "metadata": {},
   "outputs": [
    {
     "data": {
      "text/html": [
       "<div>\n",
       "<style scoped>\n",
       "    .dataframe tbody tr th:only-of-type {\n",
       "        vertical-align: middle;\n",
       "    }\n",
       "\n",
       "    .dataframe tbody tr th {\n",
       "        vertical-align: top;\n",
       "    }\n",
       "\n",
       "    .dataframe thead th {\n",
       "        text-align: right;\n",
       "    }\n",
       "</style>\n",
       "<table border=\"1\" class=\"dataframe\">\n",
       "  <thead>\n",
       "    <tr style=\"text-align: right;\">\n",
       "      <th></th>\n",
       "      <th>day</th>\n",
       "      <th>month</th>\n",
       "      <th>year</th>\n",
       "      <th>Temperature</th>\n",
       "      <th>RH</th>\n",
       "      <th>Ws</th>\n",
       "      <th>Rain</th>\n",
       "      <th>FFMC</th>\n",
       "      <th>DMC</th>\n",
       "      <th>DC</th>\n",
       "      <th>ISI</th>\n",
       "      <th>BUI</th>\n",
       "      <th>FWI</th>\n",
       "      <th>Classes</th>\n",
       "      <th>Region</th>\n",
       "    </tr>\n",
       "  </thead>\n",
       "  <tbody>\n",
       "    <tr>\n",
       "      <th>165</th>\n",
       "      <td>14</td>\n",
       "      <td>07</td>\n",
       "      <td>2012</td>\n",
       "      <td>37</td>\n",
       "      <td>37</td>\n",
       "      <td>18</td>\n",
       "      <td>0.2</td>\n",
       "      <td>88.9</td>\n",
       "      <td>12.9</td>\n",
       "      <td>14.69</td>\n",
       "      <td>12.5</td>\n",
       "      <td>10.4</td>\n",
       "      <td>fire</td>\n",
       "      <td>NaN</td>\n",
       "      <td>1.0</td>\n",
       "    </tr>\n",
       "    <tr>\n",
       "      <th>166</th>\n",
       "      <td>15</td>\n",
       "      <td>07</td>\n",
       "      <td>2012</td>\n",
       "      <td>34</td>\n",
       "      <td>45</td>\n",
       "      <td>17</td>\n",
       "      <td>0</td>\n",
       "      <td>90.5</td>\n",
       "      <td>18</td>\n",
       "      <td>24.1</td>\n",
       "      <td>10.9</td>\n",
       "      <td>17.7</td>\n",
       "      <td>14.1</td>\n",
       "      <td>fire</td>\n",
       "      <td>1.0</td>\n",
       "    </tr>\n",
       "    <tr>\n",
       "      <th>167</th>\n",
       "      <td>16</td>\n",
       "      <td>07</td>\n",
       "      <td>2012</td>\n",
       "      <td>31</td>\n",
       "      <td>83</td>\n",
       "      <td>17</td>\n",
       "      <td>0</td>\n",
       "      <td>84.5</td>\n",
       "      <td>19.4</td>\n",
       "      <td>33.1</td>\n",
       "      <td>4.7</td>\n",
       "      <td>19.2</td>\n",
       "      <td>7.3</td>\n",
       "      <td>fire</td>\n",
       "      <td>1.0</td>\n",
       "    </tr>\n",
       "    <tr>\n",
       "      <th>168</th>\n",
       "      <td>17</td>\n",
       "      <td>07</td>\n",
       "      <td>2012</td>\n",
       "      <td>32</td>\n",
       "      <td>81</td>\n",
       "      <td>17</td>\n",
       "      <td>0</td>\n",
       "      <td>84.6</td>\n",
       "      <td>21.1</td>\n",
       "      <td>42.3</td>\n",
       "      <td>4.7</td>\n",
       "      <td>20.9</td>\n",
       "      <td>7.7</td>\n",
       "      <td>fire</td>\n",
       "      <td>1.0</td>\n",
       "    </tr>\n",
       "    <tr>\n",
       "      <th>169</th>\n",
       "      <td>18</td>\n",
       "      <td>07</td>\n",
       "      <td>2012</td>\n",
       "      <td>33</td>\n",
       "      <td>68</td>\n",
       "      <td>15</td>\n",
       "      <td>0</td>\n",
       "      <td>86.1</td>\n",
       "      <td>23.9</td>\n",
       "      <td>51.6</td>\n",
       "      <td>5.2</td>\n",
       "      <td>23.9</td>\n",
       "      <td>9.1</td>\n",
       "      <td>fire</td>\n",
       "      <td>1.0</td>\n",
       "    </tr>\n",
       "  </tbody>\n",
       "</table>\n",
       "</div>"
      ],
      "text/plain": [
       "    day month  year Temperature  RH  Ws Rain  FFMC   DMC     DC   ISI   BUI  \\\n",
       "165  14    07  2012          37  37  18  0.2  88.9  12.9  14.69  12.5  10.4   \n",
       "166  15    07  2012          34  45  17    0  90.5    18   24.1  10.9  17.7   \n",
       "167  16    07  2012          31  83  17    0  84.5  19.4   33.1   4.7  19.2   \n",
       "168  17    07  2012          32  81  17    0  84.6  21.1   42.3   4.7  20.9   \n",
       "169  18    07  2012          33  68  15    0  86.1  23.9   51.6   5.2  23.9   \n",
       "\n",
       "      FWI Classes  Region  \n",
       "165  fire     NaN     1.0  \n",
       "166  14.1    fire     1.0  \n",
       "167   7.3    fire     1.0  \n",
       "168   7.7    fire     1.0  \n",
       "169   9.1    fire     1.0  "
      ]
     },
     "execution_count": 26,
     "metadata": {},
     "output_type": "execute_result"
    }
   ],
   "source": [
    "df.loc[165:].head()  # you can see 'fire'in FWI columna t index= 165,12"
   ]
  },
  {
   "cell_type": "code",
   "execution_count": 28,
   "id": "e8780d5c",
   "metadata": {},
   "outputs": [],
   "source": [
    "# replace 'fire' with float, 0.1\n",
    "\n",
    "# df.loc[165:\"FWI\"]= '0.1'  this will replace the all the value of dataset with 0.1"
   ]
  },
  {
   "cell_type": "code",
   "execution_count": 27,
   "id": "07c784d4",
   "metadata": {},
   "outputs": [],
   "source": [
    "# replace 'fire' with float, 0.1\n",
    "\n",
    "df.iloc[165,12]= '0.1'"
   ]
  },
  {
   "cell_type": "code",
   "execution_count": 28,
   "id": "7ead3f71",
   "metadata": {},
   "outputs": [
    {
     "data": {
      "text/html": [
       "<div>\n",
       "<style scoped>\n",
       "    .dataframe tbody tr th:only-of-type {\n",
       "        vertical-align: middle;\n",
       "    }\n",
       "\n",
       "    .dataframe tbody tr th {\n",
       "        vertical-align: top;\n",
       "    }\n",
       "\n",
       "    .dataframe thead th {\n",
       "        text-align: right;\n",
       "    }\n",
       "</style>\n",
       "<table border=\"1\" class=\"dataframe\">\n",
       "  <thead>\n",
       "    <tr style=\"text-align: right;\">\n",
       "      <th></th>\n",
       "      <th>day</th>\n",
       "      <th>month</th>\n",
       "      <th>year</th>\n",
       "      <th>Temperature</th>\n",
       "      <th>RH</th>\n",
       "      <th>Ws</th>\n",
       "      <th>Rain</th>\n",
       "      <th>FFMC</th>\n",
       "      <th>DMC</th>\n",
       "      <th>DC</th>\n",
       "      <th>ISI</th>\n",
       "      <th>BUI</th>\n",
       "      <th>FWI</th>\n",
       "      <th>Classes</th>\n",
       "      <th>Region</th>\n",
       "    </tr>\n",
       "  </thead>\n",
       "  <tbody>\n",
       "    <tr>\n",
       "      <th>165</th>\n",
       "      <td>14</td>\n",
       "      <td>07</td>\n",
       "      <td>2012</td>\n",
       "      <td>37</td>\n",
       "      <td>37</td>\n",
       "      <td>18</td>\n",
       "      <td>0.2</td>\n",
       "      <td>88.9</td>\n",
       "      <td>12.9</td>\n",
       "      <td>14.69</td>\n",
       "      <td>12.5</td>\n",
       "      <td>10.4</td>\n",
       "      <td>0.1</td>\n",
       "      <td>NaN</td>\n",
       "      <td>1.0</td>\n",
       "    </tr>\n",
       "    <tr>\n",
       "      <th>166</th>\n",
       "      <td>15</td>\n",
       "      <td>07</td>\n",
       "      <td>2012</td>\n",
       "      <td>34</td>\n",
       "      <td>45</td>\n",
       "      <td>17</td>\n",
       "      <td>0</td>\n",
       "      <td>90.5</td>\n",
       "      <td>18</td>\n",
       "      <td>24.1</td>\n",
       "      <td>10.9</td>\n",
       "      <td>17.7</td>\n",
       "      <td>14.1</td>\n",
       "      <td>fire</td>\n",
       "      <td>1.0</td>\n",
       "    </tr>\n",
       "    <tr>\n",
       "      <th>167</th>\n",
       "      <td>16</td>\n",
       "      <td>07</td>\n",
       "      <td>2012</td>\n",
       "      <td>31</td>\n",
       "      <td>83</td>\n",
       "      <td>17</td>\n",
       "      <td>0</td>\n",
       "      <td>84.5</td>\n",
       "      <td>19.4</td>\n",
       "      <td>33.1</td>\n",
       "      <td>4.7</td>\n",
       "      <td>19.2</td>\n",
       "      <td>7.3</td>\n",
       "      <td>fire</td>\n",
       "      <td>1.0</td>\n",
       "    </tr>\n",
       "    <tr>\n",
       "      <th>168</th>\n",
       "      <td>17</td>\n",
       "      <td>07</td>\n",
       "      <td>2012</td>\n",
       "      <td>32</td>\n",
       "      <td>81</td>\n",
       "      <td>17</td>\n",
       "      <td>0</td>\n",
       "      <td>84.6</td>\n",
       "      <td>21.1</td>\n",
       "      <td>42.3</td>\n",
       "      <td>4.7</td>\n",
       "      <td>20.9</td>\n",
       "      <td>7.7</td>\n",
       "      <td>fire</td>\n",
       "      <td>1.0</td>\n",
       "    </tr>\n",
       "    <tr>\n",
       "      <th>169</th>\n",
       "      <td>18</td>\n",
       "      <td>07</td>\n",
       "      <td>2012</td>\n",
       "      <td>33</td>\n",
       "      <td>68</td>\n",
       "      <td>15</td>\n",
       "      <td>0</td>\n",
       "      <td>86.1</td>\n",
       "      <td>23.9</td>\n",
       "      <td>51.6</td>\n",
       "      <td>5.2</td>\n",
       "      <td>23.9</td>\n",
       "      <td>9.1</td>\n",
       "      <td>fire</td>\n",
       "      <td>1.0</td>\n",
       "    </tr>\n",
       "  </tbody>\n",
       "</table>\n",
       "</div>"
      ],
      "text/plain": [
       "    day month  year Temperature  RH  Ws Rain  FFMC   DMC     DC   ISI   BUI  \\\n",
       "165  14    07  2012          37  37  18  0.2  88.9  12.9  14.69  12.5  10.4   \n",
       "166  15    07  2012          34  45  17    0  90.5    18   24.1  10.9  17.7   \n",
       "167  16    07  2012          31  83  17    0  84.5  19.4   33.1   4.7  19.2   \n",
       "168  17    07  2012          32  81  17    0  84.6  21.1   42.3   4.7  20.9   \n",
       "169  18    07  2012          33  68  15    0  86.1  23.9   51.6   5.2  23.9   \n",
       "\n",
       "      FWI Classes  Region  \n",
       "165   0.1     NaN     1.0  \n",
       "166  14.1    fire     1.0  \n",
       "167   7.3    fire     1.0  \n",
       "168   7.7    fire     1.0  \n",
       "169   9.1    fire     1.0  "
      ]
     },
     "execution_count": 28,
     "metadata": {},
     "output_type": "execute_result"
    }
   ],
   "source": [
    "df.loc[165:].head()"
   ]
  },
  {
   "cell_type": "code",
   "execution_count": 29,
   "id": "3016700a",
   "metadata": {},
   "outputs": [],
   "source": [
    "for feature in df.columns:\n",
    "    df[df[feature]=='fire'].index"
   ]
  },
  {
   "cell_type": "code",
   "execution_count": 30,
   "id": "50d57153",
   "metadata": {},
   "outputs": [
    {
     "data": {
      "text/html": [
       "<div>\n",
       "<style scoped>\n",
       "    .dataframe tbody tr th:only-of-type {\n",
       "        vertical-align: middle;\n",
       "    }\n",
       "\n",
       "    .dataframe tbody tr th {\n",
       "        vertical-align: top;\n",
       "    }\n",
       "\n",
       "    .dataframe thead th {\n",
       "        text-align: right;\n",
       "    }\n",
       "</style>\n",
       "<table border=\"1\" class=\"dataframe\">\n",
       "  <thead>\n",
       "    <tr style=\"text-align: right;\">\n",
       "      <th></th>\n",
       "      <th>day</th>\n",
       "      <th>month</th>\n",
       "      <th>year</th>\n",
       "      <th>Temperature</th>\n",
       "      <th>RH</th>\n",
       "      <th>Ws</th>\n",
       "      <th>Rain</th>\n",
       "      <th>FFMC</th>\n",
       "      <th>DMC</th>\n",
       "      <th>DC</th>\n",
       "      <th>ISI</th>\n",
       "      <th>BUI</th>\n",
       "      <th>FWI</th>\n",
       "      <th>Classes</th>\n",
       "      <th>Region</th>\n",
       "    </tr>\n",
       "  </thead>\n",
       "  <tbody>\n",
       "    <tr>\n",
       "      <th>0</th>\n",
       "      <td>01</td>\n",
       "      <td>06</td>\n",
       "      <td>2012</td>\n",
       "      <td>29</td>\n",
       "      <td>57</td>\n",
       "      <td>18</td>\n",
       "      <td>0</td>\n",
       "      <td>65.7</td>\n",
       "      <td>3.4</td>\n",
       "      <td>7.6</td>\n",
       "      <td>1.3</td>\n",
       "      <td>3.4</td>\n",
       "      <td>0.5</td>\n",
       "      <td>notfire</td>\n",
       "      <td>0.0</td>\n",
       "    </tr>\n",
       "    <tr>\n",
       "      <th>1</th>\n",
       "      <td>02</td>\n",
       "      <td>06</td>\n",
       "      <td>2012</td>\n",
       "      <td>29</td>\n",
       "      <td>61</td>\n",
       "      <td>13</td>\n",
       "      <td>1.3</td>\n",
       "      <td>64.4</td>\n",
       "      <td>4.1</td>\n",
       "      <td>7.6</td>\n",
       "      <td>1</td>\n",
       "      <td>3.9</td>\n",
       "      <td>0.4</td>\n",
       "      <td>notfire</td>\n",
       "      <td>0.0</td>\n",
       "    </tr>\n",
       "    <tr>\n",
       "      <th>2</th>\n",
       "      <td>03</td>\n",
       "      <td>06</td>\n",
       "      <td>2012</td>\n",
       "      <td>26</td>\n",
       "      <td>82</td>\n",
       "      <td>22</td>\n",
       "      <td>13.1</td>\n",
       "      <td>47.1</td>\n",
       "      <td>2.5</td>\n",
       "      <td>7.1</td>\n",
       "      <td>0.3</td>\n",
       "      <td>2.7</td>\n",
       "      <td>0.1</td>\n",
       "      <td>notfire</td>\n",
       "      <td>0.0</td>\n",
       "    </tr>\n",
       "    <tr>\n",
       "      <th>3</th>\n",
       "      <td>04</td>\n",
       "      <td>06</td>\n",
       "      <td>2012</td>\n",
       "      <td>25</td>\n",
       "      <td>89</td>\n",
       "      <td>13</td>\n",
       "      <td>2.5</td>\n",
       "      <td>28.6</td>\n",
       "      <td>1.3</td>\n",
       "      <td>6.9</td>\n",
       "      <td>0</td>\n",
       "      <td>1.7</td>\n",
       "      <td>0</td>\n",
       "      <td>notfire</td>\n",
       "      <td>0.0</td>\n",
       "    </tr>\n",
       "    <tr>\n",
       "      <th>4</th>\n",
       "      <td>05</td>\n",
       "      <td>06</td>\n",
       "      <td>2012</td>\n",
       "      <td>27</td>\n",
       "      <td>77</td>\n",
       "      <td>16</td>\n",
       "      <td>0</td>\n",
       "      <td>64.8</td>\n",
       "      <td>3</td>\n",
       "      <td>14.2</td>\n",
       "      <td>1.2</td>\n",
       "      <td>3.9</td>\n",
       "      <td>0.5</td>\n",
       "      <td>notfire</td>\n",
       "      <td>0.0</td>\n",
       "    </tr>\n",
       "    <tr>\n",
       "      <th>...</th>\n",
       "      <td>...</td>\n",
       "      <td>...</td>\n",
       "      <td>...</td>\n",
       "      <td>...</td>\n",
       "      <td>...</td>\n",
       "      <td>...</td>\n",
       "      <td>...</td>\n",
       "      <td>...</td>\n",
       "      <td>...</td>\n",
       "      <td>...</td>\n",
       "      <td>...</td>\n",
       "      <td>...</td>\n",
       "      <td>...</td>\n",
       "      <td>...</td>\n",
       "      <td>...</td>\n",
       "    </tr>\n",
       "    <tr>\n",
       "      <th>239</th>\n",
       "      <td>26</td>\n",
       "      <td>09</td>\n",
       "      <td>2012</td>\n",
       "      <td>30</td>\n",
       "      <td>65</td>\n",
       "      <td>14</td>\n",
       "      <td>0</td>\n",
       "      <td>85.4</td>\n",
       "      <td>16</td>\n",
       "      <td>44.5</td>\n",
       "      <td>4.5</td>\n",
       "      <td>16.9</td>\n",
       "      <td>6.5</td>\n",
       "      <td>fire</td>\n",
       "      <td>1.0</td>\n",
       "    </tr>\n",
       "    <tr>\n",
       "      <th>240</th>\n",
       "      <td>27</td>\n",
       "      <td>09</td>\n",
       "      <td>2012</td>\n",
       "      <td>28</td>\n",
       "      <td>87</td>\n",
       "      <td>15</td>\n",
       "      <td>4.4</td>\n",
       "      <td>41.1</td>\n",
       "      <td>6.5</td>\n",
       "      <td>8</td>\n",
       "      <td>0.1</td>\n",
       "      <td>6.2</td>\n",
       "      <td>0</td>\n",
       "      <td>notfire</td>\n",
       "      <td>1.0</td>\n",
       "    </tr>\n",
       "    <tr>\n",
       "      <th>241</th>\n",
       "      <td>28</td>\n",
       "      <td>09</td>\n",
       "      <td>2012</td>\n",
       "      <td>27</td>\n",
       "      <td>87</td>\n",
       "      <td>29</td>\n",
       "      <td>0.5</td>\n",
       "      <td>45.9</td>\n",
       "      <td>3.5</td>\n",
       "      <td>7.9</td>\n",
       "      <td>0.4</td>\n",
       "      <td>3.4</td>\n",
       "      <td>0.2</td>\n",
       "      <td>notfire</td>\n",
       "      <td>1.0</td>\n",
       "    </tr>\n",
       "    <tr>\n",
       "      <th>242</th>\n",
       "      <td>29</td>\n",
       "      <td>09</td>\n",
       "      <td>2012</td>\n",
       "      <td>24</td>\n",
       "      <td>54</td>\n",
       "      <td>18</td>\n",
       "      <td>0.1</td>\n",
       "      <td>79.7</td>\n",
       "      <td>4.3</td>\n",
       "      <td>15.2</td>\n",
       "      <td>1.7</td>\n",
       "      <td>5.1</td>\n",
       "      <td>0.7</td>\n",
       "      <td>notfire</td>\n",
       "      <td>1.0</td>\n",
       "    </tr>\n",
       "    <tr>\n",
       "      <th>243</th>\n",
       "      <td>30</td>\n",
       "      <td>09</td>\n",
       "      <td>2012</td>\n",
       "      <td>24</td>\n",
       "      <td>64</td>\n",
       "      <td>15</td>\n",
       "      <td>0.2</td>\n",
       "      <td>67.3</td>\n",
       "      <td>3.8</td>\n",
       "      <td>16.5</td>\n",
       "      <td>1.2</td>\n",
       "      <td>4.8</td>\n",
       "      <td>0.5</td>\n",
       "      <td>notfire</td>\n",
       "      <td>1.0</td>\n",
       "    </tr>\n",
       "  </tbody>\n",
       "</table>\n",
       "<p>244 rows × 15 columns</p>\n",
       "</div>"
      ],
      "text/plain": [
       "    day month  year Temperature  RH  Ws  Rain  FFMC  DMC    DC  ISI   BUI  \\\n",
       "0    01    06  2012          29  57  18     0  65.7  3.4   7.6  1.3   3.4   \n",
       "1    02    06  2012          29  61  13   1.3  64.4  4.1   7.6    1   3.9   \n",
       "2    03    06  2012          26  82  22  13.1  47.1  2.5   7.1  0.3   2.7   \n",
       "3    04    06  2012          25  89  13   2.5  28.6  1.3   6.9    0   1.7   \n",
       "4    05    06  2012          27  77  16     0  64.8    3  14.2  1.2   3.9   \n",
       "..   ..   ...   ...         ...  ..  ..   ...   ...  ...   ...  ...   ...   \n",
       "239  26    09  2012          30  65  14     0  85.4   16  44.5  4.5  16.9   \n",
       "240  27    09  2012          28  87  15   4.4  41.1  6.5     8  0.1   6.2   \n",
       "241  28    09  2012          27  87  29   0.5  45.9  3.5   7.9  0.4   3.4   \n",
       "242  29    09  2012          24  54  18   0.1  79.7  4.3  15.2  1.7   5.1   \n",
       "243  30    09  2012          24  64  15   0.2  67.3  3.8  16.5  1.2   4.8   \n",
       "\n",
       "     FWI  Classes  Region  \n",
       "0    0.5  notfire     0.0  \n",
       "1    0.4  notfire     0.0  \n",
       "2    0.1  notfire     0.0  \n",
       "3      0  notfire     0.0  \n",
       "4    0.5  notfire     0.0  \n",
       "..   ...      ...     ...  \n",
       "239  6.5     fire     1.0  \n",
       "240    0  notfire     1.0  \n",
       "241  0.2  notfire     1.0  \n",
       "242  0.7  notfire     1.0  \n",
       "243  0.5  notfire     1.0  \n",
       "\n",
       "[244 rows x 15 columns]"
      ]
     },
     "execution_count": 30,
     "metadata": {},
     "output_type": "execute_result"
    }
   ],
   "source": [
    "df"
   ]
  },
  {
   "cell_type": "markdown",
   "id": "14a9981b",
   "metadata": {},
   "source": [
    "# Changing Datatypes"
   ]
  },
  {
   "cell_type": "code",
   "execution_count": 31,
   "id": "45b40d8d",
   "metadata": {},
   "outputs": [
    {
     "data": {
      "text/plain": [
       "Index(['day', 'month', 'year', 'Temperature', 'RH', 'Ws', 'Rain', 'FFMC',\n",
       "       'DMC', 'DC', 'ISI', 'BUI', 'FWI', 'Classes', 'Region'],\n",
       "      dtype='object')"
      ]
     },
     "execution_count": 31,
     "metadata": {},
     "output_type": "execute_result"
    }
   ],
   "source": [
    "df.columns"
   ]
  },
  {
   "cell_type": "code",
   "execution_count": 34,
   "id": "ce70d45e",
   "metadata": {},
   "outputs": [
    {
     "name": "stdout",
     "output_type": "stream",
     "text": [
      "<class 'pandas.core.frame.DataFrame'>\n",
      "RangeIndex: 244 entries, 0 to 243\n",
      "Data columns (total 15 columns):\n",
      " #   Column       Non-Null Count  Dtype  \n",
      "---  ------       --------------  -----  \n",
      " 0   day          244 non-null    object \n",
      " 1   month        244 non-null    object \n",
      " 2   year         244 non-null    object \n",
      " 3   Temperature  244 non-null    object \n",
      " 4   RH           244 non-null    object \n",
      " 5   Ws           244 non-null    object \n",
      " 6   Rain         244 non-null    object \n",
      " 7   FFMC         244 non-null    object \n",
      " 8   DMC          244 non-null    object \n",
      " 9   DC           244 non-null    object \n",
      " 10  ISI          244 non-null    object \n",
      " 11  BUI          244 non-null    object \n",
      " 12  FWI          244 non-null    object \n",
      " 13  Classes      243 non-null    object \n",
      " 14  Region       244 non-null    float64\n",
      "dtypes: float64(1), object(14)\n",
      "memory usage: 28.7+ KB\n"
     ]
    }
   ],
   "source": [
    "# changing data type from object int64 and float64\n",
    "df.info()"
   ]
  },
  {
   "cell_type": "code",
   "execution_count": 32,
   "id": "b1448417",
   "metadata": {},
   "outputs": [],
   "source": [
    "df_dtypes= {'day':'int64','month':'int64','year':'int64','Temperature':'int64',\n",
    "           'RH':'int64','Ws':'int64','Rain':'float64','FFMC':'float64','DMC':'float64',\n",
    "           'DC':'float64','ISI':'float64','BUI':'float64', 'FWI':'float64'}"
   ]
  },
  {
   "cell_type": "code",
   "execution_count": 33,
   "id": "b79f6990",
   "metadata": {},
   "outputs": [],
   "source": [
    "df= df.astype(df_dtypes)"
   ]
  },
  {
   "cell_type": "code",
   "execution_count": 34,
   "id": "91ceb59c",
   "metadata": {},
   "outputs": [
    {
     "name": "stdout",
     "output_type": "stream",
     "text": [
      "<class 'pandas.core.frame.DataFrame'>\n",
      "RangeIndex: 244 entries, 0 to 243\n",
      "Data columns (total 15 columns):\n",
      " #   Column       Non-Null Count  Dtype  \n",
      "---  ------       --------------  -----  \n",
      " 0   day          244 non-null    int64  \n",
      " 1   month        244 non-null    int64  \n",
      " 2   year         244 non-null    int64  \n",
      " 3   Temperature  244 non-null    int64  \n",
      " 4   RH           244 non-null    int64  \n",
      " 5   Ws           244 non-null    int64  \n",
      " 6   Rain         244 non-null    float64\n",
      " 7   FFMC         244 non-null    float64\n",
      " 8   DMC          244 non-null    float64\n",
      " 9   DC           244 non-null    float64\n",
      " 10  ISI          244 non-null    float64\n",
      " 11  BUI          244 non-null    float64\n",
      " 12  FWI          244 non-null    float64\n",
      " 13  Classes      243 non-null    object \n",
      " 14  Region       244 non-null    float64\n",
      "dtypes: float64(8), int64(6), object(1)\n",
      "memory usage: 28.7+ KB\n"
     ]
    }
   ],
   "source": [
    "df.info()"
   ]
  },
  {
   "cell_type": "code",
   "execution_count": 35,
   "id": "600ff3cd",
   "metadata": {},
   "outputs": [
    {
     "data": {
      "text/plain": [
       "dtype('int64')"
      ]
     },
     "execution_count": 35,
     "metadata": {},
     "output_type": "execute_result"
    }
   ],
   "source": [
    "df['day'].dtypes"
   ]
  },
  {
   "cell_type": "markdown",
   "id": "748deca1",
   "metadata": {},
   "source": [
    "# Handeling Null Values"
   ]
  },
  {
   "cell_type": "code",
   "execution_count": 39,
   "id": "46a662ad",
   "metadata": {},
   "outputs": [],
   "source": [
    "# finding null values"
   ]
  },
  {
   "cell_type": "code",
   "execution_count": 46,
   "id": "eb82eeab",
   "metadata": {},
   "outputs": [
    {
     "data": {
      "text/plain": [
       "day            0\n",
       "month          0\n",
       "year           0\n",
       "Temperature    0\n",
       "RH             0\n",
       "Ws             0\n",
       "Rain           0\n",
       "FFMC           0\n",
       "DMC            0\n",
       "DC             0\n",
       "ISI            0\n",
       "BUI            0\n",
       "FWI            0\n",
       "Classes        0\n",
       "Region         0\n",
       "dtype: int64"
      ]
     },
     "execution_count": 46,
     "metadata": {},
     "output_type": "execute_result"
    }
   ],
   "source": [
    "df.isnull().sum()\n",
    "\n",
    "# there is one null value in 'Classes' feature/column"
   ]
  },
  {
   "cell_type": "code",
   "execution_count": 47,
   "id": "b7045757",
   "metadata": {},
   "outputs": [
    {
     "data": {
      "text/plain": [
       "Int64Index([], dtype='int64')"
      ]
     },
     "execution_count": 47,
     "metadata": {},
     "output_type": "execute_result"
    }
   ],
   "source": [
    "df[df['Classes']=='NaN'].index\n",
    "\n",
    "# there is NaN in Classes at 165 rows"
   ]
  },
  {
   "cell_type": "code",
   "execution_count": 48,
   "id": "2cf2daa7",
   "metadata": {},
   "outputs": [
    {
     "data": {
      "text/html": [
       "<div>\n",
       "<style scoped>\n",
       "    .dataframe tbody tr th:only-of-type {\n",
       "        vertical-align: middle;\n",
       "    }\n",
       "\n",
       "    .dataframe tbody tr th {\n",
       "        vertical-align: top;\n",
       "    }\n",
       "\n",
       "    .dataframe thead th {\n",
       "        text-align: right;\n",
       "    }\n",
       "</style>\n",
       "<table border=\"1\" class=\"dataframe\">\n",
       "  <thead>\n",
       "    <tr style=\"text-align: right;\">\n",
       "      <th></th>\n",
       "      <th>day</th>\n",
       "      <th>month</th>\n",
       "      <th>year</th>\n",
       "      <th>Temperature</th>\n",
       "      <th>RH</th>\n",
       "      <th>Ws</th>\n",
       "      <th>Rain</th>\n",
       "      <th>FFMC</th>\n",
       "      <th>DMC</th>\n",
       "      <th>DC</th>\n",
       "      <th>ISI</th>\n",
       "      <th>BUI</th>\n",
       "      <th>FWI</th>\n",
       "      <th>Classes</th>\n",
       "      <th>Region</th>\n",
       "    </tr>\n",
       "  </thead>\n",
       "  <tbody>\n",
       "    <tr>\n",
       "      <th>165</th>\n",
       "      <td>14</td>\n",
       "      <td>7</td>\n",
       "      <td>2012</td>\n",
       "      <td>37</td>\n",
       "      <td>37</td>\n",
       "      <td>18</td>\n",
       "      <td>0.2</td>\n",
       "      <td>88.9</td>\n",
       "      <td>12.9</td>\n",
       "      <td>14.69</td>\n",
       "      <td>12.5</td>\n",
       "      <td>10.4</td>\n",
       "      <td>0.1</td>\n",
       "      <td>fire</td>\n",
       "      <td>1.0</td>\n",
       "    </tr>\n",
       "    <tr>\n",
       "      <th>166</th>\n",
       "      <td>15</td>\n",
       "      <td>7</td>\n",
       "      <td>2012</td>\n",
       "      <td>34</td>\n",
       "      <td>45</td>\n",
       "      <td>17</td>\n",
       "      <td>0.0</td>\n",
       "      <td>90.5</td>\n",
       "      <td>18.0</td>\n",
       "      <td>24.10</td>\n",
       "      <td>10.9</td>\n",
       "      <td>17.7</td>\n",
       "      <td>14.1</td>\n",
       "      <td>fire</td>\n",
       "      <td>1.0</td>\n",
       "    </tr>\n",
       "    <tr>\n",
       "      <th>167</th>\n",
       "      <td>16</td>\n",
       "      <td>7</td>\n",
       "      <td>2012</td>\n",
       "      <td>31</td>\n",
       "      <td>83</td>\n",
       "      <td>17</td>\n",
       "      <td>0.0</td>\n",
       "      <td>84.5</td>\n",
       "      <td>19.4</td>\n",
       "      <td>33.10</td>\n",
       "      <td>4.7</td>\n",
       "      <td>19.2</td>\n",
       "      <td>7.3</td>\n",
       "      <td>fire</td>\n",
       "      <td>1.0</td>\n",
       "    </tr>\n",
       "    <tr>\n",
       "      <th>168</th>\n",
       "      <td>17</td>\n",
       "      <td>7</td>\n",
       "      <td>2012</td>\n",
       "      <td>32</td>\n",
       "      <td>81</td>\n",
       "      <td>17</td>\n",
       "      <td>0.0</td>\n",
       "      <td>84.6</td>\n",
       "      <td>21.1</td>\n",
       "      <td>42.30</td>\n",
       "      <td>4.7</td>\n",
       "      <td>20.9</td>\n",
       "      <td>7.7</td>\n",
       "      <td>fire</td>\n",
       "      <td>1.0</td>\n",
       "    </tr>\n",
       "    <tr>\n",
       "      <th>169</th>\n",
       "      <td>18</td>\n",
       "      <td>7</td>\n",
       "      <td>2012</td>\n",
       "      <td>33</td>\n",
       "      <td>68</td>\n",
       "      <td>15</td>\n",
       "      <td>0.0</td>\n",
       "      <td>86.1</td>\n",
       "      <td>23.9</td>\n",
       "      <td>51.60</td>\n",
       "      <td>5.2</td>\n",
       "      <td>23.9</td>\n",
       "      <td>9.1</td>\n",
       "      <td>fire</td>\n",
       "      <td>1.0</td>\n",
       "    </tr>\n",
       "  </tbody>\n",
       "</table>\n",
       "</div>"
      ],
      "text/plain": [
       "     day  month  year  Temperature  RH  Ws  Rain  FFMC   DMC     DC   ISI  \\\n",
       "165   14      7  2012           37  37  18   0.2  88.9  12.9  14.69  12.5   \n",
       "166   15      7  2012           34  45  17   0.0  90.5  18.0  24.10  10.9   \n",
       "167   16      7  2012           31  83  17   0.0  84.5  19.4  33.10   4.7   \n",
       "168   17      7  2012           32  81  17   0.0  84.6  21.1  42.30   4.7   \n",
       "169   18      7  2012           33  68  15   0.0  86.1  23.9  51.60   5.2   \n",
       "\n",
       "      BUI   FWI Classes  Region  \n",
       "165  10.4   0.1    fire     1.0  \n",
       "166  17.7  14.1    fire     1.0  \n",
       "167  19.2   7.3    fire     1.0  \n",
       "168  20.9   7.7    fire     1.0  \n",
       "169  23.9   9.1    fire     1.0  "
      ]
     },
     "execution_count": 48,
     "metadata": {},
     "output_type": "execute_result"
    }
   ],
   "source": [
    "df.loc[165:].head() # you can see NaN at 165th row"
   ]
  },
  {
   "cell_type": "code",
   "execution_count": 49,
   "id": "3a6954e2",
   "metadata": {},
   "outputs": [],
   "source": [
    "# replaceing a nan valu with 'fire'"
   ]
  },
  {
   "cell_type": "code",
   "execution_count": 50,
   "id": "181c0e01",
   "metadata": {},
   "outputs": [
    {
     "data": {
      "text/plain": [
       "'fire'"
      ]
     },
     "execution_count": 50,
     "metadata": {},
     "output_type": "execute_result"
    }
   ],
   "source": [
    "df.iloc[165,13]"
   ]
  },
  {
   "cell_type": "code",
   "execution_count": 51,
   "id": "ec793302",
   "metadata": {},
   "outputs": [],
   "source": [
    "df.iloc[165,13]='fire'"
   ]
  },
  {
   "cell_type": "code",
   "execution_count": 52,
   "id": "f6e244ed",
   "metadata": {},
   "outputs": [
    {
     "data": {
      "text/html": [
       "<div>\n",
       "<style scoped>\n",
       "    .dataframe tbody tr th:only-of-type {\n",
       "        vertical-align: middle;\n",
       "    }\n",
       "\n",
       "    .dataframe tbody tr th {\n",
       "        vertical-align: top;\n",
       "    }\n",
       "\n",
       "    .dataframe thead th {\n",
       "        text-align: right;\n",
       "    }\n",
       "</style>\n",
       "<table border=\"1\" class=\"dataframe\">\n",
       "  <thead>\n",
       "    <tr style=\"text-align: right;\">\n",
       "      <th></th>\n",
       "      <th>day</th>\n",
       "      <th>month</th>\n",
       "      <th>year</th>\n",
       "      <th>Temperature</th>\n",
       "      <th>RH</th>\n",
       "      <th>Ws</th>\n",
       "      <th>Rain</th>\n",
       "      <th>FFMC</th>\n",
       "      <th>DMC</th>\n",
       "      <th>DC</th>\n",
       "      <th>ISI</th>\n",
       "      <th>BUI</th>\n",
       "      <th>FWI</th>\n",
       "      <th>Classes</th>\n",
       "      <th>Region</th>\n",
       "    </tr>\n",
       "  </thead>\n",
       "  <tbody>\n",
       "    <tr>\n",
       "      <th>165</th>\n",
       "      <td>14</td>\n",
       "      <td>7</td>\n",
       "      <td>2012</td>\n",
       "      <td>37</td>\n",
       "      <td>37</td>\n",
       "      <td>18</td>\n",
       "      <td>0.2</td>\n",
       "      <td>88.9</td>\n",
       "      <td>12.9</td>\n",
       "      <td>14.69</td>\n",
       "      <td>12.5</td>\n",
       "      <td>10.4</td>\n",
       "      <td>0.1</td>\n",
       "      <td>fire</td>\n",
       "      <td>1.0</td>\n",
       "    </tr>\n",
       "    <tr>\n",
       "      <th>166</th>\n",
       "      <td>15</td>\n",
       "      <td>7</td>\n",
       "      <td>2012</td>\n",
       "      <td>34</td>\n",
       "      <td>45</td>\n",
       "      <td>17</td>\n",
       "      <td>0.0</td>\n",
       "      <td>90.5</td>\n",
       "      <td>18.0</td>\n",
       "      <td>24.10</td>\n",
       "      <td>10.9</td>\n",
       "      <td>17.7</td>\n",
       "      <td>14.1</td>\n",
       "      <td>fire</td>\n",
       "      <td>1.0</td>\n",
       "    </tr>\n",
       "    <tr>\n",
       "      <th>167</th>\n",
       "      <td>16</td>\n",
       "      <td>7</td>\n",
       "      <td>2012</td>\n",
       "      <td>31</td>\n",
       "      <td>83</td>\n",
       "      <td>17</td>\n",
       "      <td>0.0</td>\n",
       "      <td>84.5</td>\n",
       "      <td>19.4</td>\n",
       "      <td>33.10</td>\n",
       "      <td>4.7</td>\n",
       "      <td>19.2</td>\n",
       "      <td>7.3</td>\n",
       "      <td>fire</td>\n",
       "      <td>1.0</td>\n",
       "    </tr>\n",
       "    <tr>\n",
       "      <th>168</th>\n",
       "      <td>17</td>\n",
       "      <td>7</td>\n",
       "      <td>2012</td>\n",
       "      <td>32</td>\n",
       "      <td>81</td>\n",
       "      <td>17</td>\n",
       "      <td>0.0</td>\n",
       "      <td>84.6</td>\n",
       "      <td>21.1</td>\n",
       "      <td>42.30</td>\n",
       "      <td>4.7</td>\n",
       "      <td>20.9</td>\n",
       "      <td>7.7</td>\n",
       "      <td>fire</td>\n",
       "      <td>1.0</td>\n",
       "    </tr>\n",
       "    <tr>\n",
       "      <th>169</th>\n",
       "      <td>18</td>\n",
       "      <td>7</td>\n",
       "      <td>2012</td>\n",
       "      <td>33</td>\n",
       "      <td>68</td>\n",
       "      <td>15</td>\n",
       "      <td>0.0</td>\n",
       "      <td>86.1</td>\n",
       "      <td>23.9</td>\n",
       "      <td>51.60</td>\n",
       "      <td>5.2</td>\n",
       "      <td>23.9</td>\n",
       "      <td>9.1</td>\n",
       "      <td>fire</td>\n",
       "      <td>1.0</td>\n",
       "    </tr>\n",
       "  </tbody>\n",
       "</table>\n",
       "</div>"
      ],
      "text/plain": [
       "     day  month  year  Temperature  RH  Ws  Rain  FFMC   DMC     DC   ISI  \\\n",
       "165   14      7  2012           37  37  18   0.2  88.9  12.9  14.69  12.5   \n",
       "166   15      7  2012           34  45  17   0.0  90.5  18.0  24.10  10.9   \n",
       "167   16      7  2012           31  83  17   0.0  84.5  19.4  33.10   4.7   \n",
       "168   17      7  2012           32  81  17   0.0  84.6  21.1  42.30   4.7   \n",
       "169   18      7  2012           33  68  15   0.0  86.1  23.9  51.60   5.2   \n",
       "\n",
       "      BUI   FWI Classes  Region  \n",
       "165  10.4   0.1    fire     1.0  \n",
       "166  17.7  14.1    fire     1.0  \n",
       "167  19.2   7.3    fire     1.0  \n",
       "168  20.9   7.7    fire     1.0  \n",
       "169  23.9   9.1    fire     1.0  "
      ]
     },
     "execution_count": 52,
     "metadata": {},
     "output_type": "execute_result"
    }
   ],
   "source": [
    "df.loc[165:].head()  # nan replaced with fire "
   ]
  },
  {
   "cell_type": "code",
   "execution_count": 53,
   "id": "668bae06",
   "metadata": {},
   "outputs": [
    {
     "data": {
      "text/plain": [
       "day            0\n",
       "month          0\n",
       "year           0\n",
       "Temperature    0\n",
       "RH             0\n",
       "Ws             0\n",
       "Rain           0\n",
       "FFMC           0\n",
       "DMC            0\n",
       "DC             0\n",
       "ISI            0\n",
       "BUI            0\n",
       "FWI            0\n",
       "Classes        0\n",
       "Region         0\n",
       "dtype: int64"
      ]
     },
     "execution_count": 53,
     "metadata": {},
     "output_type": "execute_result"
    }
   ],
   "source": [
    "# you can see 0 null values in dataset\n",
    "\n",
    "df.isna().sum()"
   ]
  },
  {
   "cell_type": "code",
   "execution_count": 55,
   "id": "f3359b76",
   "metadata": {},
   "outputs": [
    {
     "data": {
      "text/plain": [
       "(244, 15)"
      ]
     },
     "execution_count": 55,
     "metadata": {},
     "output_type": "execute_result"
    }
   ],
   "source": [
    "df.shape"
   ]
  },
  {
   "cell_type": "code",
   "execution_count": 56,
   "id": "8e688309",
   "metadata": {},
   "outputs": [],
   "source": [
    "df_copy= df.copy()"
   ]
  },
  {
   "cell_type": "code",
   "execution_count": 58,
   "id": "8fa6fece",
   "metadata": {},
   "outputs": [
    {
     "data": {
      "text/plain": [
       "(244, 15)"
      ]
     },
     "execution_count": 58,
     "metadata": {},
     "output_type": "execute_result"
    }
   ],
   "source": [
    "df.shape"
   ]
  },
  {
   "cell_type": "markdown",
   "id": "7dc325be",
   "metadata": {},
   "source": [
    "# Saving a cleaned CSV file for future referance"
   ]
  },
  {
   "cell_type": "code",
   "execution_count": 60,
   "id": "a316383d",
   "metadata": {},
   "outputs": [],
   "source": [
    "df_copy.to_csv('algerian_clean.csv', index=False)"
   ]
  },
  {
   "cell_type": "code",
   "execution_count": 64,
   "id": "60a70be1",
   "metadata": {},
   "outputs": [
    {
     "data": {
      "text/html": [
       "<div>\n",
       "<style scoped>\n",
       "    .dataframe tbody tr th:only-of-type {\n",
       "        vertical-align: middle;\n",
       "    }\n",
       "\n",
       "    .dataframe tbody tr th {\n",
       "        vertical-align: top;\n",
       "    }\n",
       "\n",
       "    .dataframe thead th {\n",
       "        text-align: right;\n",
       "    }\n",
       "</style>\n",
       "<table border=\"1\" class=\"dataframe\">\n",
       "  <thead>\n",
       "    <tr style=\"text-align: right;\">\n",
       "      <th></th>\n",
       "      <th>day</th>\n",
       "      <th>month</th>\n",
       "      <th>year</th>\n",
       "      <th>Temperature</th>\n",
       "      <th>RH</th>\n",
       "      <th>Ws</th>\n",
       "      <th>Rain</th>\n",
       "      <th>FFMC</th>\n",
       "      <th>DMC</th>\n",
       "      <th>DC</th>\n",
       "      <th>ISI</th>\n",
       "      <th>BUI</th>\n",
       "      <th>FWI</th>\n",
       "      <th>Classes</th>\n",
       "      <th>Region</th>\n",
       "    </tr>\n",
       "  </thead>\n",
       "  <tbody>\n",
       "    <tr>\n",
       "      <th>0</th>\n",
       "      <td>1</td>\n",
       "      <td>6</td>\n",
       "      <td>2012</td>\n",
       "      <td>29</td>\n",
       "      <td>57</td>\n",
       "      <td>18</td>\n",
       "      <td>0.0</td>\n",
       "      <td>65.7</td>\n",
       "      <td>3.4</td>\n",
       "      <td>7.6</td>\n",
       "      <td>1.3</td>\n",
       "      <td>3.4</td>\n",
       "      <td>0.5</td>\n",
       "      <td>notfire</td>\n",
       "      <td>0.0</td>\n",
       "    </tr>\n",
       "    <tr>\n",
       "      <th>1</th>\n",
       "      <td>2</td>\n",
       "      <td>6</td>\n",
       "      <td>2012</td>\n",
       "      <td>29</td>\n",
       "      <td>61</td>\n",
       "      <td>13</td>\n",
       "      <td>1.3</td>\n",
       "      <td>64.4</td>\n",
       "      <td>4.1</td>\n",
       "      <td>7.6</td>\n",
       "      <td>1.0</td>\n",
       "      <td>3.9</td>\n",
       "      <td>0.4</td>\n",
       "      <td>notfire</td>\n",
       "      <td>0.0</td>\n",
       "    </tr>\n",
       "    <tr>\n",
       "      <th>2</th>\n",
       "      <td>3</td>\n",
       "      <td>6</td>\n",
       "      <td>2012</td>\n",
       "      <td>26</td>\n",
       "      <td>82</td>\n",
       "      <td>22</td>\n",
       "      <td>13.1</td>\n",
       "      <td>47.1</td>\n",
       "      <td>2.5</td>\n",
       "      <td>7.1</td>\n",
       "      <td>0.3</td>\n",
       "      <td>2.7</td>\n",
       "      <td>0.1</td>\n",
       "      <td>notfire</td>\n",
       "      <td>0.0</td>\n",
       "    </tr>\n",
       "    <tr>\n",
       "      <th>3</th>\n",
       "      <td>4</td>\n",
       "      <td>6</td>\n",
       "      <td>2012</td>\n",
       "      <td>25</td>\n",
       "      <td>89</td>\n",
       "      <td>13</td>\n",
       "      <td>2.5</td>\n",
       "      <td>28.6</td>\n",
       "      <td>1.3</td>\n",
       "      <td>6.9</td>\n",
       "      <td>0.0</td>\n",
       "      <td>1.7</td>\n",
       "      <td>0.0</td>\n",
       "      <td>notfire</td>\n",
       "      <td>0.0</td>\n",
       "    </tr>\n",
       "    <tr>\n",
       "      <th>4</th>\n",
       "      <td>5</td>\n",
       "      <td>6</td>\n",
       "      <td>2012</td>\n",
       "      <td>27</td>\n",
       "      <td>77</td>\n",
       "      <td>16</td>\n",
       "      <td>0.0</td>\n",
       "      <td>64.8</td>\n",
       "      <td>3.0</td>\n",
       "      <td>14.2</td>\n",
       "      <td>1.2</td>\n",
       "      <td>3.9</td>\n",
       "      <td>0.5</td>\n",
       "      <td>notfire</td>\n",
       "      <td>0.0</td>\n",
       "    </tr>\n",
       "    <tr>\n",
       "      <th>...</th>\n",
       "      <td>...</td>\n",
       "      <td>...</td>\n",
       "      <td>...</td>\n",
       "      <td>...</td>\n",
       "      <td>...</td>\n",
       "      <td>...</td>\n",
       "      <td>...</td>\n",
       "      <td>...</td>\n",
       "      <td>...</td>\n",
       "      <td>...</td>\n",
       "      <td>...</td>\n",
       "      <td>...</td>\n",
       "      <td>...</td>\n",
       "      <td>...</td>\n",
       "      <td>...</td>\n",
       "    </tr>\n",
       "    <tr>\n",
       "      <th>239</th>\n",
       "      <td>26</td>\n",
       "      <td>9</td>\n",
       "      <td>2012</td>\n",
       "      <td>30</td>\n",
       "      <td>65</td>\n",
       "      <td>14</td>\n",
       "      <td>0.0</td>\n",
       "      <td>85.4</td>\n",
       "      <td>16.0</td>\n",
       "      <td>44.5</td>\n",
       "      <td>4.5</td>\n",
       "      <td>16.9</td>\n",
       "      <td>6.5</td>\n",
       "      <td>fire</td>\n",
       "      <td>1.0</td>\n",
       "    </tr>\n",
       "    <tr>\n",
       "      <th>240</th>\n",
       "      <td>27</td>\n",
       "      <td>9</td>\n",
       "      <td>2012</td>\n",
       "      <td>28</td>\n",
       "      <td>87</td>\n",
       "      <td>15</td>\n",
       "      <td>4.4</td>\n",
       "      <td>41.1</td>\n",
       "      <td>6.5</td>\n",
       "      <td>8.0</td>\n",
       "      <td>0.1</td>\n",
       "      <td>6.2</td>\n",
       "      <td>0.0</td>\n",
       "      <td>notfire</td>\n",
       "      <td>1.0</td>\n",
       "    </tr>\n",
       "    <tr>\n",
       "      <th>241</th>\n",
       "      <td>28</td>\n",
       "      <td>9</td>\n",
       "      <td>2012</td>\n",
       "      <td>27</td>\n",
       "      <td>87</td>\n",
       "      <td>29</td>\n",
       "      <td>0.5</td>\n",
       "      <td>45.9</td>\n",
       "      <td>3.5</td>\n",
       "      <td>7.9</td>\n",
       "      <td>0.4</td>\n",
       "      <td>3.4</td>\n",
       "      <td>0.2</td>\n",
       "      <td>notfire</td>\n",
       "      <td>1.0</td>\n",
       "    </tr>\n",
       "    <tr>\n",
       "      <th>242</th>\n",
       "      <td>29</td>\n",
       "      <td>9</td>\n",
       "      <td>2012</td>\n",
       "      <td>24</td>\n",
       "      <td>54</td>\n",
       "      <td>18</td>\n",
       "      <td>0.1</td>\n",
       "      <td>79.7</td>\n",
       "      <td>4.3</td>\n",
       "      <td>15.2</td>\n",
       "      <td>1.7</td>\n",
       "      <td>5.1</td>\n",
       "      <td>0.7</td>\n",
       "      <td>notfire</td>\n",
       "      <td>1.0</td>\n",
       "    </tr>\n",
       "    <tr>\n",
       "      <th>243</th>\n",
       "      <td>30</td>\n",
       "      <td>9</td>\n",
       "      <td>2012</td>\n",
       "      <td>24</td>\n",
       "      <td>64</td>\n",
       "      <td>15</td>\n",
       "      <td>0.2</td>\n",
       "      <td>67.3</td>\n",
       "      <td>3.8</td>\n",
       "      <td>16.5</td>\n",
       "      <td>1.2</td>\n",
       "      <td>4.8</td>\n",
       "      <td>0.5</td>\n",
       "      <td>notfire</td>\n",
       "      <td>1.0</td>\n",
       "    </tr>\n",
       "  </tbody>\n",
       "</table>\n",
       "<p>244 rows × 15 columns</p>\n",
       "</div>"
      ],
      "text/plain": [
       "     day  month  year  Temperature  RH  Ws  Rain  FFMC   DMC    DC  ISI   BUI  \\\n",
       "0      1      6  2012           29  57  18   0.0  65.7   3.4   7.6  1.3   3.4   \n",
       "1      2      6  2012           29  61  13   1.3  64.4   4.1   7.6  1.0   3.9   \n",
       "2      3      6  2012           26  82  22  13.1  47.1   2.5   7.1  0.3   2.7   \n",
       "3      4      6  2012           25  89  13   2.5  28.6   1.3   6.9  0.0   1.7   \n",
       "4      5      6  2012           27  77  16   0.0  64.8   3.0  14.2  1.2   3.9   \n",
       "..   ...    ...   ...          ...  ..  ..   ...   ...   ...   ...  ...   ...   \n",
       "239   26      9  2012           30  65  14   0.0  85.4  16.0  44.5  4.5  16.9   \n",
       "240   27      9  2012           28  87  15   4.4  41.1   6.5   8.0  0.1   6.2   \n",
       "241   28      9  2012           27  87  29   0.5  45.9   3.5   7.9  0.4   3.4   \n",
       "242   29      9  2012           24  54  18   0.1  79.7   4.3  15.2  1.7   5.1   \n",
       "243   30      9  2012           24  64  15   0.2  67.3   3.8  16.5  1.2   4.8   \n",
       "\n",
       "     FWI  Classes  Region  \n",
       "0    0.5  notfire     0.0  \n",
       "1    0.4  notfire     0.0  \n",
       "2    0.1  notfire     0.0  \n",
       "3    0.0  notfire     0.0  \n",
       "4    0.5  notfire     0.0  \n",
       "..   ...      ...     ...  \n",
       "239  6.5     fire     1.0  \n",
       "240  0.0  notfire     1.0  \n",
       "241  0.2  notfire     1.0  \n",
       "242  0.7  notfire     1.0  \n",
       "243  0.5  notfire     1.0  \n",
       "\n",
       "[244 rows x 15 columns]"
      ]
     },
     "execution_count": 64,
     "metadata": {},
     "output_type": "execute_result"
    }
   ],
   "source": [
    "pd.read_csv('Algerin_clean.csv')"
   ]
  },
  {
   "cell_type": "markdown",
   "id": "5f5d2a9f",
   "metadata": {},
   "source": [
    "# EDA"
   ]
  },
  {
   "cell_type": "markdown",
   "id": "13920f42",
   "metadata": {},
   "source": [
    "# Numerical and Categorical features"
   ]
  },
  {
   "cell_type": "markdown",
   "id": "cc43556a",
   "metadata": {},
   "source": [
    "# Numeric Feature"
   ]
  },
  {
   "cell_type": "code",
   "execution_count": 48,
   "id": "279669f7",
   "metadata": {},
   "outputs": [
    {
     "name": "stdout",
     "output_type": "stream",
     "text": [
      "['day', 'month', 'year', 'Temperature', 'RH', 'Ws', 'Rain', 'FFMC', 'DMC', 'DC', 'ISI', 'BUI', 'FWI', 'Region']\n"
     ]
    }
   ],
   "source": [
    "num_feat= [feature for feature in df.columns if df[feature].dtype!='O']\n",
    "print(num_feat)"
   ]
  },
  {
   "cell_type": "code",
   "execution_count": 49,
   "id": "3f2b553d",
   "metadata": {},
   "outputs": [
    {
     "data": {
      "text/plain": [
       "day             31\n",
       "month            4\n",
       "year             1\n",
       "Temperature     19\n",
       "RH              62\n",
       "Ws              18\n",
       "Rain            39\n",
       "FFMC           173\n",
       "DMC            166\n",
       "DC             198\n",
       "ISI            106\n",
       "BUI            174\n",
       "FWI            125\n",
       "Region           2\n",
       "dtype: int64"
      ]
     },
     "execution_count": 49,
     "metadata": {},
     "output_type": "execute_result"
    }
   ],
   "source": [
    "df[num_feat].nunique()\n",
    "\n",
    "# fetching no of unique value/category on each num feature"
   ]
  },
  {
   "cell_type": "markdown",
   "id": "dce747a0",
   "metadata": {},
   "source": [
    "# Top five numeric feature has more unique values"
   ]
  },
  {
   "cell_type": "code",
   "execution_count": 50,
   "id": "9e741bc5",
   "metadata": {},
   "outputs": [
    {
     "data": {
      "text/plain": [
       "DC      198\n",
       "BUI     174\n",
       "FFMC    173\n",
       "DMC     166\n",
       "FWI     125\n",
       "dtype: int64"
      ]
     },
     "execution_count": 50,
     "metadata": {},
     "output_type": "execute_result"
    }
   ],
   "source": [
    "df[num_feat].nunique().sort_values(ascending= False).head()"
   ]
  },
  {
   "cell_type": "markdown",
   "id": "dc09e972",
   "metadata": {},
   "source": [
    "# Top  numeric feature has less unique values"
   ]
  },
  {
   "cell_type": "code",
   "execution_count": 51,
   "id": "06ceca79",
   "metadata": {},
   "outputs": [
    {
     "data": {
      "text/plain": [
       "year            1\n",
       "Region          2\n",
       "month           4\n",
       "Ws             18\n",
       "Temperature    19\n",
       "dtype: int64"
      ]
     },
     "execution_count": 51,
     "metadata": {},
     "output_type": "execute_result"
    }
   ],
   "source": [
    "df[num_feat].nunique().sort_values(ascending= True).head()"
   ]
  },
  {
   "cell_type": "markdown",
   "id": "fff7f60d",
   "metadata": {},
   "source": [
    "# There are two type of numeric feature based on unique values we will clasify that\n",
    "# 1, Discret \n",
    "# 2, Continues"
   ]
  },
  {
   "cell_type": "markdown",
   "id": "2c85f5da",
   "metadata": {},
   "source": [
    "# Discret Numerical features"
   ]
  },
  {
   "cell_type": "code",
   "execution_count": 52,
   "id": "c833708e",
   "metadata": {},
   "outputs": [],
   "source": [
    "# assumption: the feature must have less than 35 unique value\n",
    "\n",
    "discret_fet= [i for i in num_feat if len(df[i].unique())<35]"
   ]
  },
  {
   "cell_type": "code",
   "execution_count": 53,
   "id": "0deaaf45",
   "metadata": {},
   "outputs": [
    {
     "data": {
      "text/plain": [
       "['day', 'month', 'year', 'Temperature', 'Ws', 'Region']"
      ]
     },
     "execution_count": 53,
     "metadata": {},
     "output_type": "execute_result"
    }
   ],
   "source": [
    "discret_fet"
   ]
  },
  {
   "cell_type": "markdown",
   "id": "52376a3a",
   "metadata": {},
   "source": [
    "# Continues Numeric Feature"
   ]
  },
  {
   "cell_type": "code",
   "execution_count": 54,
   "id": "e1ec2f9f",
   "metadata": {},
   "outputs": [],
   "source": [
    "# Assumption: the feature should have grater than unique value\n",
    "\n",
    "cont_feat= [i for i in num_feat if len(df[i].unique())>35]"
   ]
  },
  {
   "cell_type": "code",
   "execution_count": 55,
   "id": "23021dfa",
   "metadata": {},
   "outputs": [
    {
     "data": {
      "text/plain": [
       "['RH', 'Rain', 'FFMC', 'DMC', 'DC', 'ISI', 'BUI', 'FWI']"
      ]
     },
     "execution_count": 55,
     "metadata": {},
     "output_type": "execute_result"
    }
   ],
   "source": [
    "cont_feat"
   ]
  },
  {
   "cell_type": "markdown",
   "id": "5d9baa0c",
   "metadata": {},
   "source": [
    "# Let's understand the distrubution of numeric feature"
   ]
  },
  {
   "cell_type": "markdown",
   "id": "2cfdf6ca",
   "metadata": {},
   "source": [
    "# Discret feat vs target feat(Classes)"
   ]
  },
  {
   "cell_type": "code",
   "execution_count": 56,
   "id": "5a885d2d",
   "metadata": {
    "scrolled": false
   },
   "outputs": [
    {
     "data": {
      "image/png": "[encoded data removed]",
      "text/plain": [
       "<Figure size 1440x720 with 1 Axes>"
      ]
     },
     "metadata": {
      "needs_background": "light"
     },
     "output_type": "display_data"
    },
    {
     "data": {
      "image/png": "[encoded data removed]",
      "text/plain": [
       "<Figure size 1440x720 with 1 Axes>"
      ]
     },
     "metadata": {
      "needs_background": "light"
     },
     "output_type": "display_data"
    },
    {
     "data": {
      "image/png": "[encoded data removed]",
      "text/plain": [
       "<Figure size 1440x720 with 1 Axes>"
      ]
     },
     "metadata": {
      "needs_background": "light"
     },
     "output_type": "display_data"
    },
    {
     "data": {
      "image/png": "[encoded data removed]",
      "text/plain": [
       "<Figure size 1440x720 with 1 Axes>"
      ]
     },
     "metadata": {
      "needs_background": "light"
     },
     "output_type": "display_data"
    },
    {
     "data": {
      "image/png": "[encoded data removed]",
      "text/plain": [
       "<Figure size 1440x720 with 1 Axes>"
      ]
     },
     "metadata": {
      "needs_background": "light"
     },
     "output_type": "display_data"
    },
    {
     "data": {
      "image/png": "[encoded data removed]",
      "text/plain": [
       "<Figure size 1440x720 with 1 Axes>"
      ]
     },
     "metadata": {
      "needs_background": "light"
     },
     "output_type": "display_data"
    }
   ],
   "source": [
    "# Discret feat vs target fet(Classes)\n",
    "for i in discret_fet:\n",
    "    plt.figure(figsize=(20,10))\n",
    "    sns.countplot(data=df, x=i,hue='Classes')\n",
    "    plt.show()"
   ]
  },
  {
   "cell_type": "markdown",
   "id": "0c66e343",
   "metadata": {},
   "source": [
    "# Observation from above Grapgh(Discret Numeric Vs Target Variable):"
   ]
  },
  {
   "cell_type": "markdown",
   "id": "edf4a630",
   "metadata": {},
   "source": [
    "1. In day vs classes, the occurence of fire is more than no fire.\n",
    "2. In month vs classes, in the month of july and august fire cases are high.\n",
    "3. Highest fire cases are in august month.\n",
    "4. In temprature vs classes from 31 to 36 degree celcius no of fire cases are high.\n",
    "5. In windspeed vs classes it is clearly visible that from 13-18 km/hr range there is most no of fire occurences.\n",
    "6. In region vs classes, sedi bel-abbes region the no of fire cases are more than bajaia region.\n",
    "7. final conclusion is that Fire occurences are more than no fire occurence. "
   ]
  },
  {
   "cell_type": "markdown",
   "id": "2dd3787c",
   "metadata": {},
   "source": [
    "# On which day no of  fire and notfire has occured more ?"
   ]
  },
  {
   "cell_type": "code",
   "execution_count": 57,
   "id": "81a29705",
   "metadata": {},
   "outputs": [
    {
     "data": {
      "text/plain": [
       "<AxesSubplot:xlabel='day', ylabel='count'>"
      ]
     },
     "execution_count": 57,
     "metadata": {},
     "output_type": "execute_result"
    },
    {
     "data": {
      "image/png": "[encoded data removed]",
      "text/plain": [
       "<Figure size 1080x720 with 1 Axes>"
      ]
     },
     "metadata": {
      "needs_background": "light"
     },
     "output_type": "display_data"
    }
   ],
   "source": [
    "plt.figure(figsize=(15,10))\n",
    "sns.countplot(df['day'], hue=df['Classes'])"
   ]
  },
  {
   "cell_type": "markdown",
   "id": "2aad78e6",
   "metadata": {},
   "source": [
    "# Observation:\n",
    "    1, on 21st day the no of fire occurance is more\n",
    "    2, on 1st day the no of not fire occurances is more\n",
    "    3, on 31st day the no of not fire occurance is less(1 times)\n",
    "    4, on 2nd day  the no of fire occurances is less(2 times)"
   ]
  },
  {
   "cell_type": "markdown",
   "id": "65b9fc28",
   "metadata": {},
   "source": [
    "# from the above graph \n",
    "on 1st day there is no fire throught the day \n",
    "\n",
    "on 21st day there is a fire throught the day "
   ]
  },
  {
   "cell_type": "code",
   "execution_count": 58,
   "id": "9f56dd90",
   "metadata": {},
   "outputs": [
    {
     "data": {
      "text/plain": [
       "Classes\n",
       "fire       2389\n",
       "notfire    1455\n",
       "Name: day, dtype: int64"
      ]
     },
     "execution_count": 58,
     "metadata": {},
     "output_type": "execute_result"
    }
   ],
   "source": [
    "df.groupby('Classes')['day'].sum()\n",
    "\n",
    "# fire occurance is more than not fire"
   ]
  },
  {
   "cell_type": "code",
   "execution_count": 62,
   "id": "b8fa021f",
   "metadata": {},
   "outputs": [
    {
     "data": {
      "text/plain": [
       "<AxesSubplot:xlabel='Classes', ylabel='count'>"
      ]
     },
     "execution_count": 62,
     "metadata": {},
     "output_type": "execute_result"
    },
    {
     "data": {
      "image/png": "[encoded data removed]",
      "text/plain": [
       "<Figure size 720x360 with 1 Axes>"
      ]
     },
     "metadata": {
      "needs_background": "light"
     },
     "output_type": "display_data"
    }
   ],
   "source": [
    "# no of count for each categiry Classes\n",
    "plt.figure(figsize=(10,5))\n",
    "sns.countplot(data=df, x= 'Classes', hue='Region')\n",
    "\n",
    "# you can see below the fire occurance is more than not fire in Region 1(Sidi bel addes Region)"
   ]
  },
  {
   "cell_type": "code",
   "execution_count": 59,
   "id": "34628a89",
   "metadata": {},
   "outputs": [
    {
     "data": {
      "text/plain": [
       "Classes  day\n",
       "fire     21     8\n",
       "notfire  1      8\n",
       "fire     18     6\n",
       "         17     6\n",
       "         19     6\n",
       "Name: day, dtype: int64"
      ]
     },
     "execution_count": 59,
     "metadata": {},
     "output_type": "execute_result"
    }
   ],
   "source": [
    "df.groupby('Classes')['day'].value_counts().sort_values(ascending=False).head()\n",
    "# 1, on 21st day the no of fire occurance is more(8 times)\n",
    "# 2  on 1st day the no of not fire occurances is more (8 times)"
   ]
  },
  {
   "cell_type": "code",
   "execution_count": 60,
   "id": "d6590bcf",
   "metadata": {},
   "outputs": [
    {
     "data": {
      "text/plain": [
       "Classes  day\n",
       "notfire  31     1\n",
       "         26     2\n",
       "         19     2\n",
       "         18     2\n",
       "         17     2\n",
       "         27     2\n",
       "fire     2      2\n",
       "         31     3\n",
       "notfire  29     3\n",
       "         28     3\n",
       "Name: day, dtype: int64"
      ]
     },
     "execution_count": 60,
     "metadata": {},
     "output_type": "execute_result"
    }
   ],
   "source": [
    "df.groupby('Classes')['day'].value_counts().sort_values(ascending=True).head(10)\n",
    "# 1, on 31st day the no of not fire occurance is less(1 times)\n",
    "# 2, on 2nd day  the no of fire occurances is less(2 times)"
   ]
  },
  {
   "cell_type": "code",
   "execution_count": 171,
   "id": "2ae55b60",
   "metadata": {},
   "outputs": [
    {
     "data": {
      "image/png": "[encoded data removed]",
      "text/plain": [
       "<Figure size 432x288 with 1 Axes>"
      ]
     },
     "metadata": {
      "needs_background": "light"
     },
     "output_type": "display_data"
    },
    {
     "data": {
      "image/png": "[encoded data removed]",
      "text/plain": [
       "<Figure size 432x288 with 1 Axes>"
      ]
     },
     "metadata": {
      "needs_background": "light"
     },
     "output_type": "display_data"
    },
    {
     "data": {
      "image/png": "[encoded data removed]",
      "text/plain": [
       "<Figure size 432x288 with 1 Axes>"
      ]
     },
     "metadata": {
      "needs_background": "light"
     },
     "output_type": "display_data"
    },
    {
     "data": {
      "image/png": "[encoded data removed]",
      "text/plain": [
       "<Figure size 432x288 with 1 Axes>"
      ]
     },
     "metadata": {
      "needs_background": "light"
     },
     "output_type": "display_data"
    },
    {
     "data": {
      "image/png": "[encoded data removed]",
      "text/plain": [
       "<Figure size 432x288 with 1 Axes>"
      ]
     },
     "metadata": {
      "needs_background": "light"
     },
     "output_type": "display_data"
    },
    {
     "data": {
      "image/png": "[encoded data removed]",
      "text/plain": [
       "<Figure size 432x288 with 1 Axes>"
      ]
     },
     "metadata": {
      "needs_background": "light"
     },
     "output_type": "display_data"
    }
   ],
   "source": [
    "# Discret_fet vs target fet(Classes)\n",
    "for i in discret_fet:\n",
    "    #plt.figure(figsize=(20,10))\n",
    "    sns.histplot(data=df, x= i, kde= True, color='g')\n",
    "    plt.show()"
   ]
  },
  {
   "cell_type": "markdown",
   "id": "061a278c",
   "metadata": {},
   "source": [
    "# Cont feat vs target feature('Classes')"
   ]
  },
  {
   "cell_type": "code",
   "execution_count": 177,
   "id": "e6c1b416",
   "metadata": {},
   "outputs": [
    {
     "data": {
      "text/plain": [
       "['RH', 'Rain', 'FFMC', 'DMC', 'DC', 'ISI', 'BUI', 'FWI']"
      ]
     },
     "execution_count": 177,
     "metadata": {},
     "output_type": "execute_result"
    }
   ],
   "source": [
    "cont_feat"
   ]
  },
  {
   "cell_type": "code",
   "execution_count": 79,
   "id": "a9164d59",
   "metadata": {},
   "outputs": [
    {
     "data": {
      "image/png": "[encoded data removed]",
      "text/plain": [
       "<Figure size 720x360 with 1 Axes>"
      ]
     },
     "metadata": {
      "needs_background": "light"
     },
     "output_type": "display_data"
    },
    {
     "data": {
      "image/png": "[encoded data removed]",
      "text/plain": [
       "<Figure size 720x360 with 1 Axes>"
      ]
     },
     "metadata": {
      "needs_background": "light"
     },
     "output_type": "display_data"
    },
    {
     "data": {
      "image/png": "[encoded data removed]",
      "text/plain": [
       "<Figure size 720x360 with 1 Axes>"
      ]
     },
     "metadata": {
      "needs_background": "light"
     },
     "output_type": "display_data"
    },
    {
     "data": {
      "image/png": "[encoded data removed]",
      "text/plain": [
       "<Figure size 720x360 with 1 Axes>"
      ]
     },
     "metadata": {
      "needs_background": "light"
     },
     "output_type": "display_data"
    },
    {
     "data": {
      "image/png": "[encoded data removed]",
      "text/plain": [
       "<Figure size 720x360 with 1 Axes>"
      ]
     },
     "metadata": {
      "needs_background": "light"
     },
     "output_type": "display_data"
    },
    {
     "data": {
      "image/png": "[encoded data removed]",
      "text/plain": [
       "<Figure size 720x360 with 1 Axes>"
      ]
     },
     "metadata": {
      "needs_background": "light"
     },
     "output_type": "display_data"
    },
    {
     "data": {
      "image/png": "[encoded data removed]",
      "text/plain": [
       "<Figure size 720x360 with 1 Axes>"
      ]
     },
     "metadata": {
      "needs_background": "light"
     },
     "output_type": "display_data"
    },
    {
     "data": {
      "image/png": "[encoded data removed]",
      "text/plain": [
       "<Figure size 720x360 with 1 Axes>"
      ]
     },
     "metadata": {
      "needs_background": "light"
     },
     "output_type": "display_data"
    }
   ],
   "source": [
    "for i in cont_feat:\n",
    "    plt.figure(figsize=(10,5))\n",
    "    sns.histplot(data=df, x=i, kde=True,color='g')\n",
    "    plt.show()"
   ]
  },
  {
   "cell_type": "markdown",
   "id": "9430ec2d",
   "metadata": {},
   "source": [
    "# Observation"
   ]
  },
  {
   "cell_type": "markdown",
   "id": "c7ae2b97",
   "metadata": {},
   "source": [
    "1, relative humidity(HM) following gaussian distribution and no outliers\n",
    "\n",
    "2, rain following lognaormaal right skewed distributionanf there are a outliers\n",
    "\n",
    "3, 'DC', 'ISI', 'BUI', 'FWI' follow lognaormaal right skewed distribution with     less outliers\n",
    "\n",
    "4, FFMC follw lognormal left skewd distribution\n",
    "\n",
    "\n"
   ]
  },
  {
   "cell_type": "code",
   "execution_count": 164,
   "id": "eba1164a",
   "metadata": {
    "scrolled": true
   },
   "outputs": [
    {
     "data": {
      "text/plain": [
       "Classes    2\n",
       "dtype: int64"
      ]
     },
     "execution_count": 164,
     "metadata": {},
     "output_type": "execute_result"
    }
   ],
   "source": [
    "df[cat_feat].nunique()\n",
    "\n",
    "# fetching no of unique value/category in cat_feature\n",
    "\n",
    "# there are two categoru on Classes, fir, and notfire"
   ]
  },
  {
   "cell_type": "code",
   "execution_count": 163,
   "id": "0f310206",
   "metadata": {},
   "outputs": [
    {
     "name": "stdout",
     "output_type": "stream",
     "text": [
      "Classes  Region\n",
      "fire     1.0       79\n",
      "         0.0       59\n",
      "notfire  0.0       63\n",
      "         1.0       43\n",
      "Name: Region, dtype: int64\n"
     ]
    }
   ],
   "source": [
    "for i in cat_feat:\n",
    "    print(df.groupby(i)['Region'].value_counts())\n",
    "    \n",
    "# from this observation i can conclude that in Region one(Sidi bel) the fire occurance is more"
   ]
  },
  {
   "cell_type": "code",
   "execution_count": 174,
   "id": "c8cc47f8",
   "metadata": {},
   "outputs": [
    {
     "data": {
      "text/plain": [
       "Classes  day\n",
       "fire     21     8\n",
       "notfire  1      8\n",
       "fire     18     6\n",
       "         17     6\n",
       "         19     6\n",
       "Name: day, dtype: int64"
      ]
     },
     "execution_count": 174,
     "metadata": {},
     "output_type": "execute_result"
    }
   ],
   "source": [
    "df.groupby('Classes')['day'].value_counts().sort_values(ascending=False).head()\n",
    "\n",
    "# on 21st the no of fire occurance is Minimum"
   ]
  },
  {
   "cell_type": "code",
   "execution_count": 175,
   "id": "8909637d",
   "metadata": {},
   "outputs": [
    {
     "data": {
      "text/plain": [
       "Classes  day\n",
       "notfire  31     1\n",
       "         26     2\n",
       "         19     2\n",
       "         18     2\n",
       "         17     2\n",
       "Name: day, dtype: int64"
      ]
     },
     "execution_count": 175,
     "metadata": {},
     "output_type": "execute_result"
    }
   ],
   "source": [
    "df.groupby('Classes')['day'].value_counts().sort_values(ascending=True).head()\n",
    "# on 31st the no of fire occurance is MOnimum"
   ]
  },
  {
   "cell_type": "markdown",
   "id": "40e102d8",
   "metadata": {},
   "source": [
    "# Outliers"
   ]
  },
  {
   "cell_type": "code",
   "execution_count": 80,
   "id": "1d862a2d",
   "metadata": {},
   "outputs": [
    {
     "data": {
      "text/plain": [
       "['day', 'month', 'year', 'Temperature', 'Ws', 'Region']"
      ]
     },
     "execution_count": 80,
     "metadata": {},
     "output_type": "execute_result"
    }
   ],
   "source": [
    "discret_fet"
   ]
  },
  {
   "cell_type": "code",
   "execution_count": 81,
   "id": "cd1e1dcd",
   "metadata": {},
   "outputs": [
    {
     "data": {
      "text/plain": [
       "['RH', 'Rain', 'FFMC', 'DMC', 'DC', 'ISI', 'BUI', 'FWI']"
      ]
     },
     "execution_count": 81,
     "metadata": {},
     "output_type": "execute_result"
    }
   ],
   "source": [
    "cont_feat"
   ]
  },
  {
   "cell_type": "code",
   "execution_count": 96,
   "id": "4104b84b",
   "metadata": {},
   "outputs": [
    {
     "data": {
      "image/png": "[encoded data removed]",
      "text/plain": [
       "<Figure size 720x360 with 1 Axes>"
      ]
     },
     "metadata": {
      "needs_background": "light"
     },
     "output_type": "display_data"
    },
    {
     "data": {
      "image/png": "[encoded data removed]",
      "text/plain": [
       "<Figure size 720x360 with 1 Axes>"
      ]
     },
     "metadata": {
      "needs_background": "light"
     },
     "output_type": "display_data"
    },
    {
     "data": {
      "image/png": "[encoded data removed]",
      "text/plain": [
       "<Figure size 720x360 with 1 Axes>"
      ]
     },
     "metadata": {
      "needs_background": "light"
     },
     "output_type": "display_data"
    },
    {
     "data": {
      "image/png": "[encoded data removed]",
      "text/plain": [
       "<Figure size 720x360 with 1 Axes>"
      ]
     },
     "metadata": {
      "needs_background": "light"
     },
     "output_type": "display_data"
    },
    {
     "data": {
      "image/png": "[encoded data removed]",
      "text/plain": [
       "<Figure size 720x360 with 1 Axes>"
      ]
     },
     "metadata": {
      "needs_background": "light"
     },
     "output_type": "display_data"
    },
    {
     "data": {
      "image/png": "[encoded data removed]",
      "text/plain": [
       "<Figure size 720x360 with 1 Axes>"
      ]
     },
     "metadata": {
      "needs_background": "light"
     },
     "output_type": "display_data"
    },
    {
     "data": {
      "image/png": "[encoded data removed]",
      "text/plain": [
       "<Figure size 720x360 with 1 Axes>"
      ]
     },
     "metadata": {
      "needs_background": "light"
     },
     "output_type": "display_data"
    },
    {
     "data": {
      "image/png": "[encoded data removed]",
      "text/plain": [
       "<Figure size 720x360 with 1 Axes>"
      ]
     },
     "metadata": {
      "needs_background": "light"
     },
     "output_type": "display_data"
    },
    {
     "data": {
      "image/png": "[encoded data removed]",
      "text/plain": [
       "<Figure size 720x360 with 1 Axes>"
      ]
     },
     "metadata": {
      "needs_background": "light"
     },
     "output_type": "display_data"
    },
    {
     "data": {
      "image/png": "[encoded data removed]",
      "text/plain": [
       "<Figure size 720x360 with 1 Axes>"
      ]
     },
     "metadata": {
      "needs_background": "light"
     },
     "output_type": "display_data"
    },
    {
     "data": {
      "image/png": "[encoded data removed]",
      "text/plain": [
       "<Figure size 720x360 with 1 Axes>"
      ]
     },
     "metadata": {
      "needs_background": "light"
     },
     "output_type": "display_data"
    },
    {
     "data": {
      "image/png": "[encoded data removed]",
      "text/plain": [
       "<Figure size 720x360 with 1 Axes>"
      ]
     },
     "metadata": {
      "needs_background": "light"
     },
     "output_type": "display_data"
    },
    {
     "data": {
      "image/png": "[encoded data removed]",
      "text/plain": [
       "<Figure size 720x360 with 1 Axes>"
      ]
     },
     "metadata": {
      "needs_background": "light"
     },
     "output_type": "display_data"
    },
    {
     "data": {
      "image/png": "[encoded data removed]",
      "text/plain": [
       "<Figure size 720x360 with 1 Axes>"
      ]
     },
     "metadata": {
      "needs_background": "light"
     },
     "output_type": "display_data"
    }
   ],
   "source": [
    "for i in num_feat:\n",
    "    plt.figure(figsize=(10,5))\n",
    "    sns.boxplot(data=df, x=i, color='g')\n",
    "    plt.title(i)\n",
    "    plt.show()"
   ]
  },
  {
   "cell_type": "markdown",
   "id": "83a27b1f",
   "metadata": {},
   "source": [
    "# Observation:\n",
    "\n",
    "1. RH, day, month, region  and year doesn't have outliers.\n",
    "\n",
    "2. Temprature and FFMC have left side outliers.(since the distubution was left skewed)\n",
    "\n",
    "3. WS hase outliers in both the sides.\n",
    "\n",
    "4. Rain,DMC,DC,ISI,BUI and FWI have outliers in rught side(since the distubution was right skewed)\n"
   ]
  },
  {
   "cell_type": "code",
   "execution_count": 145,
   "id": "6f80fa54",
   "metadata": {},
   "outputs": [
    {
     "data": {
      "text/plain": [
       "<AxesSubplot:xlabel='RH'>"
      ]
     },
     "execution_count": 145,
     "metadata": {},
     "output_type": "execute_result"
    },
    {
     "data": {
      "image/png": "[encoded data removed]",
      "text/plain": [
       "<Figure size 432x288 with 1 Axes>"
      ]
     },
     "metadata": {
      "needs_background": "light"
     },
     "output_type": "display_data"
    }
   ],
   "source": [
    "sns.boxplot( x=df['RH'])\n",
    "\n",
    "#  there is no outliers since it foll gaussian/normal distribution"
   ]
  },
  {
   "cell_type": "code",
   "execution_count": 97,
   "id": "d12b6bde",
   "metadata": {},
   "outputs": [
    {
     "data": {
      "text/plain": [
       "<AxesSubplot:xlabel='day'>"
      ]
     },
     "execution_count": 97,
     "metadata": {},
     "output_type": "execute_result"
    },
    {
     "data": {
      "image/png": "[encoded data removed]",
      "text/plain": [
       "<Figure size 432x288 with 1 Axes>"
      ]
     },
     "metadata": {
      "needs_background": "light"
     },
     "output_type": "display_data"
    }
   ],
   "source": [
    "sns.boxplot( x=df['day'])\n",
    "\n",
    "#  there is no outliers since it foll gaussian/normal distribution"
   ]
  },
  {
   "cell_type": "code",
   "execution_count": 98,
   "id": "5a5efac8",
   "metadata": {},
   "outputs": [
    {
     "data": {
      "text/plain": [
       "<AxesSubplot:xlabel='month'>"
      ]
     },
     "execution_count": 98,
     "metadata": {},
     "output_type": "execute_result"
    },
    {
     "data": {
      "image/png": "[encoded data removed]",
      "text/plain": [
       "<Figure size 432x288 with 1 Axes>"
      ]
     },
     "metadata": {
      "needs_background": "light"
     },
     "output_type": "display_data"
    }
   ],
   "source": [
    "sns.boxplot( x=df['month'])\n",
    "\n",
    "#  there is no outliers since it foll gaussian/normal distribution"
   ]
  },
  {
   "cell_type": "markdown",
   "id": "037c4ced",
   "metadata": {},
   "source": [
    "# Statistical analysis"
   ]
  },
  {
   "cell_type": "code",
   "execution_count": 102,
   "id": "8dddda5e",
   "metadata": {},
   "outputs": [
    {
     "data": {
      "text/html": [
       "<div>\n",
       "<style scoped>\n",
       "    .dataframe tbody tr th:only-of-type {\n",
       "        vertical-align: middle;\n",
       "    }\n",
       "\n",
       "    .dataframe tbody tr th {\n",
       "        vertical-align: top;\n",
       "    }\n",
       "\n",
       "    .dataframe thead th {\n",
       "        text-align: right;\n",
       "    }\n",
       "</style>\n",
       "<table border=\"1\" class=\"dataframe\">\n",
       "  <thead>\n",
       "    <tr style=\"text-align: right;\">\n",
       "      <th></th>\n",
       "      <th>day</th>\n",
       "      <th>month</th>\n",
       "      <th>year</th>\n",
       "      <th>Temperature</th>\n",
       "      <th>RH</th>\n",
       "      <th>Ws</th>\n",
       "      <th>Rain</th>\n",
       "      <th>FFMC</th>\n",
       "      <th>DMC</th>\n",
       "      <th>DC</th>\n",
       "      <th>ISI</th>\n",
       "      <th>BUI</th>\n",
       "      <th>FWI</th>\n",
       "      <th>Region</th>\n",
       "    </tr>\n",
       "  </thead>\n",
       "  <tbody>\n",
       "    <tr>\n",
       "      <th>count</th>\n",
       "      <td>244.000000</td>\n",
       "      <td>244.000000</td>\n",
       "      <td>244.0</td>\n",
       "      <td>244.000000</td>\n",
       "      <td>244.000000</td>\n",
       "      <td>244.000000</td>\n",
       "      <td>244.000000</td>\n",
       "      <td>244.000000</td>\n",
       "      <td>244.000000</td>\n",
       "      <td>244.000000</td>\n",
       "      <td>244.000000</td>\n",
       "      <td>244.000000</td>\n",
       "      <td>244.000000</td>\n",
       "      <td>244.000000</td>\n",
       "    </tr>\n",
       "    <tr>\n",
       "      <th>mean</th>\n",
       "      <td>15.754098</td>\n",
       "      <td>7.500000</td>\n",
       "      <td>2012.0</td>\n",
       "      <td>32.172131</td>\n",
       "      <td>61.938525</td>\n",
       "      <td>15.504098</td>\n",
       "      <td>0.760656</td>\n",
       "      <td>77.887705</td>\n",
       "      <td>14.673361</td>\n",
       "      <td>49.288484</td>\n",
       "      <td>4.774180</td>\n",
       "      <td>16.664754</td>\n",
       "      <td>7.006967</td>\n",
       "      <td>0.500000</td>\n",
       "    </tr>\n",
       "    <tr>\n",
       "      <th>std</th>\n",
       "      <td>8.825059</td>\n",
       "      <td>1.112961</td>\n",
       "      <td>0.0</td>\n",
       "      <td>3.633843</td>\n",
       "      <td>14.884200</td>\n",
       "      <td>2.810178</td>\n",
       "      <td>1.999406</td>\n",
       "      <td>14.337571</td>\n",
       "      <td>12.368039</td>\n",
       "      <td>47.619393</td>\n",
       "      <td>4.175318</td>\n",
       "      <td>14.204824</td>\n",
       "      <td>7.438505</td>\n",
       "      <td>0.501028</td>\n",
       "    </tr>\n",
       "    <tr>\n",
       "      <th>min</th>\n",
       "      <td>1.000000</td>\n",
       "      <td>6.000000</td>\n",
       "      <td>2012.0</td>\n",
       "      <td>22.000000</td>\n",
       "      <td>21.000000</td>\n",
       "      <td>6.000000</td>\n",
       "      <td>0.000000</td>\n",
       "      <td>28.600000</td>\n",
       "      <td>0.700000</td>\n",
       "      <td>6.900000</td>\n",
       "      <td>0.000000</td>\n",
       "      <td>1.100000</td>\n",
       "      <td>0.000000</td>\n",
       "      <td>0.000000</td>\n",
       "    </tr>\n",
       "    <tr>\n",
       "      <th>25%</th>\n",
       "      <td>8.000000</td>\n",
       "      <td>7.000000</td>\n",
       "      <td>2012.0</td>\n",
       "      <td>30.000000</td>\n",
       "      <td>52.000000</td>\n",
       "      <td>14.000000</td>\n",
       "      <td>0.000000</td>\n",
       "      <td>72.075000</td>\n",
       "      <td>5.800000</td>\n",
       "      <td>13.275000</td>\n",
       "      <td>1.400000</td>\n",
       "      <td>6.000000</td>\n",
       "      <td>0.700000</td>\n",
       "      <td>0.000000</td>\n",
       "    </tr>\n",
       "    <tr>\n",
       "      <th>50%</th>\n",
       "      <td>16.000000</td>\n",
       "      <td>7.500000</td>\n",
       "      <td>2012.0</td>\n",
       "      <td>32.000000</td>\n",
       "      <td>63.000000</td>\n",
       "      <td>15.000000</td>\n",
       "      <td>0.000000</td>\n",
       "      <td>83.500000</td>\n",
       "      <td>11.300000</td>\n",
       "      <td>33.100000</td>\n",
       "      <td>3.500000</td>\n",
       "      <td>12.250000</td>\n",
       "      <td>4.200000</td>\n",
       "      <td>0.500000</td>\n",
       "    </tr>\n",
       "    <tr>\n",
       "      <th>75%</th>\n",
       "      <td>23.000000</td>\n",
       "      <td>8.000000</td>\n",
       "      <td>2012.0</td>\n",
       "      <td>35.000000</td>\n",
       "      <td>73.250000</td>\n",
       "      <td>17.000000</td>\n",
       "      <td>0.500000</td>\n",
       "      <td>88.300000</td>\n",
       "      <td>20.750000</td>\n",
       "      <td>68.150000</td>\n",
       "      <td>7.300000</td>\n",
       "      <td>22.525000</td>\n",
       "      <td>11.375000</td>\n",
       "      <td>1.000000</td>\n",
       "    </tr>\n",
       "    <tr>\n",
       "      <th>max</th>\n",
       "      <td>31.000000</td>\n",
       "      <td>9.000000</td>\n",
       "      <td>2012.0</td>\n",
       "      <td>42.000000</td>\n",
       "      <td>90.000000</td>\n",
       "      <td>29.000000</td>\n",
       "      <td>16.800000</td>\n",
       "      <td>96.000000</td>\n",
       "      <td>65.900000</td>\n",
       "      <td>220.400000</td>\n",
       "      <td>19.000000</td>\n",
       "      <td>68.000000</td>\n",
       "      <td>31.100000</td>\n",
       "      <td>1.000000</td>\n",
       "    </tr>\n",
       "  </tbody>\n",
       "</table>\n",
       "</div>"
      ],
      "text/plain": [
       "              day       month    year  Temperature          RH          Ws  \\\n",
       "count  244.000000  244.000000   244.0   244.000000  244.000000  244.000000   \n",
       "mean    15.754098    7.500000  2012.0    32.172131   61.938525   15.504098   \n",
       "std      8.825059    1.112961     0.0     3.633843   14.884200    2.810178   \n",
       "min      1.000000    6.000000  2012.0    22.000000   21.000000    6.000000   \n",
       "25%      8.000000    7.000000  2012.0    30.000000   52.000000   14.000000   \n",
       "50%     16.000000    7.500000  2012.0    32.000000   63.000000   15.000000   \n",
       "75%     23.000000    8.000000  2012.0    35.000000   73.250000   17.000000   \n",
       "max     31.000000    9.000000  2012.0    42.000000   90.000000   29.000000   \n",
       "\n",
       "             Rain        FFMC         DMC          DC         ISI         BUI  \\\n",
       "count  244.000000  244.000000  244.000000  244.000000  244.000000  244.000000   \n",
       "mean     0.760656   77.887705   14.673361   49.288484    4.774180   16.664754   \n",
       "std      1.999406   14.337571   12.368039   47.619393    4.175318   14.204824   \n",
       "min      0.000000   28.600000    0.700000    6.900000    0.000000    1.100000   \n",
       "25%      0.000000   72.075000    5.800000   13.275000    1.400000    6.000000   \n",
       "50%      0.000000   83.500000   11.300000   33.100000    3.500000   12.250000   \n",
       "75%      0.500000   88.300000   20.750000   68.150000    7.300000   22.525000   \n",
       "max     16.800000   96.000000   65.900000  220.400000   19.000000   68.000000   \n",
       "\n",
       "              FWI      Region  \n",
       "count  244.000000  244.000000  \n",
       "mean     7.006967    0.500000  \n",
       "std      7.438505    0.501028  \n",
       "min      0.000000    0.000000  \n",
       "25%      0.700000    0.000000  \n",
       "50%      4.200000    0.500000  \n",
       "75%     11.375000    1.000000  \n",
       "max     31.100000    1.000000  "
      ]
     },
     "execution_count": 102,
     "metadata": {},
     "output_type": "execute_result"
    }
   ],
   "source": [
    "df.describe()"
   ]
  },
  {
   "cell_type": "code",
   "execution_count": 140,
   "id": "239e3778",
   "metadata": {},
   "outputs": [
    {
     "data": {
      "text/html": [
       "<div>\n",
       "<style scoped>\n",
       "    .dataframe tbody tr th:only-of-type {\n",
       "        vertical-align: middle;\n",
       "    }\n",
       "\n",
       "    .dataframe tbody tr th {\n",
       "        vertical-align: top;\n",
       "    }\n",
       "\n",
       "    .dataframe thead th {\n",
       "        text-align: right;\n",
       "    }\n",
       "</style>\n",
       "<table border=\"1\" class=\"dataframe\">\n",
       "  <thead>\n",
       "    <tr style=\"text-align: right;\">\n",
       "      <th></th>\n",
       "      <th>day</th>\n",
       "      <th>month</th>\n",
       "      <th>year</th>\n",
       "      <th>Temperature</th>\n",
       "      <th>RH</th>\n",
       "      <th>Ws</th>\n",
       "      <th>Rain</th>\n",
       "      <th>FFMC</th>\n",
       "      <th>DMC</th>\n",
       "      <th>DC</th>\n",
       "      <th>ISI</th>\n",
       "      <th>BUI</th>\n",
       "      <th>FWI</th>\n",
       "      <th>Classes</th>\n",
       "      <th>Region</th>\n",
       "    </tr>\n",
       "  </thead>\n",
       "  <tbody>\n",
       "    <tr>\n",
       "      <th>0</th>\n",
       "      <td>1</td>\n",
       "      <td>6</td>\n",
       "      <td>2012</td>\n",
       "      <td>29</td>\n",
       "      <td>57</td>\n",
       "      <td>18</td>\n",
       "      <td>0.0</td>\n",
       "      <td>65.7</td>\n",
       "      <td>3.4</td>\n",
       "      <td>7.6</td>\n",
       "      <td>1.3</td>\n",
       "      <td>3.4</td>\n",
       "      <td>0.5</td>\n",
       "      <td>notfire</td>\n",
       "      <td>0.0</td>\n",
       "    </tr>\n",
       "    <tr>\n",
       "      <th>1</th>\n",
       "      <td>2</td>\n",
       "      <td>6</td>\n",
       "      <td>2012</td>\n",
       "      <td>29</td>\n",
       "      <td>61</td>\n",
       "      <td>13</td>\n",
       "      <td>1.3</td>\n",
       "      <td>64.4</td>\n",
       "      <td>4.1</td>\n",
       "      <td>7.6</td>\n",
       "      <td>1.0</td>\n",
       "      <td>3.9</td>\n",
       "      <td>0.4</td>\n",
       "      <td>notfire</td>\n",
       "      <td>0.0</td>\n",
       "    </tr>\n",
       "    <tr>\n",
       "      <th>2</th>\n",
       "      <td>3</td>\n",
       "      <td>6</td>\n",
       "      <td>2012</td>\n",
       "      <td>26</td>\n",
       "      <td>82</td>\n",
       "      <td>22</td>\n",
       "      <td>13.1</td>\n",
       "      <td>47.1</td>\n",
       "      <td>2.5</td>\n",
       "      <td>7.1</td>\n",
       "      <td>0.3</td>\n",
       "      <td>2.7</td>\n",
       "      <td>0.1</td>\n",
       "      <td>notfire</td>\n",
       "      <td>0.0</td>\n",
       "    </tr>\n",
       "    <tr>\n",
       "      <th>3</th>\n",
       "      <td>4</td>\n",
       "      <td>6</td>\n",
       "      <td>2012</td>\n",
       "      <td>25</td>\n",
       "      <td>89</td>\n",
       "      <td>13</td>\n",
       "      <td>2.5</td>\n",
       "      <td>28.6</td>\n",
       "      <td>1.3</td>\n",
       "      <td>6.9</td>\n",
       "      <td>0.0</td>\n",
       "      <td>1.7</td>\n",
       "      <td>0.0</td>\n",
       "      <td>notfire</td>\n",
       "      <td>0.0</td>\n",
       "    </tr>\n",
       "    <tr>\n",
       "      <th>4</th>\n",
       "      <td>5</td>\n",
       "      <td>6</td>\n",
       "      <td>2012</td>\n",
       "      <td>27</td>\n",
       "      <td>77</td>\n",
       "      <td>16</td>\n",
       "      <td>0.0</td>\n",
       "      <td>64.8</td>\n",
       "      <td>3.0</td>\n",
       "      <td>14.2</td>\n",
       "      <td>1.2</td>\n",
       "      <td>3.9</td>\n",
       "      <td>0.5</td>\n",
       "      <td>notfire</td>\n",
       "      <td>0.0</td>\n",
       "    </tr>\n",
       "    <tr>\n",
       "      <th>...</th>\n",
       "      <td>...</td>\n",
       "      <td>...</td>\n",
       "      <td>...</td>\n",
       "      <td>...</td>\n",
       "      <td>...</td>\n",
       "      <td>...</td>\n",
       "      <td>...</td>\n",
       "      <td>...</td>\n",
       "      <td>...</td>\n",
       "      <td>...</td>\n",
       "      <td>...</td>\n",
       "      <td>...</td>\n",
       "      <td>...</td>\n",
       "      <td>...</td>\n",
       "      <td>...</td>\n",
       "    </tr>\n",
       "    <tr>\n",
       "      <th>239</th>\n",
       "      <td>26</td>\n",
       "      <td>9</td>\n",
       "      <td>2012</td>\n",
       "      <td>30</td>\n",
       "      <td>65</td>\n",
       "      <td>14</td>\n",
       "      <td>0.0</td>\n",
       "      <td>85.4</td>\n",
       "      <td>16.0</td>\n",
       "      <td>44.5</td>\n",
       "      <td>4.5</td>\n",
       "      <td>16.9</td>\n",
       "      <td>6.5</td>\n",
       "      <td>fire</td>\n",
       "      <td>1.0</td>\n",
       "    </tr>\n",
       "    <tr>\n",
       "      <th>240</th>\n",
       "      <td>27</td>\n",
       "      <td>9</td>\n",
       "      <td>2012</td>\n",
       "      <td>28</td>\n",
       "      <td>87</td>\n",
       "      <td>15</td>\n",
       "      <td>4.4</td>\n",
       "      <td>41.1</td>\n",
       "      <td>6.5</td>\n",
       "      <td>8.0</td>\n",
       "      <td>0.1</td>\n",
       "      <td>6.2</td>\n",
       "      <td>0.0</td>\n",
       "      <td>notfire</td>\n",
       "      <td>1.0</td>\n",
       "    </tr>\n",
       "    <tr>\n",
       "      <th>241</th>\n",
       "      <td>28</td>\n",
       "      <td>9</td>\n",
       "      <td>2012</td>\n",
       "      <td>27</td>\n",
       "      <td>87</td>\n",
       "      <td>29</td>\n",
       "      <td>0.5</td>\n",
       "      <td>45.9</td>\n",
       "      <td>3.5</td>\n",
       "      <td>7.9</td>\n",
       "      <td>0.4</td>\n",
       "      <td>3.4</td>\n",
       "      <td>0.2</td>\n",
       "      <td>notfire</td>\n",
       "      <td>1.0</td>\n",
       "    </tr>\n",
       "    <tr>\n",
       "      <th>242</th>\n",
       "      <td>29</td>\n",
       "      <td>9</td>\n",
       "      <td>2012</td>\n",
       "      <td>24</td>\n",
       "      <td>54</td>\n",
       "      <td>18</td>\n",
       "      <td>0.1</td>\n",
       "      <td>79.7</td>\n",
       "      <td>4.3</td>\n",
       "      <td>15.2</td>\n",
       "      <td>1.7</td>\n",
       "      <td>5.1</td>\n",
       "      <td>0.7</td>\n",
       "      <td>notfire</td>\n",
       "      <td>1.0</td>\n",
       "    </tr>\n",
       "    <tr>\n",
       "      <th>243</th>\n",
       "      <td>30</td>\n",
       "      <td>9</td>\n",
       "      <td>2012</td>\n",
       "      <td>24</td>\n",
       "      <td>64</td>\n",
       "      <td>15</td>\n",
       "      <td>0.2</td>\n",
       "      <td>67.3</td>\n",
       "      <td>3.8</td>\n",
       "      <td>16.5</td>\n",
       "      <td>1.2</td>\n",
       "      <td>4.8</td>\n",
       "      <td>0.5</td>\n",
       "      <td>notfire</td>\n",
       "      <td>1.0</td>\n",
       "    </tr>\n",
       "  </tbody>\n",
       "</table>\n",
       "<p>244 rows × 15 columns</p>\n",
       "</div>"
      ],
      "text/plain": [
       "     day  month  year  Temperature  RH  Ws  Rain  FFMC   DMC    DC  ISI   BUI  \\\n",
       "0      1      6  2012           29  57  18   0.0  65.7   3.4   7.6  1.3   3.4   \n",
       "1      2      6  2012           29  61  13   1.3  64.4   4.1   7.6  1.0   3.9   \n",
       "2      3      6  2012           26  82  22  13.1  47.1   2.5   7.1  0.3   2.7   \n",
       "3      4      6  2012           25  89  13   2.5  28.6   1.3   6.9  0.0   1.7   \n",
       "4      5      6  2012           27  77  16   0.0  64.8   3.0  14.2  1.2   3.9   \n",
       "..   ...    ...   ...          ...  ..  ..   ...   ...   ...   ...  ...   ...   \n",
       "239   26      9  2012           30  65  14   0.0  85.4  16.0  44.5  4.5  16.9   \n",
       "240   27      9  2012           28  87  15   4.4  41.1   6.5   8.0  0.1   6.2   \n",
       "241   28      9  2012           27  87  29   0.5  45.9   3.5   7.9  0.4   3.4   \n",
       "242   29      9  2012           24  54  18   0.1  79.7   4.3  15.2  1.7   5.1   \n",
       "243   30      9  2012           24  64  15   0.2  67.3   3.8  16.5  1.2   4.8   \n",
       "\n",
       "     FWI  Classes  Region  \n",
       "0    0.5  notfire     0.0  \n",
       "1    0.4  notfire     0.0  \n",
       "2    0.1  notfire     0.0  \n",
       "3    0.0  notfire     0.0  \n",
       "4    0.5  notfire     0.0  \n",
       "..   ...      ...     ...  \n",
       "239  6.5     fire     1.0  \n",
       "240  0.0  notfire     1.0  \n",
       "241  0.2  notfire     1.0  \n",
       "242  0.7  notfire     1.0  \n",
       "243  0.5  notfire     1.0  \n",
       "\n",
       "[244 rows x 15 columns]"
      ]
     },
     "execution_count": 140,
     "metadata": {},
     "output_type": "execute_result"
    }
   ],
   "source": [
    "df"
   ]
  },
  {
   "cell_type": "code",
   "execution_count": 137,
   "id": "a072c959",
   "metadata": {},
   "outputs": [],
   "source": [
    "data=round(df[[i for i in num_feat if i not in ['day','month','year','Region']]], 3)"
   ]
  },
  {
   "cell_type": "code",
   "execution_count": 143,
   "id": "93bdee21",
   "metadata": {},
   "outputs": [
    {
     "data": {
      "text/html": [
       "<div>\n",
       "<style scoped>\n",
       "    .dataframe tbody tr th:only-of-type {\n",
       "        vertical-align: middle;\n",
       "    }\n",
       "\n",
       "    .dataframe tbody tr th {\n",
       "        vertical-align: top;\n",
       "    }\n",
       "\n",
       "    .dataframe thead th {\n",
       "        text-align: right;\n",
       "    }\n",
       "</style>\n",
       "<table border=\"1\" class=\"dataframe\">\n",
       "  <thead>\n",
       "    <tr style=\"text-align: right;\">\n",
       "      <th></th>\n",
       "      <th>Temperature</th>\n",
       "      <th>RH</th>\n",
       "      <th>Ws</th>\n",
       "      <th>Rain</th>\n",
       "      <th>FFMC</th>\n",
       "      <th>DMC</th>\n",
       "      <th>DC</th>\n",
       "      <th>ISI</th>\n",
       "      <th>BUI</th>\n",
       "      <th>FWI</th>\n",
       "    </tr>\n",
       "  </thead>\n",
       "  <tbody>\n",
       "    <tr>\n",
       "      <th>0</th>\n",
       "      <td>29</td>\n",
       "      <td>57</td>\n",
       "      <td>18</td>\n",
       "      <td>0.0</td>\n",
       "      <td>65.7</td>\n",
       "      <td>3.4</td>\n",
       "      <td>7.6</td>\n",
       "      <td>1.3</td>\n",
       "      <td>3.4</td>\n",
       "      <td>0.5</td>\n",
       "    </tr>\n",
       "    <tr>\n",
       "      <th>1</th>\n",
       "      <td>29</td>\n",
       "      <td>61</td>\n",
       "      <td>13</td>\n",
       "      <td>1.3</td>\n",
       "      <td>64.4</td>\n",
       "      <td>4.1</td>\n",
       "      <td>7.6</td>\n",
       "      <td>1.0</td>\n",
       "      <td>3.9</td>\n",
       "      <td>0.4</td>\n",
       "    </tr>\n",
       "    <tr>\n",
       "      <th>2</th>\n",
       "      <td>26</td>\n",
       "      <td>82</td>\n",
       "      <td>22</td>\n",
       "      <td>13.1</td>\n",
       "      <td>47.1</td>\n",
       "      <td>2.5</td>\n",
       "      <td>7.1</td>\n",
       "      <td>0.3</td>\n",
       "      <td>2.7</td>\n",
       "      <td>0.1</td>\n",
       "    </tr>\n",
       "    <tr>\n",
       "      <th>3</th>\n",
       "      <td>25</td>\n",
       "      <td>89</td>\n",
       "      <td>13</td>\n",
       "      <td>2.5</td>\n",
       "      <td>28.6</td>\n",
       "      <td>1.3</td>\n",
       "      <td>6.9</td>\n",
       "      <td>0.0</td>\n",
       "      <td>1.7</td>\n",
       "      <td>0.0</td>\n",
       "    </tr>\n",
       "    <tr>\n",
       "      <th>4</th>\n",
       "      <td>27</td>\n",
       "      <td>77</td>\n",
       "      <td>16</td>\n",
       "      <td>0.0</td>\n",
       "      <td>64.8</td>\n",
       "      <td>3.0</td>\n",
       "      <td>14.2</td>\n",
       "      <td>1.2</td>\n",
       "      <td>3.9</td>\n",
       "      <td>0.5</td>\n",
       "    </tr>\n",
       "    <tr>\n",
       "      <th>...</th>\n",
       "      <td>...</td>\n",
       "      <td>...</td>\n",
       "      <td>...</td>\n",
       "      <td>...</td>\n",
       "      <td>...</td>\n",
       "      <td>...</td>\n",
       "      <td>...</td>\n",
       "      <td>...</td>\n",
       "      <td>...</td>\n",
       "      <td>...</td>\n",
       "    </tr>\n",
       "    <tr>\n",
       "      <th>239</th>\n",
       "      <td>30</td>\n",
       "      <td>65</td>\n",
       "      <td>14</td>\n",
       "      <td>0.0</td>\n",
       "      <td>85.4</td>\n",
       "      <td>16.0</td>\n",
       "      <td>44.5</td>\n",
       "      <td>4.5</td>\n",
       "      <td>16.9</td>\n",
       "      <td>6.5</td>\n",
       "    </tr>\n",
       "    <tr>\n",
       "      <th>240</th>\n",
       "      <td>28</td>\n",
       "      <td>87</td>\n",
       "      <td>15</td>\n",
       "      <td>4.4</td>\n",
       "      <td>41.1</td>\n",
       "      <td>6.5</td>\n",
       "      <td>8.0</td>\n",
       "      <td>0.1</td>\n",
       "      <td>6.2</td>\n",
       "      <td>0.0</td>\n",
       "    </tr>\n",
       "    <tr>\n",
       "      <th>241</th>\n",
       "      <td>27</td>\n",
       "      <td>87</td>\n",
       "      <td>29</td>\n",
       "      <td>0.5</td>\n",
       "      <td>45.9</td>\n",
       "      <td>3.5</td>\n",
       "      <td>7.9</td>\n",
       "      <td>0.4</td>\n",
       "      <td>3.4</td>\n",
       "      <td>0.2</td>\n",
       "    </tr>\n",
       "    <tr>\n",
       "      <th>242</th>\n",
       "      <td>24</td>\n",
       "      <td>54</td>\n",
       "      <td>18</td>\n",
       "      <td>0.1</td>\n",
       "      <td>79.7</td>\n",
       "      <td>4.3</td>\n",
       "      <td>15.2</td>\n",
       "      <td>1.7</td>\n",
       "      <td>5.1</td>\n",
       "      <td>0.7</td>\n",
       "    </tr>\n",
       "    <tr>\n",
       "      <th>243</th>\n",
       "      <td>24</td>\n",
       "      <td>64</td>\n",
       "      <td>15</td>\n",
       "      <td>0.2</td>\n",
       "      <td>67.3</td>\n",
       "      <td>3.8</td>\n",
       "      <td>16.5</td>\n",
       "      <td>1.2</td>\n",
       "      <td>4.8</td>\n",
       "      <td>0.5</td>\n",
       "    </tr>\n",
       "  </tbody>\n",
       "</table>\n",
       "<p>244 rows × 10 columns</p>\n",
       "</div>"
      ],
      "text/plain": [
       "     Temperature  RH  Ws  Rain  FFMC   DMC    DC  ISI   BUI  FWI\n",
       "0             29  57  18   0.0  65.7   3.4   7.6  1.3   3.4  0.5\n",
       "1             29  61  13   1.3  64.4   4.1   7.6  1.0   3.9  0.4\n",
       "2             26  82  22  13.1  47.1   2.5   7.1  0.3   2.7  0.1\n",
       "3             25  89  13   2.5  28.6   1.3   6.9  0.0   1.7  0.0\n",
       "4             27  77  16   0.0  64.8   3.0  14.2  1.2   3.9  0.5\n",
       "..           ...  ..  ..   ...   ...   ...   ...  ...   ...  ...\n",
       "239           30  65  14   0.0  85.4  16.0  44.5  4.5  16.9  6.5\n",
       "240           28  87  15   4.4  41.1   6.5   8.0  0.1   6.2  0.0\n",
       "241           27  87  29   0.5  45.9   3.5   7.9  0.4   3.4  0.2\n",
       "242           24  54  18   0.1  79.7   4.3  15.2  1.7   5.1  0.7\n",
       "243           24  64  15   0.2  67.3   3.8  16.5  1.2   4.8  0.5\n",
       "\n",
       "[244 rows x 10 columns]"
      ]
     },
     "execution_count": 143,
     "metadata": {},
     "output_type": "execute_result"
    }
   ],
   "source": [
    "data"
   ]
  },
  {
   "cell_type": "markdown",
   "id": "6c63aabd",
   "metadata": {},
   "source": [
    "# Strp plot\n"
   ]
  },
  {
   "cell_type": "code",
   "execution_count": 148,
   "id": "8834c563",
   "metadata": {},
   "outputs": [],
   "source": [
    "# Relationship between Numeric Feature and Target Feature"
   ]
  },
  {
   "cell_type": "code",
   "execution_count": 147,
   "id": "53e584d7",
   "metadata": {},
   "outputs": [
    {
     "data": {
      "image/png": "[encoded data removed]",
      "text/plain": [
       "<Figure size 720x720 with 1 Axes>"
      ]
     },
     "metadata": {},
     "output_type": "display_data"
    },
    {
     "data": {
      "image/png": "[encoded data removed]",
      "text/plain": [
       "<Figure size 720x720 with 1 Axes>"
      ]
     },
     "metadata": {},
     "output_type": "display_data"
    },
    {
     "data": {
      "image/png": "[encoded data removed]",
      "text/plain": [
       "<Figure size 720x720 with 1 Axes>"
      ]
     },
     "metadata": {},
     "output_type": "display_data"
    },
    {
     "data": {
      "image/png": "[encoded data removed]",
      "text/plain": [
       "<Figure size 720x720 with 1 Axes>"
      ]
     },
     "metadata": {},
     "output_type": "display_data"
    },
    {
     "data": {
      "image/png": "[encoded data removed]",
      "text/plain": [
       "<Figure size 720x720 with 1 Axes>"
      ]
     },
     "metadata": {},
     "output_type": "display_data"
    },
    {
     "data": {
      "image/png": "[encoded data removed]",
      "text/plain": [
       "<Figure size 720x720 with 1 Axes>"
      ]
     },
     "metadata": {},
     "output_type": "display_data"
    },
    {
     "data": {
      "image/png": "[encoded data removed]",
      "text/plain": [
       "<Figure size 720x720 with 1 Axes>"
      ]
     },
     "metadata": {},
     "output_type": "display_data"
    },
    {
     "data": {
      "image/png": "[encoded data removed]",
      "text/plain": [
       "<Figure size 720x720 with 1 Axes>"
      ]
     },
     "metadata": {},
     "output_type": "display_data"
    },
    {
     "data": {
      "image/png": "[encoded data removed]",
      "text/plain": [
       "<Figure size 720x720 with 1 Axes>"
      ]
     },
     "metadata": {},
     "output_type": "display_data"
    },
    {
     "data": {
      "image/png": "[encoded data removed]",
      "text/plain": [
       "<Figure size 720x720 with 1 Axes>"
      ]
     },
     "metadata": {},
     "output_type": "display_data"
    }
   ],
   "source": [
    "num_values_custom = [i for i in num_feat if i not in ['day','month','year','Region']]\n",
    "for i in num_values_custom:\n",
    "    sns.stripplot(data=df,x=i,y='Classes')\n",
    "    plt.show()"
   ]
  },
  {
   "cell_type": "markdown",
   "id": "9c693f29",
   "metadata": {},
   "source": [
    "# Observation "
   ]
  },
  {
   "cell_type": "markdown",
   "id": "0e6f0b14",
   "metadata": {},
   "source": [
    "1. There is no null values in the dataset.\n",
    "2. Highly correlative: DMC-BUI,DC-BUI,ISI-FWI.\n",
    "3. correlative: FFMC-ISI,FWI-DC,DC-DMC,FWI-BUI,FWI-DMC.\n",
    "4. Relative humidity is following Gaussian Distribution\n",
    "5. Rain,DMC,DC,ISI,BUI,FWI are following right skewed distribution.\n",
    "6. FFMC is following left skewed distribution.\n",
    "7. In day vs classes, the occurence of fire is more than no fire.\n",
    "8. In month vs classes, in the month of july and august fire cases are high.\n",
    "9. Highest fire cases are in august month.\n",
    "10. In temprature vs classes from 31 to 36 degree celcius no of fire cases are high.\n",
    "11. In windspeed vs classes it is clearly visible that from 13-18 km/hr range there is most no of fire occurences.\n",
    "12. In region vs classes, sedi bel-abbes region the no of fire cases are more than bajaia region.\n",
    "13. final conclusion is that Fire occurences are more than no fire occurence."
   ]
  },
  {
   "cell_type": "code",
   "execution_count": 149,
   "id": "5ff3bd7d",
   "metadata": {},
   "outputs": [
    {
     "data": {
      "text/html": [
       "<div>\n",
       "<style scoped>\n",
       "    .dataframe tbody tr th:only-of-type {\n",
       "        vertical-align: middle;\n",
       "    }\n",
       "\n",
       "    .dataframe tbody tr th {\n",
       "        vertical-align: top;\n",
       "    }\n",
       "\n",
       "    .dataframe thead th {\n",
       "        text-align: right;\n",
       "    }\n",
       "</style>\n",
       "<table border=\"1\" class=\"dataframe\">\n",
       "  <thead>\n",
       "    <tr style=\"text-align: right;\">\n",
       "      <th></th>\n",
       "      <th>day</th>\n",
       "      <th>month</th>\n",
       "      <th>year</th>\n",
       "      <th>Temperature</th>\n",
       "      <th>RH</th>\n",
       "      <th>Ws</th>\n",
       "      <th>Rain</th>\n",
       "      <th>FFMC</th>\n",
       "      <th>DMC</th>\n",
       "      <th>DC</th>\n",
       "      <th>ISI</th>\n",
       "      <th>BUI</th>\n",
       "      <th>FWI</th>\n",
       "      <th>Classes</th>\n",
       "      <th>Region</th>\n",
       "    </tr>\n",
       "  </thead>\n",
       "  <tbody>\n",
       "    <tr>\n",
       "      <th>0</th>\n",
       "      <td>1</td>\n",
       "      <td>6</td>\n",
       "      <td>2012</td>\n",
       "      <td>29</td>\n",
       "      <td>57</td>\n",
       "      <td>18</td>\n",
       "      <td>0.0</td>\n",
       "      <td>65.7</td>\n",
       "      <td>3.4</td>\n",
       "      <td>7.6</td>\n",
       "      <td>1.3</td>\n",
       "      <td>3.4</td>\n",
       "      <td>0.5</td>\n",
       "      <td>notfire</td>\n",
       "      <td>0.0</td>\n",
       "    </tr>\n",
       "    <tr>\n",
       "      <th>1</th>\n",
       "      <td>2</td>\n",
       "      <td>6</td>\n",
       "      <td>2012</td>\n",
       "      <td>29</td>\n",
       "      <td>61</td>\n",
       "      <td>13</td>\n",
       "      <td>1.3</td>\n",
       "      <td>64.4</td>\n",
       "      <td>4.1</td>\n",
       "      <td>7.6</td>\n",
       "      <td>1.0</td>\n",
       "      <td>3.9</td>\n",
       "      <td>0.4</td>\n",
       "      <td>notfire</td>\n",
       "      <td>0.0</td>\n",
       "    </tr>\n",
       "    <tr>\n",
       "      <th>2</th>\n",
       "      <td>3</td>\n",
       "      <td>6</td>\n",
       "      <td>2012</td>\n",
       "      <td>26</td>\n",
       "      <td>82</td>\n",
       "      <td>22</td>\n",
       "      <td>13.1</td>\n",
       "      <td>47.1</td>\n",
       "      <td>2.5</td>\n",
       "      <td>7.1</td>\n",
       "      <td>0.3</td>\n",
       "      <td>2.7</td>\n",
       "      <td>0.1</td>\n",
       "      <td>notfire</td>\n",
       "      <td>0.0</td>\n",
       "    </tr>\n",
       "    <tr>\n",
       "      <th>3</th>\n",
       "      <td>4</td>\n",
       "      <td>6</td>\n",
       "      <td>2012</td>\n",
       "      <td>25</td>\n",
       "      <td>89</td>\n",
       "      <td>13</td>\n",
       "      <td>2.5</td>\n",
       "      <td>28.6</td>\n",
       "      <td>1.3</td>\n",
       "      <td>6.9</td>\n",
       "      <td>0.0</td>\n",
       "      <td>1.7</td>\n",
       "      <td>0.0</td>\n",
       "      <td>notfire</td>\n",
       "      <td>0.0</td>\n",
       "    </tr>\n",
       "    <tr>\n",
       "      <th>4</th>\n",
       "      <td>5</td>\n",
       "      <td>6</td>\n",
       "      <td>2012</td>\n",
       "      <td>27</td>\n",
       "      <td>77</td>\n",
       "      <td>16</td>\n",
       "      <td>0.0</td>\n",
       "      <td>64.8</td>\n",
       "      <td>3.0</td>\n",
       "      <td>14.2</td>\n",
       "      <td>1.2</td>\n",
       "      <td>3.9</td>\n",
       "      <td>0.5</td>\n",
       "      <td>notfire</td>\n",
       "      <td>0.0</td>\n",
       "    </tr>\n",
       "    <tr>\n",
       "      <th>...</th>\n",
       "      <td>...</td>\n",
       "      <td>...</td>\n",
       "      <td>...</td>\n",
       "      <td>...</td>\n",
       "      <td>...</td>\n",
       "      <td>...</td>\n",
       "      <td>...</td>\n",
       "      <td>...</td>\n",
       "      <td>...</td>\n",
       "      <td>...</td>\n",
       "      <td>...</td>\n",
       "      <td>...</td>\n",
       "      <td>...</td>\n",
       "      <td>...</td>\n",
       "      <td>...</td>\n",
       "    </tr>\n",
       "    <tr>\n",
       "      <th>239</th>\n",
       "      <td>26</td>\n",
       "      <td>9</td>\n",
       "      <td>2012</td>\n",
       "      <td>30</td>\n",
       "      <td>65</td>\n",
       "      <td>14</td>\n",
       "      <td>0.0</td>\n",
       "      <td>85.4</td>\n",
       "      <td>16.0</td>\n",
       "      <td>44.5</td>\n",
       "      <td>4.5</td>\n",
       "      <td>16.9</td>\n",
       "      <td>6.5</td>\n",
       "      <td>fire</td>\n",
       "      <td>1.0</td>\n",
       "    </tr>\n",
       "    <tr>\n",
       "      <th>240</th>\n",
       "      <td>27</td>\n",
       "      <td>9</td>\n",
       "      <td>2012</td>\n",
       "      <td>28</td>\n",
       "      <td>87</td>\n",
       "      <td>15</td>\n",
       "      <td>4.4</td>\n",
       "      <td>41.1</td>\n",
       "      <td>6.5</td>\n",
       "      <td>8.0</td>\n",
       "      <td>0.1</td>\n",
       "      <td>6.2</td>\n",
       "      <td>0.0</td>\n",
       "      <td>notfire</td>\n",
       "      <td>1.0</td>\n",
       "    </tr>\n",
       "    <tr>\n",
       "      <th>241</th>\n",
       "      <td>28</td>\n",
       "      <td>9</td>\n",
       "      <td>2012</td>\n",
       "      <td>27</td>\n",
       "      <td>87</td>\n",
       "      <td>29</td>\n",
       "      <td>0.5</td>\n",
       "      <td>45.9</td>\n",
       "      <td>3.5</td>\n",
       "      <td>7.9</td>\n",
       "      <td>0.4</td>\n",
       "      <td>3.4</td>\n",
       "      <td>0.2</td>\n",
       "      <td>notfire</td>\n",
       "      <td>1.0</td>\n",
       "    </tr>\n",
       "    <tr>\n",
       "      <th>242</th>\n",
       "      <td>29</td>\n",
       "      <td>9</td>\n",
       "      <td>2012</td>\n",
       "      <td>24</td>\n",
       "      <td>54</td>\n",
       "      <td>18</td>\n",
       "      <td>0.1</td>\n",
       "      <td>79.7</td>\n",
       "      <td>4.3</td>\n",
       "      <td>15.2</td>\n",
       "      <td>1.7</td>\n",
       "      <td>5.1</td>\n",
       "      <td>0.7</td>\n",
       "      <td>notfire</td>\n",
       "      <td>1.0</td>\n",
       "    </tr>\n",
       "    <tr>\n",
       "      <th>243</th>\n",
       "      <td>30</td>\n",
       "      <td>9</td>\n",
       "      <td>2012</td>\n",
       "      <td>24</td>\n",
       "      <td>64</td>\n",
       "      <td>15</td>\n",
       "      <td>0.2</td>\n",
       "      <td>67.3</td>\n",
       "      <td>3.8</td>\n",
       "      <td>16.5</td>\n",
       "      <td>1.2</td>\n",
       "      <td>4.8</td>\n",
       "      <td>0.5</td>\n",
       "      <td>notfire</td>\n",
       "      <td>1.0</td>\n",
       "    </tr>\n",
       "  </tbody>\n",
       "</table>\n",
       "<p>244 rows × 15 columns</p>\n",
       "</div>"
      ],
      "text/plain": [
       "     day  month  year  Temperature  RH  Ws  Rain  FFMC   DMC    DC  ISI   BUI  \\\n",
       "0      1      6  2012           29  57  18   0.0  65.7   3.4   7.6  1.3   3.4   \n",
       "1      2      6  2012           29  61  13   1.3  64.4   4.1   7.6  1.0   3.9   \n",
       "2      3      6  2012           26  82  22  13.1  47.1   2.5   7.1  0.3   2.7   \n",
       "3      4      6  2012           25  89  13   2.5  28.6   1.3   6.9  0.0   1.7   \n",
       "4      5      6  2012           27  77  16   0.0  64.8   3.0  14.2  1.2   3.9   \n",
       "..   ...    ...   ...          ...  ..  ..   ...   ...   ...   ...  ...   ...   \n",
       "239   26      9  2012           30  65  14   0.0  85.4  16.0  44.5  4.5  16.9   \n",
       "240   27      9  2012           28  87  15   4.4  41.1   6.5   8.0  0.1   6.2   \n",
       "241   28      9  2012           27  87  29   0.5  45.9   3.5   7.9  0.4   3.4   \n",
       "242   29      9  2012           24  54  18   0.1  79.7   4.3  15.2  1.7   5.1   \n",
       "243   30      9  2012           24  64  15   0.2  67.3   3.8  16.5  1.2   4.8   \n",
       "\n",
       "     FWI  Classes  Region  \n",
       "0    0.5  notfire     0.0  \n",
       "1    0.4  notfire     0.0  \n",
       "2    0.1  notfire     0.0  \n",
       "3    0.0  notfire     0.0  \n",
       "4    0.5  notfire     0.0  \n",
       "..   ...      ...     ...  \n",
       "239  6.5     fire     1.0  \n",
       "240  0.0  notfire     1.0  \n",
       "241  0.2  notfire     1.0  \n",
       "242  0.7  notfire     1.0  \n",
       "243  0.5  notfire     1.0  \n",
       "\n",
       "[244 rows x 15 columns]"
      ]
     },
     "execution_count": 149,
     "metadata": {},
     "output_type": "execute_result"
    }
   ],
   "source": [
    "df"
   ]
  },
  {
   "cell_type": "code",
   "execution_count": 151,
   "id": "36bd3067",
   "metadata": {},
   "outputs": [
    {
     "data": {
      "text/plain": [
       "Index(['day', 'month', 'year', 'Temperature', 'RH', 'Ws', 'Rain', 'FFMC',\n",
       "       'DMC', 'DC', 'ISI', 'BUI', 'FWI', 'Classes', 'Region'],\n",
       "      dtype='object')"
      ]
     },
     "execution_count": 151,
     "metadata": {},
     "output_type": "execute_result"
    }
   ],
   "source": [
    "df.columns"
   ]
  },
  {
   "cell_type": "code",
   "execution_count": 153,
   "id": "31397cf8",
   "metadata": {},
   "outputs": [
    {
     "data": {
      "text/plain": [
       "day            0\n",
       "month          0\n",
       "year           0\n",
       "Temperature    0\n",
       "RH             0\n",
       "Ws             0\n",
       "Rain           0\n",
       "FFMC           0\n",
       "DMC            0\n",
       "DC             0\n",
       "ISI            0\n",
       "BUI            0\n",
       "FWI            0\n",
       "Classes        0\n",
       "Region         0\n",
       "dtype: int64"
      ]
     },
     "execution_count": 153,
     "metadata": {},
     "output_type": "execute_result"
    }
   ],
   "source": [
    "df.isnull().sum()"
   ]
  },
  {
   "cell_type": "code",
   "execution_count": 157,
   "id": "8a9af8af",
   "metadata": {},
   "outputs": [
    {
     "data": {
      "text/html": [
       "<div>\n",
       "<style scoped>\n",
       "    .dataframe tbody tr th:only-of-type {\n",
       "        vertical-align: middle;\n",
       "    }\n",
       "\n",
       "    .dataframe tbody tr th {\n",
       "        vertical-align: top;\n",
       "    }\n",
       "\n",
       "    .dataframe thead th {\n",
       "        text-align: right;\n",
       "    }\n",
       "</style>\n",
       "<table border=\"1\" class=\"dataframe\">\n",
       "  <thead>\n",
       "    <tr style=\"text-align: right;\">\n",
       "      <th></th>\n",
       "      <th>day</th>\n",
       "      <th>month</th>\n",
       "      <th>year</th>\n",
       "      <th>Temperature</th>\n",
       "      <th>RH</th>\n",
       "      <th>Ws</th>\n",
       "      <th>Rain</th>\n",
       "      <th>FFMC</th>\n",
       "      <th>DMC</th>\n",
       "      <th>DC</th>\n",
       "      <th>ISI</th>\n",
       "      <th>BUI</th>\n",
       "      <th>FWI</th>\n",
       "      <th>Classes</th>\n",
       "      <th>Region</th>\n",
       "    </tr>\n",
       "  </thead>\n",
       "  <tbody>\n",
       "    <tr>\n",
       "      <th>0</th>\n",
       "      <td>1</td>\n",
       "      <td>6</td>\n",
       "      <td>2012</td>\n",
       "      <td>29</td>\n",
       "      <td>57</td>\n",
       "      <td>18</td>\n",
       "      <td>0.0</td>\n",
       "      <td>65.7</td>\n",
       "      <td>3.4</td>\n",
       "      <td>7.6</td>\n",
       "      <td>1.3</td>\n",
       "      <td>3.4</td>\n",
       "      <td>0.5</td>\n",
       "      <td>notfire</td>\n",
       "      <td>0.0</td>\n",
       "    </tr>\n",
       "    <tr>\n",
       "      <th>1</th>\n",
       "      <td>2</td>\n",
       "      <td>6</td>\n",
       "      <td>2012</td>\n",
       "      <td>29</td>\n",
       "      <td>61</td>\n",
       "      <td>13</td>\n",
       "      <td>1.3</td>\n",
       "      <td>64.4</td>\n",
       "      <td>4.1</td>\n",
       "      <td>7.6</td>\n",
       "      <td>1.0</td>\n",
       "      <td>3.9</td>\n",
       "      <td>0.4</td>\n",
       "      <td>notfire</td>\n",
       "      <td>0.0</td>\n",
       "    </tr>\n",
       "    <tr>\n",
       "      <th>2</th>\n",
       "      <td>3</td>\n",
       "      <td>6</td>\n",
       "      <td>2012</td>\n",
       "      <td>26</td>\n",
       "      <td>82</td>\n",
       "      <td>22</td>\n",
       "      <td>13.1</td>\n",
       "      <td>47.1</td>\n",
       "      <td>2.5</td>\n",
       "      <td>7.1</td>\n",
       "      <td>0.3</td>\n",
       "      <td>2.7</td>\n",
       "      <td>0.1</td>\n",
       "      <td>notfire</td>\n",
       "      <td>0.0</td>\n",
       "    </tr>\n",
       "    <tr>\n",
       "      <th>3</th>\n",
       "      <td>4</td>\n",
       "      <td>6</td>\n",
       "      <td>2012</td>\n",
       "      <td>25</td>\n",
       "      <td>89</td>\n",
       "      <td>13</td>\n",
       "      <td>2.5</td>\n",
       "      <td>28.6</td>\n",
       "      <td>1.3</td>\n",
       "      <td>6.9</td>\n",
       "      <td>0.0</td>\n",
       "      <td>1.7</td>\n",
       "      <td>0.0</td>\n",
       "      <td>notfire</td>\n",
       "      <td>0.0</td>\n",
       "    </tr>\n",
       "    <tr>\n",
       "      <th>4</th>\n",
       "      <td>5</td>\n",
       "      <td>6</td>\n",
       "      <td>2012</td>\n",
       "      <td>27</td>\n",
       "      <td>77</td>\n",
       "      <td>16</td>\n",
       "      <td>0.0</td>\n",
       "      <td>64.8</td>\n",
       "      <td>3.0</td>\n",
       "      <td>14.2</td>\n",
       "      <td>1.2</td>\n",
       "      <td>3.9</td>\n",
       "      <td>0.5</td>\n",
       "      <td>notfire</td>\n",
       "      <td>0.0</td>\n",
       "    </tr>\n",
       "  </tbody>\n",
       "</table>\n",
       "</div>"
      ],
      "text/plain": [
       "   day  month  year  Temperature  RH  Ws  Rain  FFMC  DMC    DC  ISI  BUI  \\\n",
       "0    1      6  2012           29  57  18   0.0  65.7  3.4   7.6  1.3  3.4   \n",
       "1    2      6  2012           29  61  13   1.3  64.4  4.1   7.6  1.0  3.9   \n",
       "2    3      6  2012           26  82  22  13.1  47.1  2.5   7.1  0.3  2.7   \n",
       "3    4      6  2012           25  89  13   2.5  28.6  1.3   6.9  0.0  1.7   \n",
       "4    5      6  2012           27  77  16   0.0  64.8  3.0  14.2  1.2  3.9   \n",
       "\n",
       "   FWI  Classes  Region  \n",
       "0  0.5  notfire     0.0  \n",
       "1  0.4  notfire     0.0  \n",
       "2  0.1  notfire     0.0  \n",
       "3  0.0  notfire     0.0  \n",
       "4  0.5  notfire     0.0  "
      ]
     },
     "execution_count": 157,
     "metadata": {},
     "output_type": "execute_result"
    }
   ],
   "source": [
    "df.head()"
   ]
  },
  {
   "cell_type": "code",
   "execution_count": 160,
   "id": "80adc861",
   "metadata": {},
   "outputs": [],
   "source": [
    "df.to_csv('Algerin_clean.csv', index=False)"
   ]
  },
  {
   "cell_type": "code",
   "execution_count": 161,
   "id": "bcce83fb",
   "metadata": {},
   "outputs": [
    {
     "data": {
      "text/html": [
       "<div>\n",
       "<style scoped>\n",
       "    .dataframe tbody tr th:only-of-type {\n",
       "        vertical-align: middle;\n",
       "    }\n",
       "\n",
       "    .dataframe tbody tr th {\n",
       "        vertical-align: top;\n",
       "    }\n",
       "\n",
       "    .dataframe thead th {\n",
       "        text-align: right;\n",
       "    }\n",
       "</style>\n",
       "<table border=\"1\" class=\"dataframe\">\n",
       "  <thead>\n",
       "    <tr style=\"text-align: right;\">\n",
       "      <th></th>\n",
       "      <th>day</th>\n",
       "      <th>month</th>\n",
       "      <th>year</th>\n",
       "      <th>Temperature</th>\n",
       "      <th>RH</th>\n",
       "      <th>Ws</th>\n",
       "      <th>Rain</th>\n",
       "      <th>FFMC</th>\n",
       "      <th>DMC</th>\n",
       "      <th>DC</th>\n",
       "      <th>ISI</th>\n",
       "      <th>BUI</th>\n",
       "      <th>FWI</th>\n",
       "      <th>Classes</th>\n",
       "      <th>Region</th>\n",
       "    </tr>\n",
       "  </thead>\n",
       "  <tbody>\n",
       "    <tr>\n",
       "      <th>0</th>\n",
       "      <td>1</td>\n",
       "      <td>6</td>\n",
       "      <td>2012</td>\n",
       "      <td>29</td>\n",
       "      <td>57</td>\n",
       "      <td>18</td>\n",
       "      <td>0.0</td>\n",
       "      <td>65.7</td>\n",
       "      <td>3.4</td>\n",
       "      <td>7.6</td>\n",
       "      <td>1.3</td>\n",
       "      <td>3.4</td>\n",
       "      <td>0.5</td>\n",
       "      <td>notfire</td>\n",
       "      <td>0.0</td>\n",
       "    </tr>\n",
       "    <tr>\n",
       "      <th>1</th>\n",
       "      <td>2</td>\n",
       "      <td>6</td>\n",
       "      <td>2012</td>\n",
       "      <td>29</td>\n",
       "      <td>61</td>\n",
       "      <td>13</td>\n",
       "      <td>1.3</td>\n",
       "      <td>64.4</td>\n",
       "      <td>4.1</td>\n",
       "      <td>7.6</td>\n",
       "      <td>1.0</td>\n",
       "      <td>3.9</td>\n",
       "      <td>0.4</td>\n",
       "      <td>notfire</td>\n",
       "      <td>0.0</td>\n",
       "    </tr>\n",
       "    <tr>\n",
       "      <th>2</th>\n",
       "      <td>3</td>\n",
       "      <td>6</td>\n",
       "      <td>2012</td>\n",
       "      <td>26</td>\n",
       "      <td>82</td>\n",
       "      <td>22</td>\n",
       "      <td>13.1</td>\n",
       "      <td>47.1</td>\n",
       "      <td>2.5</td>\n",
       "      <td>7.1</td>\n",
       "      <td>0.3</td>\n",
       "      <td>2.7</td>\n",
       "      <td>0.1</td>\n",
       "      <td>notfire</td>\n",
       "      <td>0.0</td>\n",
       "    </tr>\n",
       "    <tr>\n",
       "      <th>3</th>\n",
       "      <td>4</td>\n",
       "      <td>6</td>\n",
       "      <td>2012</td>\n",
       "      <td>25</td>\n",
       "      <td>89</td>\n",
       "      <td>13</td>\n",
       "      <td>2.5</td>\n",
       "      <td>28.6</td>\n",
       "      <td>1.3</td>\n",
       "      <td>6.9</td>\n",
       "      <td>0.0</td>\n",
       "      <td>1.7</td>\n",
       "      <td>0.0</td>\n",
       "      <td>notfire</td>\n",
       "      <td>0.0</td>\n",
       "    </tr>\n",
       "    <tr>\n",
       "      <th>4</th>\n",
       "      <td>5</td>\n",
       "      <td>6</td>\n",
       "      <td>2012</td>\n",
       "      <td>27</td>\n",
       "      <td>77</td>\n",
       "      <td>16</td>\n",
       "      <td>0.0</td>\n",
       "      <td>64.8</td>\n",
       "      <td>3.0</td>\n",
       "      <td>14.2</td>\n",
       "      <td>1.2</td>\n",
       "      <td>3.9</td>\n",
       "      <td>0.5</td>\n",
       "      <td>notfire</td>\n",
       "      <td>0.0</td>\n",
       "    </tr>\n",
       "    <tr>\n",
       "      <th>...</th>\n",
       "      <td>...</td>\n",
       "      <td>...</td>\n",
       "      <td>...</td>\n",
       "      <td>...</td>\n",
       "      <td>...</td>\n",
       "      <td>...</td>\n",
       "      <td>...</td>\n",
       "      <td>...</td>\n",
       "      <td>...</td>\n",
       "      <td>...</td>\n",
       "      <td>...</td>\n",
       "      <td>...</td>\n",
       "      <td>...</td>\n",
       "      <td>...</td>\n",
       "      <td>...</td>\n",
       "    </tr>\n",
       "    <tr>\n",
       "      <th>239</th>\n",
       "      <td>26</td>\n",
       "      <td>9</td>\n",
       "      <td>2012</td>\n",
       "      <td>30</td>\n",
       "      <td>65</td>\n",
       "      <td>14</td>\n",
       "      <td>0.0</td>\n",
       "      <td>85.4</td>\n",
       "      <td>16.0</td>\n",
       "      <td>44.5</td>\n",
       "      <td>4.5</td>\n",
       "      <td>16.9</td>\n",
       "      <td>6.5</td>\n",
       "      <td>fire</td>\n",
       "      <td>1.0</td>\n",
       "    </tr>\n",
       "    <tr>\n",
       "      <th>240</th>\n",
       "      <td>27</td>\n",
       "      <td>9</td>\n",
       "      <td>2012</td>\n",
       "      <td>28</td>\n",
       "      <td>87</td>\n",
       "      <td>15</td>\n",
       "      <td>4.4</td>\n",
       "      <td>41.1</td>\n",
       "      <td>6.5</td>\n",
       "      <td>8.0</td>\n",
       "      <td>0.1</td>\n",
       "      <td>6.2</td>\n",
       "      <td>0.0</td>\n",
       "      <td>notfire</td>\n",
       "      <td>1.0</td>\n",
       "    </tr>\n",
       "    <tr>\n",
       "      <th>241</th>\n",
       "      <td>28</td>\n",
       "      <td>9</td>\n",
       "      <td>2012</td>\n",
       "      <td>27</td>\n",
       "      <td>87</td>\n",
       "      <td>29</td>\n",
       "      <td>0.5</td>\n",
       "      <td>45.9</td>\n",
       "      <td>3.5</td>\n",
       "      <td>7.9</td>\n",
       "      <td>0.4</td>\n",
       "      <td>3.4</td>\n",
       "      <td>0.2</td>\n",
       "      <td>notfire</td>\n",
       "      <td>1.0</td>\n",
       "    </tr>\n",
       "    <tr>\n",
       "      <th>242</th>\n",
       "      <td>29</td>\n",
       "      <td>9</td>\n",
       "      <td>2012</td>\n",
       "      <td>24</td>\n",
       "      <td>54</td>\n",
       "      <td>18</td>\n",
       "      <td>0.1</td>\n",
       "      <td>79.7</td>\n",
       "      <td>4.3</td>\n",
       "      <td>15.2</td>\n",
       "      <td>1.7</td>\n",
       "      <td>5.1</td>\n",
       "      <td>0.7</td>\n",
       "      <td>notfire</td>\n",
       "      <td>1.0</td>\n",
       "    </tr>\n",
       "    <tr>\n",
       "      <th>243</th>\n",
       "      <td>30</td>\n",
       "      <td>9</td>\n",
       "      <td>2012</td>\n",
       "      <td>24</td>\n",
       "      <td>64</td>\n",
       "      <td>15</td>\n",
       "      <td>0.2</td>\n",
       "      <td>67.3</td>\n",
       "      <td>3.8</td>\n",
       "      <td>16.5</td>\n",
       "      <td>1.2</td>\n",
       "      <td>4.8</td>\n",
       "      <td>0.5</td>\n",
       "      <td>notfire</td>\n",
       "      <td>1.0</td>\n",
       "    </tr>\n",
       "  </tbody>\n",
       "</table>\n",
       "<p>244 rows × 15 columns</p>\n",
       "</div>"
      ],
      "text/plain": [
       "     day  month  year  Temperature  RH  Ws  Rain  FFMC   DMC    DC  ISI   BUI  \\\n",
       "0      1      6  2012           29  57  18   0.0  65.7   3.4   7.6  1.3   3.4   \n",
       "1      2      6  2012           29  61  13   1.3  64.4   4.1   7.6  1.0   3.9   \n",
       "2      3      6  2012           26  82  22  13.1  47.1   2.5   7.1  0.3   2.7   \n",
       "3      4      6  2012           25  89  13   2.5  28.6   1.3   6.9  0.0   1.7   \n",
       "4      5      6  2012           27  77  16   0.0  64.8   3.0  14.2  1.2   3.9   \n",
       "..   ...    ...   ...          ...  ..  ..   ...   ...   ...   ...  ...   ...   \n",
       "239   26      9  2012           30  65  14   0.0  85.4  16.0  44.5  4.5  16.9   \n",
       "240   27      9  2012           28  87  15   4.4  41.1   6.5   8.0  0.1   6.2   \n",
       "241   28      9  2012           27  87  29   0.5  45.9   3.5   7.9  0.4   3.4   \n",
       "242   29      9  2012           24  54  18   0.1  79.7   4.3  15.2  1.7   5.1   \n",
       "243   30      9  2012           24  64  15   0.2  67.3   3.8  16.5  1.2   4.8   \n",
       "\n",
       "     FWI  Classes  Region  \n",
       "0    0.5  notfire     0.0  \n",
       "1    0.4  notfire     0.0  \n",
       "2    0.1  notfire     0.0  \n",
       "3    0.0  notfire     0.0  \n",
       "4    0.5  notfire     0.0  \n",
       "..   ...      ...     ...  \n",
       "239  6.5     fire     1.0  \n",
       "240  0.0  notfire     1.0  \n",
       "241  0.2  notfire     1.0  \n",
       "242  0.7  notfire     1.0  \n",
       "243  0.5  notfire     1.0  \n",
       "\n",
       "[244 rows x 15 columns]"
      ]
     },
     "execution_count": 161,
     "metadata": {},
     "output_type": "execute_result"
    }
   ],
   "source": [
    "pd.read_csv('Algerin_clean.csv')"
   ]
  },
  {
   "cell_type": "code",
   "execution_count": 177,
   "id": "660bff8c",
   "metadata": {},
   "outputs": [
    {
     "data": {
      "text/plain": [
       "<AxesSubplot:ylabel='Region'>"
      ]
     },
     "execution_count": 177,
     "metadata": {},
     "output_type": "execute_result"
    },
    {
     "data": {
      "image/png": "[encoded data removed]",
      "text/plain": [
       "<Figure size 720x720 with 1 Axes>"
      ]
     },
     "metadata": {},
     "output_type": "display_data"
    }
   ],
   "source": [
    "df.groupby(['Classes'])['Region'].sum().nlargest(10).plot.pie()\n",
    "\n"
   ]
  },
  {
   "cell_type": "code",
   "execution_count": 65,
   "id": "ebb9572a",
   "metadata": {},
   "outputs": [
    {
     "data": {
      "text/html": [
       "<div>\n",
       "<style scoped>\n",
       "    .dataframe tbody tr th:only-of-type {\n",
       "        vertical-align: middle;\n",
       "    }\n",
       "\n",
       "    .dataframe tbody tr th {\n",
       "        vertical-align: top;\n",
       "    }\n",
       "\n",
       "    .dataframe thead th {\n",
       "        text-align: right;\n",
       "    }\n",
       "</style>\n",
       "<table border=\"1\" class=\"dataframe\">\n",
       "  <thead>\n",
       "    <tr style=\"text-align: right;\">\n",
       "      <th></th>\n",
       "      <th>day</th>\n",
       "      <th>month</th>\n",
       "      <th>year</th>\n",
       "      <th>Temperature</th>\n",
       "      <th>RH</th>\n",
       "      <th>Ws</th>\n",
       "      <th>Rain</th>\n",
       "      <th>FFMC</th>\n",
       "      <th>DMC</th>\n",
       "      <th>DC</th>\n",
       "      <th>ISI</th>\n",
       "      <th>BUI</th>\n",
       "      <th>FWI</th>\n",
       "      <th>Classes</th>\n",
       "      <th>Region</th>\n",
       "    </tr>\n",
       "  </thead>\n",
       "  <tbody>\n",
       "    <tr>\n",
       "      <th>0</th>\n",
       "      <td>1</td>\n",
       "      <td>6</td>\n",
       "      <td>2012</td>\n",
       "      <td>29</td>\n",
       "      <td>57</td>\n",
       "      <td>18</td>\n",
       "      <td>0.0</td>\n",
       "      <td>65.7</td>\n",
       "      <td>3.4</td>\n",
       "      <td>7.6</td>\n",
       "      <td>1.3</td>\n",
       "      <td>3.4</td>\n",
       "      <td>0.5</td>\n",
       "      <td>notfire</td>\n",
       "      <td>0.0</td>\n",
       "    </tr>\n",
       "    <tr>\n",
       "      <th>1</th>\n",
       "      <td>2</td>\n",
       "      <td>6</td>\n",
       "      <td>2012</td>\n",
       "      <td>29</td>\n",
       "      <td>61</td>\n",
       "      <td>13</td>\n",
       "      <td>1.3</td>\n",
       "      <td>64.4</td>\n",
       "      <td>4.1</td>\n",
       "      <td>7.6</td>\n",
       "      <td>1.0</td>\n",
       "      <td>3.9</td>\n",
       "      <td>0.4</td>\n",
       "      <td>notfire</td>\n",
       "      <td>0.0</td>\n",
       "    </tr>\n",
       "    <tr>\n",
       "      <th>2</th>\n",
       "      <td>3</td>\n",
       "      <td>6</td>\n",
       "      <td>2012</td>\n",
       "      <td>26</td>\n",
       "      <td>82</td>\n",
       "      <td>22</td>\n",
       "      <td>13.1</td>\n",
       "      <td>47.1</td>\n",
       "      <td>2.5</td>\n",
       "      <td>7.1</td>\n",
       "      <td>0.3</td>\n",
       "      <td>2.7</td>\n",
       "      <td>0.1</td>\n",
       "      <td>notfire</td>\n",
       "      <td>0.0</td>\n",
       "    </tr>\n",
       "    <tr>\n",
       "      <th>3</th>\n",
       "      <td>4</td>\n",
       "      <td>6</td>\n",
       "      <td>2012</td>\n",
       "      <td>25</td>\n",
       "      <td>89</td>\n",
       "      <td>13</td>\n",
       "      <td>2.5</td>\n",
       "      <td>28.6</td>\n",
       "      <td>1.3</td>\n",
       "      <td>6.9</td>\n",
       "      <td>0.0</td>\n",
       "      <td>1.7</td>\n",
       "      <td>0.0</td>\n",
       "      <td>notfire</td>\n",
       "      <td>0.0</td>\n",
       "    </tr>\n",
       "    <tr>\n",
       "      <th>4</th>\n",
       "      <td>5</td>\n",
       "      <td>6</td>\n",
       "      <td>2012</td>\n",
       "      <td>27</td>\n",
       "      <td>77</td>\n",
       "      <td>16</td>\n",
       "      <td>0.0</td>\n",
       "      <td>64.8</td>\n",
       "      <td>3.0</td>\n",
       "      <td>14.2</td>\n",
       "      <td>1.2</td>\n",
       "      <td>3.9</td>\n",
       "      <td>0.5</td>\n",
       "      <td>notfire</td>\n",
       "      <td>0.0</td>\n",
       "    </tr>\n",
       "  </tbody>\n",
       "</table>\n",
       "</div>"
      ],
      "text/plain": [
       "   day  month  year  Temperature  RH  Ws  Rain  FFMC  DMC    DC  ISI  BUI  \\\n",
       "0    1      6  2012           29  57  18   0.0  65.7  3.4   7.6  1.3  3.4   \n",
       "1    2      6  2012           29  61  13   1.3  64.4  4.1   7.6  1.0  3.9   \n",
       "2    3      6  2012           26  82  22  13.1  47.1  2.5   7.1  0.3  2.7   \n",
       "3    4      6  2012           25  89  13   2.5  28.6  1.3   6.9  0.0  1.7   \n",
       "4    5      6  2012           27  77  16   0.0  64.8  3.0  14.2  1.2  3.9   \n",
       "\n",
       "   FWI  Classes  Region  \n",
       "0  0.5  notfire     0.0  \n",
       "1  0.4  notfire     0.0  \n",
       "2  0.1  notfire     0.0  \n",
       "3  0.0  notfire     0.0  \n",
       "4  0.5  notfire     0.0  "
      ]
     },
     "execution_count": 65,
     "metadata": {},
     "output_type": "execute_result"
    }
   ],
   "source": [
    "df_copy.head()"
   ]
  },
  {
   "cell_type": "code",
   "execution_count": null,
   "id": "b3ecac9b",
   "metadata": {},
   "outputs": [],
   "source": []
  }
 ],
 "metadata": {
  "kernelspec": {
   "display_name": "Python 3 (ipykernel)",
   "language": "python",
   "name": "python3"
  },
  "language_info": {
   "codemirror_mode": {
    "name": "ipython",
    "version": 3
   },
   "file_extension": ".py",
   "mimetype": "text/x-python",
   "name": "python",
   "nbconvert_exporter": "python",
   "pygments_lexer": "ipython3",
   "version": "3.9.7"
  }
 },
 "nbformat": 4,
 "nbformat_minor": 5
}
